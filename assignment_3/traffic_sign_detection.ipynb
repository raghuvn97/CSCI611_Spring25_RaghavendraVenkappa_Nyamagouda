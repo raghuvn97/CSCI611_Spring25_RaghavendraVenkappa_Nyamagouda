{
 "cells": [
  {
   "cell_type": "code",
   "execution_count": null,
   "id": "ace65d28-2a28-4c48-a286-f31225985545",
   "metadata": {
    "collapsed": true,
    "jupyter": {
     "outputs_hidden": true
    }
   },
   "outputs": [
    {
     "name": "stdout",
     "output_type": "stream",
     "text": [
      "Downloading https://github.com/ultralytics/assets/releases/download/v8.3.0/yolov8n.pt to 'yolov8n.pt'...\n"
     ]
    },
    {
     "name": "stderr",
     "output_type": "stream",
     "text": [
      "100%|██████████████████████████████████████████████████████████████████████████████████████████████████████████████████████████████████████████████████████████████████████| 6.25M/6.25M [00:00<00:00, 43.7MB/s]\n"
     ]
    },
    {
     "name": "stdout",
     "output_type": "stream",
     "text": [
      "Ultralytics 8.3.91 🚀 Python-3.10.12 torch-2.6.0+cu124 CUDA:0 (NVIDIA A100 80GB PCIe, 81051MiB)\n",
      "\u001b[34m\u001b[1mengine/trainer: \u001b[0mtask=detect, mode=train, model=yolov8n.pt, data=dataset.yaml, epochs=50, time=None, patience=100, batch=16, imgsz=640, save=True, save_period=-1, cache=False, device=0, workers=0, project=None, name=train, exist_ok=False, pretrained=True, optimizer=auto, verbose=True, seed=0, deterministic=True, single_cls=False, rect=False, cos_lr=False, close_mosaic=10, resume=False, amp=True, fraction=1.0, profile=False, freeze=None, multi_scale=False, overlap_mask=True, mask_ratio=4, dropout=0.0, val=True, split=val, save_json=False, save_hybrid=False, conf=None, iou=0.7, max_det=300, half=False, dnn=False, plots=True, source=None, vid_stride=1, stream_buffer=False, visualize=False, augment=False, agnostic_nms=False, classes=None, retina_masks=False, embed=None, show=False, save_frames=False, save_txt=False, save_conf=False, save_crop=False, show_labels=True, show_conf=True, show_boxes=True, line_width=None, format=torchscript, keras=False, optimize=False, int8=False, dynamic=False, simplify=True, opset=None, workspace=None, nms=False, lr0=0.01, lrf=0.01, momentum=0.937, weight_decay=0.0005, warmup_epochs=3.0, warmup_momentum=0.8, warmup_bias_lr=0.1, box=7.5, cls=0.5, dfl=1.5, pose=12.0, kobj=1.0, nbs=64, hsv_h=0.015, hsv_s=0.7, hsv_v=0.4, degrees=0.0, translate=0.1, scale=0.5, shear=0.0, perspective=0.0, flipud=0.0, fliplr=0.5, bgr=0.0, mosaic=1.0, mixup=0.0, copy_paste=0.0, copy_paste_mode=flip, auto_augment=randaugment, erasing=0.4, crop_fraction=1.0, cfg=None, tracker=botsort.yaml, save_dir=runs/detect/train\n",
      "Overriding model.yaml nc=80 with nc=4\n",
      "\n",
      "                   from  n    params  module                                       arguments                     \n",
      "  0                  -1  1       464  ultralytics.nn.modules.conv.Conv             [3, 16, 3, 2]                 \n",
      "  1                  -1  1      4672  ultralytics.nn.modules.conv.Conv             [16, 32, 3, 2]                \n",
      "  2                  -1  1      7360  ultralytics.nn.modules.block.C2f             [32, 32, 1, True]             \n",
      "  3                  -1  1     18560  ultralytics.nn.modules.conv.Conv             [32, 64, 3, 2]                \n",
      "  4                  -1  2     49664  ultralytics.nn.modules.block.C2f             [64, 64, 2, True]             \n",
      "  5                  -1  1     73984  ultralytics.nn.modules.conv.Conv             [64, 128, 3, 2]               \n",
      "  6                  -1  2    197632  ultralytics.nn.modules.block.C2f             [128, 128, 2, True]           \n",
      "  7                  -1  1    295424  ultralytics.nn.modules.conv.Conv             [128, 256, 3, 2]              \n",
      "  8                  -1  1    460288  ultralytics.nn.modules.block.C2f             [256, 256, 1, True]           \n",
      "  9                  -1  1    164608  ultralytics.nn.modules.block.SPPF            [256, 256, 5]                 \n",
      " 10                  -1  1         0  torch.nn.modules.upsampling.Upsample         [None, 2, 'nearest']          \n",
      " 11             [-1, 6]  1         0  ultralytics.nn.modules.conv.Concat           [1]                           \n",
      " 12                  -1  1    148224  ultralytics.nn.modules.block.C2f             [384, 128, 1]                 \n",
      " 13                  -1  1         0  torch.nn.modules.upsampling.Upsample         [None, 2, 'nearest']          \n",
      " 14             [-1, 4]  1         0  ultralytics.nn.modules.conv.Concat           [1]                           \n",
      " 15                  -1  1     37248  ultralytics.nn.modules.block.C2f             [192, 64, 1]                  \n",
      " 16                  -1  1     36992  ultralytics.nn.modules.conv.Conv             [64, 64, 3, 2]                \n",
      " 17            [-1, 12]  1         0  ultralytics.nn.modules.conv.Concat           [1]                           \n",
      " 18                  -1  1    123648  ultralytics.nn.modules.block.C2f             [192, 128, 1]                 \n",
      " 19                  -1  1    147712  ultralytics.nn.modules.conv.Conv             [128, 128, 3, 2]              \n",
      " 20             [-1, 9]  1         0  ultralytics.nn.modules.conv.Concat           [1]                           \n",
      " 21                  -1  1    493056  ultralytics.nn.modules.block.C2f             [384, 256, 1]                 \n",
      " 22        [15, 18, 21]  1    752092  ultralytics.nn.modules.head.Detect           [4, [64, 128, 256]]           \n",
      "Model summary: 129 layers, 3,011,628 parameters, 3,011,612 gradients, 8.2 GFLOPs\n",
      "\n",
      "Transferred 319/355 items from pretrained weights\n",
      "Freezing layer 'model.22.dfl.conv.weight'\n",
      "\u001b[34m\u001b[1mAMP: \u001b[0mrunning Automatic Mixed Precision (AMP) checks...\n",
      "Downloading https://github.com/ultralytics/assets/releases/download/v8.3.0/yolo11n.pt to 'yolo11n.pt'...\n"
     ]
    },
    {
     "name": "stderr",
     "output_type": "stream",
     "text": [
      "100%|██████████████████████████████████████████████████████████████████████████████████████████████████████████████████████████████████████████████████████████████████████| 5.35M/5.35M [00:00<00:00, 62.8MB/s]\n"
     ]
    },
    {
     "name": "stdout",
     "output_type": "stream",
     "text": [
      "\u001b[34m\u001b[1mAMP: \u001b[0mchecks passed ✅\n"
     ]
    },
    {
     "name": "stderr",
     "output_type": "stream",
     "text": [
      "\u001b[34m\u001b[1mtrain: \u001b[0mScanning /home/rvnyamagouda/csci611/datasets/train/labels.cache... 877 images, 0 backgrounds, 0 corrupt: 100%|██████████| 877/877 [00:00<?, ?it/s]\u001b[0m\n",
      "\u001b[34m\u001b[1mval: \u001b[0mScanning /home/rvnyamagouda/csci611/datasets/valid/labels.cache... 877 images, 0 backgrounds, 0 corrupt: 100%|██████████| 877/877 [00:00<?, ?it/s]\u001b[0m\n"
     ]
    },
    {
     "name": "stdout",
     "output_type": "stream",
     "text": [
      "Plotting labels to runs/detect/train/labels.jpg... \n",
      "\u001b[34m\u001b[1moptimizer:\u001b[0m 'optimizer=auto' found, ignoring 'lr0=0.01' and 'momentum=0.937' and determining best 'optimizer', 'lr0' and 'momentum' automatically... \n",
      "\u001b[34m\u001b[1moptimizer:\u001b[0m AdamW(lr=0.00125, momentum=0.9) with parameter groups 57 weight(decay=0.0), 64 weight(decay=0.0005), 63 bias(decay=0.0)\n",
      "Image sizes 640 train, 640 val\n",
      "Using 0 dataloader workers\n",
      "Logging results to \u001b[1mruns/detect/train\u001b[0m\n",
      "Starting training for 50 epochs...\n",
      "\n",
      "      Epoch    GPU_mem   box_loss   cls_loss   dfl_loss  Instances       Size\n"
     ]
    },
    {
     "name": "stderr",
     "output_type": "stream",
     "text": [
      "       1/50      2.07G     0.7865      2.329      0.943         31        640: 100%|██████████| 55/55 [00:22<00:00,  2.39it/s]\n",
      "                 Class     Images  Instances      Box(P          R      mAP50  mAP50-95): 100%|██████████| 28/28 [00:12<00:00,  2.31it/s]"
     ]
    },
    {
     "name": "stdout",
     "output_type": "stream",
     "text": [
      "                   all        877       1244      0.916      0.164      0.678      0.539\n"
     ]
    },
    {
     "name": "stderr",
     "output_type": "stream",
     "text": [
      "\n"
     ]
    },
    {
     "name": "stdout",
     "output_type": "stream",
     "text": [
      "\n",
      "      Epoch    GPU_mem   box_loss   cls_loss   dfl_loss  Instances       Size\n"
     ]
    },
    {
     "name": "stderr",
     "output_type": "stream",
     "text": [
      "       2/50      2.69G     0.7777      1.353     0.9445         34        640: 100%|██████████| 55/55 [00:21<00:00,  2.54it/s]\n",
      "                 Class     Images  Instances      Box(P          R      mAP50  mAP50-95): 100%|██████████| 28/28 [00:11<00:00,  2.37it/s]"
     ]
    },
    {
     "name": "stdout",
     "output_type": "stream",
     "text": [
      "                   all        877       1244      0.647      0.636       0.73      0.558\n"
     ]
    },
    {
     "name": "stderr",
     "output_type": "stream",
     "text": [
      "\n"
     ]
    },
    {
     "name": "stdout",
     "output_type": "stream",
     "text": [
      "\n",
      "      Epoch    GPU_mem   box_loss   cls_loss   dfl_loss  Instances       Size\n"
     ]
    },
    {
     "name": "stderr",
     "output_type": "stream",
     "text": [
      "       3/50      2.71G     0.7607      1.212     0.9474         34        640: 100%|██████████| 55/55 [00:21<00:00,  2.56it/s]\n",
      "                 Class     Images  Instances      Box(P          R      mAP50  mAP50-95): 100%|██████████| 28/28 [00:11<00:00,  2.37it/s]"
     ]
    },
    {
     "name": "stdout",
     "output_type": "stream",
     "text": [
      "                   all        877       1244      0.681      0.662      0.716      0.559\n"
     ]
    },
    {
     "name": "stderr",
     "output_type": "stream",
     "text": [
      "\n"
     ]
    },
    {
     "name": "stdout",
     "output_type": "stream",
     "text": [
      "\n",
      "      Epoch    GPU_mem   box_loss   cls_loss   dfl_loss  Instances       Size\n"
     ]
    },
    {
     "name": "stderr",
     "output_type": "stream",
     "text": [
      "       4/50      2.73G     0.7705      1.118     0.9603         33        640: 100%|██████████| 55/55 [00:21<00:00,  2.55it/s]\n",
      "                 Class     Images  Instances      Box(P          R      mAP50  mAP50-95): 100%|██████████| 28/28 [00:11<00:00,  2.39it/s]"
     ]
    },
    {
     "name": "stdout",
     "output_type": "stream",
     "text": [
      "                   all        877       1244      0.861      0.777      0.838       0.64\n"
     ]
    },
    {
     "name": "stderr",
     "output_type": "stream",
     "text": [
      "\n"
     ]
    },
    {
     "name": "stdout",
     "output_type": "stream",
     "text": [
      "\n",
      "      Epoch    GPU_mem   box_loss   cls_loss   dfl_loss  Instances       Size\n"
     ]
    },
    {
     "name": "stderr",
     "output_type": "stream",
     "text": [
      "       5/50      2.74G     0.7474     0.9645     0.9416         39        640: 100%|██████████| 55/55 [00:21<00:00,  2.55it/s]\n",
      "                 Class     Images  Instances      Box(P          R      mAP50  mAP50-95): 100%|██████████| 28/28 [00:11<00:00,  2.40it/s]"
     ]
    },
    {
     "name": "stdout",
     "output_type": "stream",
     "text": [
      "                   all        877       1244      0.798      0.823      0.853       0.66\n"
     ]
    },
    {
     "name": "stderr",
     "output_type": "stream",
     "text": [
      "\n"
     ]
    },
    {
     "name": "stdout",
     "output_type": "stream",
     "text": [
      "\n",
      "      Epoch    GPU_mem   box_loss   cls_loss   dfl_loss  Instances       Size\n"
     ]
    },
    {
     "name": "stderr",
     "output_type": "stream",
     "text": [
      "       6/50      2.76G     0.7543      0.884     0.9546         41        640: 100%|██████████| 55/55 [00:21<00:00,  2.55it/s]\n",
      "                 Class     Images  Instances      Box(P          R      mAP50  mAP50-95): 100%|██████████| 28/28 [00:11<00:00,  2.34it/s]"
     ]
    },
    {
     "name": "stdout",
     "output_type": "stream",
     "text": [
      "                   all        877       1244      0.891      0.852      0.915      0.724\n"
     ]
    },
    {
     "name": "stderr",
     "output_type": "stream",
     "text": [
      "\n"
     ]
    },
    {
     "name": "stdout",
     "output_type": "stream",
     "text": [
      "\n",
      "      Epoch    GPU_mem   box_loss   cls_loss   dfl_loss  Instances       Size\n"
     ]
    },
    {
     "name": "stderr",
     "output_type": "stream",
     "text": [
      "       7/50      2.78G     0.7185     0.7833     0.9418         28        640: 100%|██████████| 55/55 [00:21<00:00,  2.52it/s]\n",
      "                 Class     Images  Instances      Box(P          R      mAP50  mAP50-95): 100%|██████████| 28/28 [00:11<00:00,  2.40it/s]"
     ]
    },
    {
     "name": "stdout",
     "output_type": "stream",
     "text": [
      "                   all        877       1244      0.881      0.832       0.87      0.712\n"
     ]
    },
    {
     "name": "stderr",
     "output_type": "stream",
     "text": [
      "\n"
     ]
    },
    {
     "name": "stdout",
     "output_type": "stream",
     "text": [
      "\n",
      "      Epoch    GPU_mem   box_loss   cls_loss   dfl_loss  Instances       Size\n"
     ]
    },
    {
     "name": "stderr",
     "output_type": "stream",
     "text": [
      "       8/50      2.79G     0.7178     0.7639     0.9406         30        640: 100%|██████████| 55/55 [00:21<00:00,  2.52it/s]\n",
      "                 Class     Images  Instances      Box(P          R      mAP50  mAP50-95): 100%|██████████| 28/28 [00:11<00:00,  2.41it/s]"
     ]
    },
    {
     "name": "stdout",
     "output_type": "stream",
     "text": [
      "                   all        877       1244      0.926      0.836      0.914       0.74\n"
     ]
    },
    {
     "name": "stderr",
     "output_type": "stream",
     "text": [
      "\n"
     ]
    },
    {
     "name": "stdout",
     "output_type": "stream",
     "text": [
      "\n",
      "      Epoch    GPU_mem   box_loss   cls_loss   dfl_loss  Instances       Size\n"
     ]
    },
    {
     "name": "stderr",
     "output_type": "stream",
     "text": [
      "       9/50      2.81G     0.6833      0.713     0.9291         25        640: 100%|██████████| 55/55 [00:21<00:00,  2.52it/s]\n",
      "                 Class     Images  Instances      Box(P          R      mAP50  mAP50-95): 100%|██████████| 28/28 [00:11<00:00,  2.38it/s]"
     ]
    },
    {
     "name": "stdout",
     "output_type": "stream",
     "text": [
      "                   all        877       1244      0.889      0.873      0.916      0.743\n"
     ]
    },
    {
     "name": "stderr",
     "output_type": "stream",
     "text": [
      "\n"
     ]
    },
    {
     "name": "stdout",
     "output_type": "stream",
     "text": [
      "\n",
      "      Epoch    GPU_mem   box_loss   cls_loss   dfl_loss  Instances       Size\n"
     ]
    },
    {
     "name": "stderr",
     "output_type": "stream",
     "text": [
      "      10/50      2.81G     0.6742     0.6469     0.9165         27        640: 100%|██████████| 55/55 [00:21<00:00,  2.53it/s]\n",
      "                 Class     Images  Instances      Box(P          R      mAP50  mAP50-95): 100%|██████████| 28/28 [00:11<00:00,  2.36it/s]"
     ]
    },
    {
     "name": "stdout",
     "output_type": "stream",
     "text": [
      "                   all        877       1244      0.912      0.847      0.907      0.735\n"
     ]
    },
    {
     "name": "stderr",
     "output_type": "stream",
     "text": [
      "\n"
     ]
    },
    {
     "name": "stdout",
     "output_type": "stream",
     "text": [
      "\n",
      "      Epoch    GPU_mem   box_loss   cls_loss   dfl_loss  Instances       Size\n"
     ]
    },
    {
     "name": "stderr",
     "output_type": "stream",
     "text": [
      "      11/50      2.81G     0.6796     0.6474      0.915         22        640: 100%|██████████| 55/55 [00:21<00:00,  2.52it/s]\n",
      "                 Class     Images  Instances      Box(P          R      mAP50  mAP50-95): 100%|██████████| 28/28 [00:11<00:00,  2.39it/s]"
     ]
    },
    {
     "name": "stdout",
     "output_type": "stream",
     "text": [
      "                   all        877       1244      0.896      0.883      0.943      0.775\n"
     ]
    },
    {
     "name": "stderr",
     "output_type": "stream",
     "text": [
      "\n"
     ]
    },
    {
     "name": "stdout",
     "output_type": "stream",
     "text": [
      "\n",
      "      Epoch    GPU_mem   box_loss   cls_loss   dfl_loss  Instances       Size\n"
     ]
    },
    {
     "name": "stderr",
     "output_type": "stream",
     "text": [
      "      12/50      2.81G     0.6683     0.6061     0.9187         25        640: 100%|██████████| 55/55 [00:21<00:00,  2.54it/s]\n",
      "                 Class     Images  Instances      Box(P          R      mAP50  mAP50-95): 100%|██████████| 28/28 [00:11<00:00,  2.44it/s]"
     ]
    },
    {
     "name": "stdout",
     "output_type": "stream",
     "text": [
      "                   all        877       1244      0.906       0.91       0.94      0.774\n"
     ]
    },
    {
     "name": "stderr",
     "output_type": "stream",
     "text": [
      "\n"
     ]
    },
    {
     "name": "stdout",
     "output_type": "stream",
     "text": [
      "\n",
      "      Epoch    GPU_mem   box_loss   cls_loss   dfl_loss  Instances       Size\n"
     ]
    },
    {
     "name": "stderr",
     "output_type": "stream",
     "text": [
      "      13/50      2.81G     0.6497     0.5725     0.9023         32        640: 100%|██████████| 55/55 [00:21<00:00,  2.54it/s]\n",
      "                 Class     Images  Instances      Box(P          R      mAP50  mAP50-95): 100%|██████████| 28/28 [00:11<00:00,  2.42it/s]"
     ]
    },
    {
     "name": "stdout",
     "output_type": "stream",
     "text": [
      "                   all        877       1244      0.944       0.93      0.958      0.783\n"
     ]
    },
    {
     "name": "stderr",
     "output_type": "stream",
     "text": [
      "\n"
     ]
    },
    {
     "name": "stdout",
     "output_type": "stream",
     "text": [
      "\n",
      "      Epoch    GPU_mem   box_loss   cls_loss   dfl_loss  Instances       Size\n"
     ]
    },
    {
     "name": "stderr",
     "output_type": "stream",
     "text": [
      "      14/50      2.81G     0.6372     0.5392     0.9036         26        640: 100%|██████████| 55/55 [00:21<00:00,  2.54it/s]\n",
      "                 Class     Images  Instances      Box(P          R      mAP50  mAP50-95): 100%|██████████| 28/28 [00:12<00:00,  2.30it/s]"
     ]
    },
    {
     "name": "stdout",
     "output_type": "stream",
     "text": [
      "                   all        877       1244       0.94      0.928      0.959      0.784\n"
     ]
    },
    {
     "name": "stderr",
     "output_type": "stream",
     "text": [
      "\n"
     ]
    },
    {
     "name": "stdout",
     "output_type": "stream",
     "text": [
      "\n",
      "      Epoch    GPU_mem   box_loss   cls_loss   dfl_loss  Instances       Size\n"
     ]
    },
    {
     "name": "stderr",
     "output_type": "stream",
     "text": [
      "      15/50      2.81G       0.64     0.5349     0.9039         38        640: 100%|██████████| 55/55 [00:21<00:00,  2.50it/s]\n",
      "                 Class     Images  Instances      Box(P          R      mAP50  mAP50-95): 100%|██████████| 28/28 [00:11<00:00,  2.42it/s]"
     ]
    },
    {
     "name": "stdout",
     "output_type": "stream",
     "text": [
      "                   all        877       1244      0.929      0.926      0.956       0.78\n"
     ]
    },
    {
     "name": "stderr",
     "output_type": "stream",
     "text": [
      "\n"
     ]
    },
    {
     "name": "stdout",
     "output_type": "stream",
     "text": [
      "\n",
      "      Epoch    GPU_mem   box_loss   cls_loss   dfl_loss  Instances       Size\n"
     ]
    },
    {
     "name": "stderr",
     "output_type": "stream",
     "text": [
      "      16/50      2.81G      0.646     0.5298     0.9107         28        640: 100%|██████████| 55/55 [00:22<00:00,  2.50it/s]\n",
      "                 Class     Images  Instances      Box(P          R      mAP50  mAP50-95): 100%|██████████| 28/28 [00:11<00:00,  2.40it/s]"
     ]
    },
    {
     "name": "stdout",
     "output_type": "stream",
     "text": [
      "                   all        877       1244      0.968      0.945      0.968      0.796\n"
     ]
    },
    {
     "name": "stderr",
     "output_type": "stream",
     "text": [
      "\n"
     ]
    },
    {
     "name": "stdout",
     "output_type": "stream",
     "text": [
      "\n",
      "      Epoch    GPU_mem   box_loss   cls_loss   dfl_loss  Instances       Size\n"
     ]
    },
    {
     "name": "stderr",
     "output_type": "stream",
     "text": [
      "      17/50      2.81G     0.6237     0.5076      0.899         39        640: 100%|██████████| 55/55 [00:22<00:00,  2.50it/s]\n",
      "                 Class     Images  Instances      Box(P          R      mAP50  mAP50-95): 100%|██████████| 28/28 [00:11<00:00,  2.39it/s]"
     ]
    },
    {
     "name": "stdout",
     "output_type": "stream",
     "text": [
      "                   all        877       1244      0.957      0.932      0.963      0.805\n"
     ]
    },
    {
     "name": "stderr",
     "output_type": "stream",
     "text": [
      "\n"
     ]
    },
    {
     "name": "stdout",
     "output_type": "stream",
     "text": [
      "\n",
      "      Epoch    GPU_mem   box_loss   cls_loss   dfl_loss  Instances       Size\n"
     ]
    },
    {
     "name": "stderr",
     "output_type": "stream",
     "text": [
      "      18/50      2.81G     0.6223     0.4958     0.8964         44        640: 100%|██████████| 55/55 [00:22<00:00,  2.50it/s]\n",
      "                 Class     Images  Instances      Box(P          R      mAP50  mAP50-95): 100%|██████████| 28/28 [00:11<00:00,  2.39it/s]"
     ]
    },
    {
     "name": "stdout",
     "output_type": "stream",
     "text": [
      "                   all        877       1244      0.935       0.94      0.964      0.795\n"
     ]
    },
    {
     "name": "stderr",
     "output_type": "stream",
     "text": [
      "\n"
     ]
    },
    {
     "name": "stdout",
     "output_type": "stream",
     "text": [
      "\n",
      "      Epoch    GPU_mem   box_loss   cls_loss   dfl_loss  Instances       Size\n"
     ]
    },
    {
     "name": "stderr",
     "output_type": "stream",
     "text": [
      "      19/50      2.81G     0.6057      0.504     0.8894         47        640: 100%|██████████| 55/55 [00:21<00:00,  2.54it/s]\n",
      "                 Class     Images  Instances      Box(P          R      mAP50  mAP50-95): 100%|██████████| 28/28 [00:11<00:00,  2.44it/s]"
     ]
    },
    {
     "name": "stdout",
     "output_type": "stream",
     "text": [
      "                   all        877       1244      0.965      0.944       0.97      0.818\n"
     ]
    },
    {
     "name": "stderr",
     "output_type": "stream",
     "text": [
      "\n"
     ]
    },
    {
     "name": "stdout",
     "output_type": "stream",
     "text": [
      "\n",
      "      Epoch    GPU_mem   box_loss   cls_loss   dfl_loss  Instances       Size\n"
     ]
    },
    {
     "name": "stderr",
     "output_type": "stream",
     "text": [
      "      20/50      2.81G     0.6187     0.4929     0.8998         28        640: 100%|██████████| 55/55 [00:21<00:00,  2.55it/s]\n",
      "                 Class     Images  Instances      Box(P          R      mAP50  mAP50-95): 100%|██████████| 28/28 [00:11<00:00,  2.44it/s]"
     ]
    },
    {
     "name": "stdout",
     "output_type": "stream",
     "text": [
      "                   all        877       1244      0.949      0.938      0.969      0.819\n"
     ]
    },
    {
     "name": "stderr",
     "output_type": "stream",
     "text": [
      "\n"
     ]
    },
    {
     "name": "stdout",
     "output_type": "stream",
     "text": [
      "\n",
      "      Epoch    GPU_mem   box_loss   cls_loss   dfl_loss  Instances       Size\n"
     ]
    },
    {
     "name": "stderr",
     "output_type": "stream",
     "text": [
      "      21/50      2.81G     0.5912     0.4663     0.8914         28        640: 100%|██████████| 55/55 [00:21<00:00,  2.55it/s]\n",
      "                 Class     Images  Instances      Box(P          R      mAP50  mAP50-95): 100%|██████████| 28/28 [00:11<00:00,  2.42it/s]"
     ]
    },
    {
     "name": "stdout",
     "output_type": "stream",
     "text": [
      "                   all        877       1244      0.965      0.929      0.967      0.807\n"
     ]
    },
    {
     "name": "stderr",
     "output_type": "stream",
     "text": [
      "\n"
     ]
    },
    {
     "name": "stdout",
     "output_type": "stream",
     "text": [
      "\n",
      "      Epoch    GPU_mem   box_loss   cls_loss   dfl_loss  Instances       Size\n"
     ]
    },
    {
     "name": "stderr",
     "output_type": "stream",
     "text": [
      "      22/50      2.81G     0.5938     0.4532     0.8858         36        640: 100%|██████████| 55/55 [00:21<00:00,  2.56it/s]\n",
      "                 Class     Images  Instances      Box(P          R      mAP50  mAP50-95): 100%|██████████| 28/28 [00:11<00:00,  2.43it/s]"
     ]
    },
    {
     "name": "stdout",
     "output_type": "stream",
     "text": [
      "                   all        877       1244      0.966      0.945      0.977      0.832\n"
     ]
    },
    {
     "name": "stderr",
     "output_type": "stream",
     "text": [
      "\n"
     ]
    },
    {
     "name": "stdout",
     "output_type": "stream",
     "text": [
      "\n",
      "      Epoch    GPU_mem   box_loss   cls_loss   dfl_loss  Instances       Size\n"
     ]
    },
    {
     "name": "stderr",
     "output_type": "stream",
     "text": [
      "      23/50      2.81G     0.5946     0.4409     0.8814         35        640: 100%|██████████| 55/55 [00:21<00:00,  2.54it/s]\n",
      "                 Class     Images  Instances      Box(P          R      mAP50  mAP50-95): 100%|██████████| 28/28 [00:11<00:00,  2.35it/s]"
     ]
    },
    {
     "name": "stdout",
     "output_type": "stream",
     "text": [
      "                   all        877       1244      0.968      0.967      0.981      0.831\n"
     ]
    },
    {
     "name": "stderr",
     "output_type": "stream",
     "text": [
      "\n"
     ]
    },
    {
     "name": "stdout",
     "output_type": "stream",
     "text": [
      "\n",
      "      Epoch    GPU_mem   box_loss   cls_loss   dfl_loss  Instances       Size\n"
     ]
    },
    {
     "name": "stderr",
     "output_type": "stream",
     "text": [
      "      24/50      2.81G     0.5928     0.4365      0.882         33        640: 100%|██████████| 55/55 [00:21<00:00,  2.54it/s]\n",
      "                 Class     Images  Instances      Box(P          R      mAP50  mAP50-95): 100%|██████████| 28/28 [00:11<00:00,  2.45it/s]"
     ]
    },
    {
     "name": "stdout",
     "output_type": "stream",
     "text": [
      "                   all        877       1244      0.983       0.96       0.98      0.828\n"
     ]
    },
    {
     "name": "stderr",
     "output_type": "stream",
     "text": [
      "\n"
     ]
    },
    {
     "name": "stdout",
     "output_type": "stream",
     "text": [
      "\n",
      "      Epoch    GPU_mem   box_loss   cls_loss   dfl_loss  Instances       Size\n"
     ]
    },
    {
     "name": "stderr",
     "output_type": "stream",
     "text": [
      "      25/50      2.81G     0.5823     0.4143     0.8806         39        640: 100%|██████████| 55/55 [00:21<00:00,  2.53it/s]\n",
      "                 Class     Images  Instances      Box(P          R      mAP50  mAP50-95): 100%|██████████| 28/28 [00:11<00:00,  2.43it/s]"
     ]
    },
    {
     "name": "stdout",
     "output_type": "stream",
     "text": [
      "                   all        877       1244      0.976      0.958      0.974      0.816\n"
     ]
    },
    {
     "name": "stderr",
     "output_type": "stream",
     "text": [
      "\n"
     ]
    },
    {
     "name": "stdout",
     "output_type": "stream",
     "text": [
      "\n",
      "      Epoch    GPU_mem   box_loss   cls_loss   dfl_loss  Instances       Size\n"
     ]
    },
    {
     "name": "stderr",
     "output_type": "stream",
     "text": [
      "      26/50      2.81G     0.5687     0.4079      0.876         36        640: 100%|██████████| 55/55 [00:21<00:00,  2.53it/s]\n",
      "                 Class     Images  Instances      Box(P          R      mAP50  mAP50-95): 100%|██████████| 28/28 [00:11<00:00,  2.42it/s]"
     ]
    },
    {
     "name": "stdout",
     "output_type": "stream",
     "text": [
      "                   all        877       1244      0.963       0.97      0.979      0.838\n"
     ]
    },
    {
     "name": "stderr",
     "output_type": "stream",
     "text": [
      "\n"
     ]
    },
    {
     "name": "stdout",
     "output_type": "stream",
     "text": [
      "\n",
      "      Epoch    GPU_mem   box_loss   cls_loss   dfl_loss  Instances       Size\n"
     ]
    },
    {
     "name": "stderr",
     "output_type": "stream",
     "text": [
      "      27/50      2.81G     0.5637     0.4038     0.8731         41        640: 100%|██████████| 55/55 [00:21<00:00,  2.55it/s]\n",
      "                 Class     Images  Instances      Box(P          R      mAP50  mAP50-95): 100%|██████████| 28/28 [00:12<00:00,  2.24it/s]"
     ]
    },
    {
     "name": "stdout",
     "output_type": "stream",
     "text": [
      "                   all        877       1244      0.959       0.97      0.981      0.843\n"
     ]
    },
    {
     "name": "stderr",
     "output_type": "stream",
     "text": [
      "\n"
     ]
    },
    {
     "name": "stdout",
     "output_type": "stream",
     "text": [
      "\n",
      "      Epoch    GPU_mem   box_loss   cls_loss   dfl_loss  Instances       Size\n"
     ]
    },
    {
     "name": "stderr",
     "output_type": "stream",
     "text": [
      "      28/50      2.81G     0.5701     0.4008     0.8834         27        640: 100%|██████████| 55/55 [00:21<00:00,  2.56it/s]\n",
      "                 Class     Images  Instances      Box(P          R      mAP50  mAP50-95): 100%|██████████| 28/28 [00:11<00:00,  2.44it/s]"
     ]
    },
    {
     "name": "stdout",
     "output_type": "stream",
     "text": [
      "                   all        877       1244      0.967       0.95      0.981      0.848\n"
     ]
    },
    {
     "name": "stderr",
     "output_type": "stream",
     "text": [
      "\n"
     ]
    },
    {
     "name": "stdout",
     "output_type": "stream",
     "text": [
      "\n",
      "      Epoch    GPU_mem   box_loss   cls_loss   dfl_loss  Instances       Size\n"
     ]
    },
    {
     "name": "stderr",
     "output_type": "stream",
     "text": [
      "      29/50      2.81G     0.5674     0.3979     0.8736         25        640: 100%|██████████| 55/55 [00:21<00:00,  2.57it/s]\n",
      "                 Class     Images  Instances      Box(P          R      mAP50  mAP50-95): 100%|██████████| 28/28 [00:11<00:00,  2.45it/s]"
     ]
    },
    {
     "name": "stdout",
     "output_type": "stream",
     "text": [
      "                   all        877       1244       0.97      0.959      0.979      0.849\n"
     ]
    },
    {
     "name": "stderr",
     "output_type": "stream",
     "text": [
      "\n"
     ]
    },
    {
     "name": "stdout",
     "output_type": "stream",
     "text": [
      "\n",
      "      Epoch    GPU_mem   box_loss   cls_loss   dfl_loss  Instances       Size\n"
     ]
    },
    {
     "name": "stderr",
     "output_type": "stream",
     "text": [
      "      30/50      2.81G     0.5579     0.3959     0.8729         34        640: 100%|██████████| 55/55 [00:21<00:00,  2.54it/s]\n",
      "                 Class     Images  Instances      Box(P          R      mAP50  mAP50-95): 100%|██████████| 28/28 [00:11<00:00,  2.43it/s]"
     ]
    },
    {
     "name": "stdout",
     "output_type": "stream",
     "text": [
      "                   all        877       1244      0.988      0.954      0.984      0.855\n"
     ]
    },
    {
     "name": "stderr",
     "output_type": "stream",
     "text": [
      "\n"
     ]
    },
    {
     "name": "stdout",
     "output_type": "stream",
     "text": [
      "\n",
      "      Epoch    GPU_mem   box_loss   cls_loss   dfl_loss  Instances       Size\n"
     ]
    },
    {
     "name": "stderr",
     "output_type": "stream",
     "text": [
      "      31/50      2.81G     0.5599     0.3919     0.8763         50        640: 100%|██████████| 55/55 [00:21<00:00,  2.55it/s]\n",
      "                 Class     Images  Instances      Box(P          R      mAP50  mAP50-95): 100%|██████████| 28/28 [00:11<00:00,  2.44it/s]"
     ]
    },
    {
     "name": "stdout",
     "output_type": "stream",
     "text": [
      "                   all        877       1244      0.971       0.97      0.989      0.855\n"
     ]
    },
    {
     "name": "stderr",
     "output_type": "stream",
     "text": [
      "\n"
     ]
    },
    {
     "name": "stdout",
     "output_type": "stream",
     "text": [
      "\n",
      "      Epoch    GPU_mem   box_loss   cls_loss   dfl_loss  Instances       Size\n"
     ]
    },
    {
     "name": "stderr",
     "output_type": "stream",
     "text": [
      "      32/50      2.81G      0.556     0.3828     0.8742         35        640: 100%|██████████| 55/55 [00:21<00:00,  2.53it/s]\n",
      "                 Class     Images  Instances      Box(P          R      mAP50  mAP50-95): 100%|██████████| 28/28 [00:11<00:00,  2.42it/s]"
     ]
    },
    {
     "name": "stdout",
     "output_type": "stream",
     "text": [
      "                   all        877       1244      0.988      0.968      0.989      0.855\n"
     ]
    },
    {
     "name": "stderr",
     "output_type": "stream",
     "text": [
      "\n"
     ]
    },
    {
     "name": "stdout",
     "output_type": "stream",
     "text": [
      "\n",
      "      Epoch    GPU_mem   box_loss   cls_loss   dfl_loss  Instances       Size\n"
     ]
    },
    {
     "name": "stderr",
     "output_type": "stream",
     "text": [
      "      33/50      2.81G     0.5425     0.3724     0.8726         26        640: 100%|██████████| 55/55 [00:21<00:00,  2.57it/s]\n",
      "                 Class     Images  Instances      Box(P          R      mAP50  mAP50-95): 100%|██████████| 28/28 [00:11<00:00,  2.43it/s]"
     ]
    },
    {
     "name": "stdout",
     "output_type": "stream",
     "text": [
      "                   all        877       1244       0.98      0.974      0.987      0.861\n"
     ]
    },
    {
     "name": "stderr",
     "output_type": "stream",
     "text": [
      "\n"
     ]
    },
    {
     "name": "stdout",
     "output_type": "stream",
     "text": [
      "\n",
      "      Epoch    GPU_mem   box_loss   cls_loss   dfl_loss  Instances       Size\n"
     ]
    },
    {
     "name": "stderr",
     "output_type": "stream",
     "text": [
      "      34/50      2.81G     0.5325     0.3642     0.8709         39        640: 100%|██████████| 55/55 [00:21<00:00,  2.56it/s]\n",
      "                 Class     Images  Instances      Box(P          R      mAP50  mAP50-95): 100%|██████████| 28/28 [00:12<00:00,  2.33it/s]"
     ]
    },
    {
     "name": "stdout",
     "output_type": "stream",
     "text": [
      "                   all        877       1244      0.991      0.971      0.989      0.865\n"
     ]
    },
    {
     "name": "stderr",
     "output_type": "stream",
     "text": [
      "\n"
     ]
    },
    {
     "name": "stdout",
     "output_type": "stream",
     "text": [
      "\n",
      "      Epoch    GPU_mem   box_loss   cls_loss   dfl_loss  Instances       Size\n"
     ]
    },
    {
     "name": "stderr",
     "output_type": "stream",
     "text": [
      "      35/50      2.81G     0.5458     0.3744     0.8637         32        640: 100%|██████████| 55/55 [00:21<00:00,  2.55it/s]\n",
      "                 Class     Images  Instances      Box(P          R      mAP50  mAP50-95): 100%|██████████| 28/28 [00:11<00:00,  2.44it/s]"
     ]
    },
    {
     "name": "stdout",
     "output_type": "stream",
     "text": [
      "                   all        877       1244      0.981      0.973      0.989      0.877\n"
     ]
    },
    {
     "name": "stderr",
     "output_type": "stream",
     "text": [
      "\n"
     ]
    },
    {
     "name": "stdout",
     "output_type": "stream",
     "text": [
      "\n",
      "      Epoch    GPU_mem   box_loss   cls_loss   dfl_loss  Instances       Size\n"
     ]
    },
    {
     "name": "stderr",
     "output_type": "stream",
     "text": [
      "      36/50      2.81G     0.5297     0.3557     0.8611         43        640: 100%|██████████| 55/55 [00:21<00:00,  2.56it/s]\n",
      "                 Class     Images  Instances      Box(P          R      mAP50  mAP50-95): 100%|██████████| 28/28 [00:11<00:00,  2.43it/s]"
     ]
    },
    {
     "name": "stdout",
     "output_type": "stream",
     "text": [
      "                   all        877       1244      0.987      0.976       0.99       0.87\n"
     ]
    },
    {
     "name": "stderr",
     "output_type": "stream",
     "text": [
      "\n"
     ]
    },
    {
     "name": "stdout",
     "output_type": "stream",
     "text": [
      "\n",
      "      Epoch    GPU_mem   box_loss   cls_loss   dfl_loss  Instances       Size\n"
     ]
    },
    {
     "name": "stderr",
     "output_type": "stream",
     "text": [
      "      37/50      2.81G     0.5293     0.3528      0.863         32        640: 100%|██████████| 55/55 [00:21<00:00,  2.55it/s]\n",
      "                 Class     Images  Instances      Box(P          R      mAP50  mAP50-95): 100%|██████████| 28/28 [00:11<00:00,  2.45it/s]"
     ]
    },
    {
     "name": "stdout",
     "output_type": "stream",
     "text": [
      "                   all        877       1244      0.993      0.974       0.99      0.873\n"
     ]
    },
    {
     "name": "stderr",
     "output_type": "stream",
     "text": [
      "\n"
     ]
    },
    {
     "name": "stdout",
     "output_type": "stream",
     "text": [
      "\n",
      "      Epoch    GPU_mem   box_loss   cls_loss   dfl_loss  Instances       Size\n"
     ]
    },
    {
     "name": "stderr",
     "output_type": "stream",
     "text": [
      "      38/50      2.81G      0.522     0.3452     0.8725         39        640: 100%|██████████| 55/55 [00:21<00:00,  2.55it/s]\n",
      "                 Class     Images  Instances      Box(P          R      mAP50  mAP50-95): 100%|██████████| 28/28 [00:11<00:00,  2.44it/s]"
     ]
    },
    {
     "name": "stdout",
     "output_type": "stream",
     "text": [
      "                   all        877       1244      0.978      0.972      0.989      0.865\n"
     ]
    },
    {
     "name": "stderr",
     "output_type": "stream",
     "text": [
      "\n"
     ]
    },
    {
     "name": "stdout",
     "output_type": "stream",
     "text": [
      "\n",
      "      Epoch    GPU_mem   box_loss   cls_loss   dfl_loss  Instances       Size\n"
     ]
    },
    {
     "name": "stderr",
     "output_type": "stream",
     "text": [
      "      39/50      2.81G     0.5303      0.342     0.8644         39        640: 100%|██████████| 55/55 [00:21<00:00,  2.55it/s]\n",
      "                 Class     Images  Instances      Box(P          R      mAP50  mAP50-95): 100%|██████████| 28/28 [00:11<00:00,  2.43it/s]"
     ]
    },
    {
     "name": "stdout",
     "output_type": "stream",
     "text": [
      "                   all        877       1244      0.993      0.976      0.991      0.883\n"
     ]
    },
    {
     "name": "stderr",
     "output_type": "stream",
     "text": [
      "\n"
     ]
    },
    {
     "name": "stdout",
     "output_type": "stream",
     "text": [
      "\n",
      "      Epoch    GPU_mem   box_loss   cls_loss   dfl_loss  Instances       Size\n"
     ]
    },
    {
     "name": "stderr",
     "output_type": "stream",
     "text": [
      "      40/50      2.81G      0.514     0.3382     0.8569         43        640: 100%|██████████| 55/55 [00:21<00:00,  2.55it/s]\n",
      "                 Class     Images  Instances      Box(P          R      mAP50  mAP50-95): 100%|██████████| 28/28 [00:11<00:00,  2.43it/s]"
     ]
    },
    {
     "name": "stdout",
     "output_type": "stream",
     "text": [
      "                   all        877       1244      0.983      0.981       0.99      0.885\n"
     ]
    },
    {
     "name": "stderr",
     "output_type": "stream",
     "text": [
      "\n"
     ]
    },
    {
     "name": "stdout",
     "output_type": "stream",
     "text": [
      "Closing dataloader mosaic\n",
      "\n",
      "      Epoch    GPU_mem   box_loss   cls_loss   dfl_loss  Instances       Size\n"
     ]
    },
    {
     "name": "stderr",
     "output_type": "stream",
     "text": [
      "      41/50      2.81G     0.4878     0.3078     0.8311         15        640: 100%|██████████| 55/55 [00:20<00:00,  2.71it/s]\n",
      "                 Class     Images  Instances      Box(P          R      mAP50  mAP50-95): 100%|██████████| 28/28 [00:11<00:00,  2.44it/s]"
     ]
    },
    {
     "name": "stdout",
     "output_type": "stream",
     "text": [
      "                   all        877       1244      0.993       0.97       0.99      0.883\n"
     ]
    },
    {
     "name": "stderr",
     "output_type": "stream",
     "text": [
      "\n"
     ]
    },
    {
     "name": "stdout",
     "output_type": "stream",
     "text": [
      "\n",
      "      Epoch    GPU_mem   box_loss   cls_loss   dfl_loss  Instances       Size\n"
     ]
    },
    {
     "name": "stderr",
     "output_type": "stream",
     "text": [
      "      42/50      2.81G     0.4818     0.3012     0.8365         19        640: 100%|██████████| 55/55 [00:20<00:00,  2.67it/s]\n",
      "                 Class     Images  Instances      Box(P          R      mAP50  mAP50-95): 100%|██████████| 28/28 [00:12<00:00,  2.23it/s]"
     ]
    },
    {
     "name": "stdout",
     "output_type": "stream",
     "text": [
      "                   all        877       1244      0.993      0.976      0.991      0.883\n"
     ]
    },
    {
     "name": "stderr",
     "output_type": "stream",
     "text": [
      "\n"
     ]
    },
    {
     "name": "stdout",
     "output_type": "stream",
     "text": [
      "\n",
      "      Epoch    GPU_mem   box_loss   cls_loss   dfl_loss  Instances       Size\n"
     ]
    },
    {
     "name": "stderr",
     "output_type": "stream",
     "text": [
      "      43/50      2.81G     0.4848      0.295     0.8242         14        640: 100%|██████████| 55/55 [00:20<00:00,  2.71it/s]\n",
      "                 Class     Images  Instances      Box(P          R      mAP50  mAP50-95): 100%|██████████| 28/28 [00:11<00:00,  2.44it/s]"
     ]
    },
    {
     "name": "stdout",
     "output_type": "stream",
     "text": [
      "                   all        877       1244      0.992      0.983      0.993      0.884\n"
     ]
    },
    {
     "name": "stderr",
     "output_type": "stream",
     "text": [
      "\n"
     ]
    },
    {
     "name": "stdout",
     "output_type": "stream",
     "text": [
      "\n",
      "      Epoch    GPU_mem   box_loss   cls_loss   dfl_loss  Instances       Size\n"
     ]
    },
    {
     "name": "stderr",
     "output_type": "stream",
     "text": [
      "      44/50      2.81G     0.4791     0.2918     0.8351         17        640: 100%|██████████| 55/55 [00:20<00:00,  2.67it/s]\n",
      "                 Class     Images  Instances      Box(P          R      mAP50  mAP50-95): 100%|██████████| 28/28 [00:11<00:00,  2.44it/s]"
     ]
    },
    {
     "name": "stdout",
     "output_type": "stream",
     "text": [
      "                   all        877       1244      0.988      0.986      0.992      0.889\n"
     ]
    },
    {
     "name": "stderr",
     "output_type": "stream",
     "text": [
      "\n"
     ]
    },
    {
     "name": "stdout",
     "output_type": "stream",
     "text": [
      "\n",
      "      Epoch    GPU_mem   box_loss   cls_loss   dfl_loss  Instances       Size\n"
     ]
    },
    {
     "name": "stderr",
     "output_type": "stream",
     "text": [
      "      45/50      2.81G     0.4644     0.2853     0.8174         14        640: 100%|██████████| 55/55 [00:20<00:00,  2.70it/s]\n",
      "                 Class     Images  Instances      Box(P          R      mAP50  mAP50-95): 100%|██████████| 28/28 [00:11<00:00,  2.41it/s]"
     ]
    },
    {
     "name": "stdout",
     "output_type": "stream",
     "text": [
      "                   all        877       1244      0.994      0.979      0.993      0.891\n"
     ]
    },
    {
     "name": "stderr",
     "output_type": "stream",
     "text": [
      "\n"
     ]
    },
    {
     "name": "stdout",
     "output_type": "stream",
     "text": [
      "\n",
      "      Epoch    GPU_mem   box_loss   cls_loss   dfl_loss  Instances       Size\n"
     ]
    },
    {
     "name": "stderr",
     "output_type": "stream",
     "text": [
      "      46/50      2.81G     0.4713      0.283     0.8272         21        640: 100%|██████████| 55/55 [00:20<00:00,  2.72it/s]\n",
      "                 Class     Images  Instances      Box(P          R      mAP50  mAP50-95): 100%|██████████| 28/28 [00:11<00:00,  2.44it/s]"
     ]
    },
    {
     "name": "stdout",
     "output_type": "stream",
     "text": [
      "                   all        877       1244      0.991      0.985      0.993      0.897\n"
     ]
    },
    {
     "name": "stderr",
     "output_type": "stream",
     "text": [
      "\n"
     ]
    },
    {
     "name": "stdout",
     "output_type": "stream",
     "text": [
      "\n",
      "      Epoch    GPU_mem   box_loss   cls_loss   dfl_loss  Instances       Size\n"
     ]
    },
    {
     "name": "stderr",
     "output_type": "stream",
     "text": [
      "      47/50      2.81G     0.4664     0.2777     0.8289         23        640: 100%|██████████| 55/55 [00:20<00:00,  2.71it/s]\n",
      "                 Class     Images  Instances      Box(P          R      mAP50  mAP50-95): 100%|██████████| 28/28 [00:11<00:00,  2.44it/s]"
     ]
    },
    {
     "name": "stdout",
     "output_type": "stream",
     "text": [
      "                   all        877       1244      0.991      0.986      0.993      0.896\n"
     ]
    },
    {
     "name": "stderr",
     "output_type": "stream",
     "text": [
      "\n"
     ]
    },
    {
     "name": "stdout",
     "output_type": "stream",
     "text": [
      "\n",
      "      Epoch    GPU_mem   box_loss   cls_loss   dfl_loss  Instances       Size\n"
     ]
    },
    {
     "name": "stderr",
     "output_type": "stream",
     "text": [
      "      48/50      2.81G     0.4619      0.275     0.8276         21        640: 100%|██████████| 55/55 [00:20<00:00,  2.73it/s]\n",
      "                 Class     Images  Instances      Box(P          R      mAP50  mAP50-95): 100%|██████████| 28/28 [00:11<00:00,  2.45it/s]"
     ]
    },
    {
     "name": "stdout",
     "output_type": "stream",
     "text": [
      "                   all        877       1244      0.995      0.985      0.993      0.901\n"
     ]
    },
    {
     "name": "stderr",
     "output_type": "stream",
     "text": [
      "\n"
     ]
    },
    {
     "name": "stdout",
     "output_type": "stream",
     "text": [
      "\n",
      "      Epoch    GPU_mem   box_loss   cls_loss   dfl_loss  Instances       Size\n"
     ]
    },
    {
     "name": "stderr",
     "output_type": "stream",
     "text": [
      "      49/50      2.81G     0.4539     0.2749     0.8237         15        640: 100%|██████████| 55/55 [00:20<00:00,  2.71it/s]\n",
      "                 Class     Images  Instances      Box(P          R      mAP50  mAP50-95): 100%|██████████| 28/28 [00:11<00:00,  2.45it/s]"
     ]
    },
    {
     "name": "stdout",
     "output_type": "stream",
     "text": [
      "                   all        877       1244      0.996      0.982      0.993        0.9\n"
     ]
    },
    {
     "name": "stderr",
     "output_type": "stream",
     "text": [
      "\n"
     ]
    },
    {
     "name": "stdout",
     "output_type": "stream",
     "text": [
      "\n",
      "      Epoch    GPU_mem   box_loss   cls_loss   dfl_loss  Instances       Size\n"
     ]
    },
    {
     "name": "stderr",
     "output_type": "stream",
     "text": [
      "      50/50      2.81G     0.4609     0.2763     0.8146         21        640:  40%|████      | 22/55 [00:08<00:12,  2.69it/s]"
     ]
    }
   ],
   "source": [
    "from ultralytics import YOLO\n",
    "\n",
    "# Load a pre-trained YOLOv8 model\n",
    "model = YOLO('yolov8n.pt')  # You can use 'yolov8s.pt', 'yolov8m.pt', etc.\n",
    "\n",
    "# Train the model without validation\n",
    "results = model.train(\n",
    "    data='dataset.yaml',  # Path to your dataset config file\n",
    "    epochs=50,            # Number of training epochs\n",
    "    imgsz=640,            # Image size\n",
    "    batch=16,             # Batch size (adjust based on your GPU memory)\n",
    "    device='0',             # Use GPU (0) or CPU (leave blank for CPU\n",
    "    workers=2\n",
    ")"
   ]
  },
  {
   "cell_type": "code",
   "execution_count": 3,
   "id": "9c07b46e-0318-464d-a0f8-5ec0cee4a42c",
   "metadata": {
    "collapsed": true,
    "jupyter": {
     "outputs_hidden": true
    }
   },
   "outputs": [
    {
     "name": "stdout",
     "output_type": "stream",
     "text": [
      "New https://pypi.org/project/ultralytics/8.3.92 available 😃 Update with 'pip install -U ultralytics'\n",
      "Ultralytics 8.3.91 🚀 Python-3.10.12 torch-2.6.0+cu124 CUDA:0 (NVIDIA A100 80GB PCIe, 81051MiB)\n",
      "\u001b[34m\u001b[1mengine/trainer: \u001b[0mtask=detect, mode=train, model=yolov8n.pt, data=dataset.yaml, epochs=30, time=None, patience=100, batch=16, imgsz=1280, save=True, save_period=-1, cache=False, device=0, workers=2, project=None, name=train2, exist_ok=False, pretrained=True, optimizer=auto, verbose=True, seed=0, deterministic=True, single_cls=False, rect=False, cos_lr=False, close_mosaic=10, resume=False, amp=True, fraction=1.0, profile=False, freeze=None, multi_scale=False, overlap_mask=True, mask_ratio=4, dropout=0.0, val=True, split=val, save_json=False, save_hybrid=False, conf=None, iou=0.7, max_det=300, half=False, dnn=False, plots=True, source=None, vid_stride=1, stream_buffer=False, visualize=False, augment=False, agnostic_nms=False, classes=None, retina_masks=False, embed=None, show=False, save_frames=False, save_txt=False, save_conf=False, save_crop=False, show_labels=True, show_conf=True, show_boxes=True, line_width=None, format=torchscript, keras=False, optimize=False, int8=False, dynamic=False, simplify=True, opset=None, workspace=None, nms=False, lr0=0.01, lrf=0.01, momentum=0.937, weight_decay=0.0005, warmup_epochs=3.0, warmup_momentum=0.8, warmup_bias_lr=0.1, box=7.5, cls=0.5, dfl=1.5, pose=12.0, kobj=1.0, nbs=64, hsv_h=0.015, hsv_s=0.7, hsv_v=0.4, degrees=0.0, translate=0.1, scale=0.5, shear=0.0, perspective=0.0, flipud=0.0, fliplr=0.5, bgr=0.0, mosaic=1.0, mixup=0.0, copy_paste=0.0, copy_paste_mode=flip, auto_augment=randaugment, erasing=0.4, crop_fraction=1.0, cfg=None, tracker=botsort.yaml, save_dir=runs/detect/train2\n",
      "Overriding model.yaml nc=80 with nc=4\n",
      "\n",
      "                   from  n    params  module                                       arguments                     \n",
      "  0                  -1  1       464  ultralytics.nn.modules.conv.Conv             [3, 16, 3, 2]                 \n",
      "  1                  -1  1      4672  ultralytics.nn.modules.conv.Conv             [16, 32, 3, 2]                \n",
      "  2                  -1  1      7360  ultralytics.nn.modules.block.C2f             [32, 32, 1, True]             \n",
      "  3                  -1  1     18560  ultralytics.nn.modules.conv.Conv             [32, 64, 3, 2]                \n",
      "  4                  -1  2     49664  ultralytics.nn.modules.block.C2f             [64, 64, 2, True]             \n",
      "  5                  -1  1     73984  ultralytics.nn.modules.conv.Conv             [64, 128, 3, 2]               \n",
      "  6                  -1  2    197632  ultralytics.nn.modules.block.C2f             [128, 128, 2, True]           \n",
      "  7                  -1  1    295424  ultralytics.nn.modules.conv.Conv             [128, 256, 3, 2]              \n",
      "  8                  -1  1    460288  ultralytics.nn.modules.block.C2f             [256, 256, 1, True]           \n",
      "  9                  -1  1    164608  ultralytics.nn.modules.block.SPPF            [256, 256, 5]                 \n",
      " 10                  -1  1         0  torch.nn.modules.upsampling.Upsample         [None, 2, 'nearest']          \n",
      " 11             [-1, 6]  1         0  ultralytics.nn.modules.conv.Concat           [1]                           \n",
      " 12                  -1  1    148224  ultralytics.nn.modules.block.C2f             [384, 128, 1]                 \n",
      " 13                  -1  1         0  torch.nn.modules.upsampling.Upsample         [None, 2, 'nearest']          \n",
      " 14             [-1, 4]  1         0  ultralytics.nn.modules.conv.Concat           [1]                           \n",
      " 15                  -1  1     37248  ultralytics.nn.modules.block.C2f             [192, 64, 1]                  \n",
      " 16                  -1  1     36992  ultralytics.nn.modules.conv.Conv             [64, 64, 3, 2]                \n",
      " 17            [-1, 12]  1         0  ultralytics.nn.modules.conv.Concat           [1]                           \n",
      " 18                  -1  1    123648  ultralytics.nn.modules.block.C2f             [192, 128, 1]                 \n",
      " 19                  -1  1    147712  ultralytics.nn.modules.conv.Conv             [128, 128, 3, 2]              \n",
      " 20             [-1, 9]  1         0  ultralytics.nn.modules.conv.Concat           [1]                           \n",
      " 21                  -1  1    493056  ultralytics.nn.modules.block.C2f             [384, 256, 1]                 \n",
      " 22        [15, 18, 21]  1    752092  ultralytics.nn.modules.head.Detect           [4, [64, 128, 256]]           \n",
      "Model summary: 129 layers, 3,011,628 parameters, 3,011,612 gradients, 8.2 GFLOPs\n",
      "\n",
      "Transferred 319/355 items from pretrained weights\n",
      "Freezing layer 'model.22.dfl.conv.weight'\n",
      "\u001b[34m\u001b[1mAMP: \u001b[0mrunning Automatic Mixed Precision (AMP) checks...\n",
      "\u001b[34m\u001b[1mAMP: \u001b[0mchecks passed ✅\n"
     ]
    },
    {
     "name": "stderr",
     "output_type": "stream",
     "text": [
      "\u001b[34m\u001b[1mtrain: \u001b[0mScanning /home/rvnyamagouda/csci611/datasets/train/labels.cache... 877 images, 0 backgrounds, 0 corrupt: 100%|██████████| 877/877 [00:00<?, ?it/s]\u001b[0m\n",
      "\u001b[34m\u001b[1mval: \u001b[0mScanning /home/rvnyamagouda/csci611/datasets/valid/labels.cache... 877 images, 0 backgrounds, 0 corrupt: 100%|██████████| 877/877 [00:00<?, ?it/s]\u001b[0m\n"
     ]
    },
    {
     "name": "stdout",
     "output_type": "stream",
     "text": [
      "Plotting labels to runs/detect/train2/labels.jpg... \n",
      "\u001b[34m\u001b[1moptimizer:\u001b[0m 'optimizer=auto' found, ignoring 'lr0=0.01' and 'momentum=0.937' and determining best 'optimizer', 'lr0' and 'momentum' automatically... \n",
      "\u001b[34m\u001b[1moptimizer:\u001b[0m AdamW(lr=0.00125, momentum=0.9) with parameter groups 57 weight(decay=0.0), 64 weight(decay=0.0005), 63 bias(decay=0.0)\n",
      "Image sizes 1280 train, 1280 val\n",
      "Using 2 dataloader workers\n",
      "Logging results to \u001b[1mruns/detect/train2\u001b[0m\n",
      "Starting training for 30 epochs...\n",
      "\n",
      "      Epoch    GPU_mem   box_loss   cls_loss   dfl_loss  Instances       Size\n"
     ]
    },
    {
     "name": "stderr",
     "output_type": "stream",
     "text": [
      "       1/30      7.72G     0.7652      3.611      1.038         32       1280: 100%|██████████| 55/55 [00:24<00:00,  2.25it/s]\n",
      "                 Class     Images  Instances      Box(P          R      mAP50  mAP50-95): 100%|██████████| 28/28 [00:06<00:00,  4.49it/s]\n"
     ]
    },
    {
     "name": "stdout",
     "output_type": "stream",
     "text": [
      "                   all        877       1244      0.926      0.168      0.654      0.486\n",
      "\n",
      "      Epoch    GPU_mem   box_loss   cls_loss   dfl_loss  Instances       Size\n"
     ]
    },
    {
     "name": "stderr",
     "output_type": "stream",
     "text": [
      "       2/30      9.71G     0.7683      2.496      1.023         33       1280: 100%|██████████| 55/55 [00:23<00:00,  2.37it/s]\n",
      "                 Class     Images  Instances      Box(P          R      mAP50  mAP50-95): 100%|██████████| 28/28 [00:06<00:00,  4.49it/s]\n"
     ]
    },
    {
     "name": "stdout",
     "output_type": "stream",
     "text": [
      "                   all        877       1244      0.659      0.681      0.732      0.547\n",
      "\n",
      "      Epoch    GPU_mem   box_loss   cls_loss   dfl_loss  Instances       Size\n"
     ]
    },
    {
     "name": "stderr",
     "output_type": "stream",
     "text": [
      "       3/30      9.72G     0.8099      2.167      1.037         34       1280: 100%|██████████| 55/55 [00:23<00:00,  2.33it/s]\n",
      "                 Class     Images  Instances      Box(P          R      mAP50  mAP50-95): 100%|██████████| 28/28 [00:05<00:00,  4.71it/s]\n"
     ]
    },
    {
     "name": "stdout",
     "output_type": "stream",
     "text": [
      "                   all        877       1244       0.72      0.554      0.638      0.477\n",
      "\n",
      "      Epoch    GPU_mem   box_loss   cls_loss   dfl_loss  Instances       Size\n"
     ]
    },
    {
     "name": "stderr",
     "output_type": "stream",
     "text": [
      "       4/30      9.74G     0.7737       1.71      1.017         38       1280: 100%|██████████| 55/55 [00:23<00:00,  2.33it/s]\n",
      "                 Class     Images  Instances      Box(P          R      mAP50  mAP50-95): 100%|██████████| 28/28 [00:05<00:00,  4.80it/s]\n"
     ]
    },
    {
     "name": "stdout",
     "output_type": "stream",
     "text": [
      "                   all        877       1244      0.919      0.769      0.844      0.654\n",
      "\n",
      "      Epoch    GPU_mem   box_loss   cls_loss   dfl_loss  Instances       Size\n"
     ]
    },
    {
     "name": "stderr",
     "output_type": "stream",
     "text": [
      "       5/30      9.76G     0.7319      1.431      1.009         31       1280: 100%|██████████| 55/55 [00:23<00:00,  2.33it/s]\n",
      "                 Class     Images  Instances      Box(P          R      mAP50  mAP50-95): 100%|██████████| 28/28 [00:04<00:00,  5.69it/s]\n"
     ]
    },
    {
     "name": "stdout",
     "output_type": "stream",
     "text": [
      "                   all        877       1244      0.818      0.787      0.833      0.643\n",
      "\n",
      "      Epoch    GPU_mem   box_loss   cls_loss   dfl_loss  Instances       Size\n"
     ]
    },
    {
     "name": "stderr",
     "output_type": "stream",
     "text": [
      "       6/30      9.78G     0.7317      1.208      1.014         31       1280: 100%|██████████| 55/55 [00:23<00:00,  2.34it/s]\n",
      "                 Class     Images  Instances      Box(P          R      mAP50  mAP50-95): 100%|██████████| 28/28 [00:04<00:00,  6.41it/s]\n"
     ]
    },
    {
     "name": "stdout",
     "output_type": "stream",
     "text": [
      "                   all        877       1244      0.865      0.794      0.854      0.637\n",
      "\n",
      "      Epoch    GPU_mem   box_loss   cls_loss   dfl_loss  Instances       Size\n"
     ]
    },
    {
     "name": "stderr",
     "output_type": "stream",
     "text": [
      "       7/30      9.79G     0.7288      1.039      1.002         46       1280: 100%|██████████| 55/55 [00:23<00:00,  2.33it/s]\n",
      "                 Class     Images  Instances      Box(P          R      mAP50  mAP50-95): 100%|██████████| 28/28 [00:04<00:00,  6.52it/s]"
     ]
    },
    {
     "name": "stdout",
     "output_type": "stream",
     "text": [
      "                   all        877       1244      0.886      0.786      0.854       0.68\n"
     ]
    },
    {
     "name": "stderr",
     "output_type": "stream",
     "text": [
      "\n"
     ]
    },
    {
     "name": "stdout",
     "output_type": "stream",
     "text": [
      "\n",
      "      Epoch    GPU_mem   box_loss   cls_loss   dfl_loss  Instances       Size\n"
     ]
    },
    {
     "name": "stderr",
     "output_type": "stream",
     "text": [
      "       8/30       9.8G     0.6952     0.9201     0.9914         31       1280: 100%|██████████| 55/55 [00:23<00:00,  2.36it/s]\n",
      "                 Class     Images  Instances      Box(P          R      mAP50  mAP50-95): 100%|██████████| 28/28 [00:04<00:00,  6.65it/s]"
     ]
    },
    {
     "name": "stdout",
     "output_type": "stream",
     "text": [
      "                   all        877       1244      0.931       0.83      0.908      0.721\n"
     ]
    },
    {
     "name": "stderr",
     "output_type": "stream",
     "text": [
      "\n"
     ]
    },
    {
     "name": "stdout",
     "output_type": "stream",
     "text": [
      "\n",
      "      Epoch    GPU_mem   box_loss   cls_loss   dfl_loss  Instances       Size\n"
     ]
    },
    {
     "name": "stderr",
     "output_type": "stream",
     "text": [
      "       9/30       9.8G     0.6621     0.8104     0.9729         40       1280: 100%|██████████| 55/55 [00:23<00:00,  2.33it/s]\n",
      "                 Class     Images  Instances      Box(P          R      mAP50  mAP50-95): 100%|██████████| 28/28 [00:04<00:00,  6.71it/s]"
     ]
    },
    {
     "name": "stdout",
     "output_type": "stream",
     "text": [
      "                   all        877       1244      0.918      0.847      0.918      0.741\n"
     ]
    },
    {
     "name": "stderr",
     "output_type": "stream",
     "text": [
      "\n"
     ]
    },
    {
     "name": "stdout",
     "output_type": "stream",
     "text": [
      "\n",
      "      Epoch    GPU_mem   box_loss   cls_loss   dfl_loss  Instances       Size\n"
     ]
    },
    {
     "name": "stderr",
     "output_type": "stream",
     "text": [
      "      10/30       9.8G     0.6695     0.7449     0.9799         31       1280: 100%|██████████| 55/55 [00:23<00:00,  2.33it/s]\n",
      "                 Class     Images  Instances      Box(P          R      mAP50  mAP50-95): 100%|██████████| 28/28 [00:04<00:00,  5.98it/s]"
     ]
    },
    {
     "name": "stdout",
     "output_type": "stream",
     "text": [
      "                   all        877       1244      0.962      0.835      0.907      0.741\n"
     ]
    },
    {
     "name": "stderr",
     "output_type": "stream",
     "text": [
      "\n"
     ]
    },
    {
     "name": "stdout",
     "output_type": "stream",
     "text": [
      "\n",
      "      Epoch    GPU_mem   box_loss   cls_loss   dfl_loss  Instances       Size\n"
     ]
    },
    {
     "name": "stderr",
     "output_type": "stream",
     "text": [
      "      11/30       9.8G     0.6527     0.6843     0.9696         36       1280: 100%|██████████| 55/55 [00:23<00:00,  2.34it/s]\n",
      "                 Class     Images  Instances      Box(P          R      mAP50  mAP50-95): 100%|██████████| 28/28 [00:04<00:00,  6.60it/s]"
     ]
    },
    {
     "name": "stdout",
     "output_type": "stream",
     "text": [
      "                   all        877       1244      0.923      0.893      0.937      0.774\n"
     ]
    },
    {
     "name": "stderr",
     "output_type": "stream",
     "text": [
      "\n"
     ]
    },
    {
     "name": "stdout",
     "output_type": "stream",
     "text": [
      "\n",
      "      Epoch    GPU_mem   box_loss   cls_loss   dfl_loss  Instances       Size\n"
     ]
    },
    {
     "name": "stderr",
     "output_type": "stream",
     "text": [
      "      12/30       9.8G     0.6481     0.6649     0.9745         29       1280: 100%|██████████| 55/55 [00:23<00:00,  2.37it/s]\n",
      "                 Class     Images  Instances      Box(P          R      mAP50  mAP50-95): 100%|██████████| 28/28 [00:04<00:00,  6.61it/s]"
     ]
    },
    {
     "name": "stdout",
     "output_type": "stream",
     "text": [
      "                   all        877       1244      0.922      0.913      0.948      0.764\n"
     ]
    },
    {
     "name": "stderr",
     "output_type": "stream",
     "text": [
      "\n"
     ]
    },
    {
     "name": "stdout",
     "output_type": "stream",
     "text": [
      "\n",
      "      Epoch    GPU_mem   box_loss   cls_loss   dfl_loss  Instances       Size\n"
     ]
    },
    {
     "name": "stderr",
     "output_type": "stream",
     "text": [
      "      13/30       9.8G     0.6332     0.6159     0.9456         41       1280: 100%|██████████| 55/55 [00:23<00:00,  2.30it/s]\n",
      "                 Class     Images  Instances      Box(P          R      mAP50  mAP50-95): 100%|██████████| 28/28 [00:04<00:00,  6.53it/s]"
     ]
    },
    {
     "name": "stdout",
     "output_type": "stream",
     "text": [
      "                   all        877       1244      0.937      0.923      0.963      0.779\n"
     ]
    },
    {
     "name": "stderr",
     "output_type": "stream",
     "text": [
      "\n"
     ]
    },
    {
     "name": "stdout",
     "output_type": "stream",
     "text": [
      "\n",
      "      Epoch    GPU_mem   box_loss   cls_loss   dfl_loss  Instances       Size\n"
     ]
    },
    {
     "name": "stderr",
     "output_type": "stream",
     "text": [
      "      14/30       9.8G     0.6224     0.5816     0.9477         39       1280: 100%|██████████| 55/55 [00:23<00:00,  2.36it/s]\n",
      "                 Class     Images  Instances      Box(P          R      mAP50  mAP50-95): 100%|██████████| 28/28 [00:04<00:00,  6.60it/s]"
     ]
    },
    {
     "name": "stdout",
     "output_type": "stream",
     "text": [
      "                   all        877       1244      0.911      0.943      0.964      0.793\n"
     ]
    },
    {
     "name": "stderr",
     "output_type": "stream",
     "text": [
      "\n"
     ]
    },
    {
     "name": "stdout",
     "output_type": "stream",
     "text": [
      "\n",
      "      Epoch    GPU_mem   box_loss   cls_loss   dfl_loss  Instances       Size\n"
     ]
    },
    {
     "name": "stderr",
     "output_type": "stream",
     "text": [
      "      15/30      9.82G     0.6271     0.5751     0.9586         40       1280: 100%|██████████| 55/55 [00:23<00:00,  2.32it/s]\n",
      "                 Class     Images  Instances      Box(P          R      mAP50  mAP50-95): 100%|██████████| 28/28 [00:04<00:00,  6.74it/s]"
     ]
    },
    {
     "name": "stdout",
     "output_type": "stream",
     "text": [
      "                   all        877       1244      0.928      0.938      0.966      0.789\n"
     ]
    },
    {
     "name": "stderr",
     "output_type": "stream",
     "text": [
      "\n"
     ]
    },
    {
     "name": "stdout",
     "output_type": "stream",
     "text": [
      "\n",
      "      Epoch    GPU_mem   box_loss   cls_loss   dfl_loss  Instances       Size\n"
     ]
    },
    {
     "name": "stderr",
     "output_type": "stream",
     "text": [
      "      16/30      9.82G      0.612     0.5471     0.9436         41       1280: 100%|██████████| 55/55 [00:23<00:00,  2.32it/s]\n",
      "                 Class     Images  Instances      Box(P          R      mAP50  mAP50-95): 100%|██████████| 28/28 [00:04<00:00,  6.72it/s]"
     ]
    },
    {
     "name": "stdout",
     "output_type": "stream",
     "text": [
      "                   all        877       1244      0.964      0.926      0.971      0.807\n"
     ]
    },
    {
     "name": "stderr",
     "output_type": "stream",
     "text": [
      "\n"
     ]
    },
    {
     "name": "stdout",
     "output_type": "stream",
     "text": [
      "\n",
      "      Epoch    GPU_mem   box_loss   cls_loss   dfl_loss  Instances       Size\n"
     ]
    },
    {
     "name": "stderr",
     "output_type": "stream",
     "text": [
      "      17/30      9.82G     0.6112     0.5139      0.942         32       1280: 100%|██████████| 55/55 [00:23<00:00,  2.36it/s]\n",
      "                 Class     Images  Instances      Box(P          R      mAP50  mAP50-95): 100%|██████████| 28/28 [00:04<00:00,  6.59it/s]"
     ]
    },
    {
     "name": "stdout",
     "output_type": "stream",
     "text": [
      "                   all        877       1244      0.953      0.938      0.977      0.811\n"
     ]
    },
    {
     "name": "stderr",
     "output_type": "stream",
     "text": [
      "\n"
     ]
    },
    {
     "name": "stdout",
     "output_type": "stream",
     "text": [
      "\n",
      "      Epoch    GPU_mem   box_loss   cls_loss   dfl_loss  Instances       Size\n"
     ]
    },
    {
     "name": "stderr",
     "output_type": "stream",
     "text": [
      "      18/30      9.82G     0.6034     0.5179     0.9426         21       1280: 100%|██████████| 55/55 [00:23<00:00,  2.35it/s]\n",
      "                 Class     Images  Instances      Box(P          R      mAP50  mAP50-95): 100%|██████████| 28/28 [00:04<00:00,  6.60it/s]"
     ]
    },
    {
     "name": "stdout",
     "output_type": "stream",
     "text": [
      "                   all        877       1244      0.955      0.942      0.979      0.814\n"
     ]
    },
    {
     "name": "stderr",
     "output_type": "stream",
     "text": [
      "\n"
     ]
    },
    {
     "name": "stdout",
     "output_type": "stream",
     "text": [
      "\n",
      "      Epoch    GPU_mem   box_loss   cls_loss   dfl_loss  Instances       Size\n"
     ]
    },
    {
     "name": "stderr",
     "output_type": "stream",
     "text": [
      "      19/30      9.82G     0.5873     0.4816     0.9317         24       1280: 100%|██████████| 55/55 [00:23<00:00,  2.36it/s]\n",
      "                 Class     Images  Instances      Box(P          R      mAP50  mAP50-95): 100%|██████████| 28/28 [00:05<00:00,  5.60it/s]"
     ]
    },
    {
     "name": "stdout",
     "output_type": "stream",
     "text": [
      "                   all        877       1244      0.959      0.941      0.978      0.828\n"
     ]
    },
    {
     "name": "stderr",
     "output_type": "stream",
     "text": [
      "\n"
     ]
    },
    {
     "name": "stdout",
     "output_type": "stream",
     "text": [
      "\n",
      "      Epoch    GPU_mem   box_loss   cls_loss   dfl_loss  Instances       Size\n"
     ]
    },
    {
     "name": "stderr",
     "output_type": "stream",
     "text": [
      "      20/30      9.82G      0.576     0.4588      0.924         26       1280: 100%|██████████| 55/55 [00:23<00:00,  2.33it/s]\n",
      "                 Class     Images  Instances      Box(P          R      mAP50  mAP50-95): 100%|██████████| 28/28 [00:04<00:00,  6.69it/s]"
     ]
    },
    {
     "name": "stdout",
     "output_type": "stream",
     "text": [
      "                   all        877       1244      0.979       0.96      0.989      0.833\n"
     ]
    },
    {
     "name": "stderr",
     "output_type": "stream",
     "text": [
      "\n"
     ]
    },
    {
     "name": "stdout",
     "output_type": "stream",
     "text": [
      "Closing dataloader mosaic\n",
      "\n",
      "      Epoch    GPU_mem   box_loss   cls_loss   dfl_loss  Instances       Size\n"
     ]
    },
    {
     "name": "stderr",
     "output_type": "stream",
     "text": [
      "      21/30      9.82G     0.5786     0.4613      0.908         18       1280: 100%|██████████| 55/55 [00:22<00:00,  2.42it/s]\n",
      "                 Class     Images  Instances      Box(P          R      mAP50  mAP50-95): 100%|██████████| 28/28 [00:04<00:00,  6.68it/s]"
     ]
    },
    {
     "name": "stdout",
     "output_type": "stream",
     "text": [
      "                   all        877       1244      0.968      0.963      0.987      0.836\n"
     ]
    },
    {
     "name": "stderr",
     "output_type": "stream",
     "text": [
      "\n"
     ]
    },
    {
     "name": "stdout",
     "output_type": "stream",
     "text": [
      "\n",
      "      Epoch    GPU_mem   box_loss   cls_loss   dfl_loss  Instances       Size\n"
     ]
    },
    {
     "name": "stderr",
     "output_type": "stream",
     "text": [
      "      22/30      9.82G     0.5726     0.4538     0.9059         15       1280: 100%|██████████| 55/55 [00:20<00:00,  2.64it/s]\n",
      "                 Class     Images  Instances      Box(P          R      mAP50  mAP50-95): 100%|██████████| 28/28 [00:04<00:00,  6.66it/s]"
     ]
    },
    {
     "name": "stdout",
     "output_type": "stream",
     "text": [
      "                   all        877       1244      0.973      0.946      0.986      0.844\n"
     ]
    },
    {
     "name": "stderr",
     "output_type": "stream",
     "text": [
      "\n"
     ]
    },
    {
     "name": "stdout",
     "output_type": "stream",
     "text": [
      "\n",
      "      Epoch    GPU_mem   box_loss   cls_loss   dfl_loss  Instances       Size\n"
     ]
    },
    {
     "name": "stderr",
     "output_type": "stream",
     "text": [
      "      23/30      9.82G     0.5592     0.4363     0.8995         18       1280: 100%|██████████| 55/55 [00:20<00:00,  2.63it/s]\n",
      "                 Class     Images  Instances      Box(P          R      mAP50  mAP50-95): 100%|██████████| 28/28 [00:04<00:00,  6.69it/s]"
     ]
    },
    {
     "name": "stdout",
     "output_type": "stream",
     "text": [
      "                   all        877       1244      0.973      0.969       0.99       0.85\n"
     ]
    },
    {
     "name": "stderr",
     "output_type": "stream",
     "text": [
      "\n"
     ]
    },
    {
     "name": "stdout",
     "output_type": "stream",
     "text": [
      "\n",
      "      Epoch    GPU_mem   box_loss   cls_loss   dfl_loss  Instances       Size\n"
     ]
    },
    {
     "name": "stderr",
     "output_type": "stream",
     "text": [
      "      24/30      9.82G     0.5392      0.411     0.8844         25       1280: 100%|██████████| 55/55 [00:20<00:00,  2.64it/s]\n",
      "                 Class     Images  Instances      Box(P          R      mAP50  mAP50-95): 100%|██████████| 28/28 [00:04<00:00,  5.82it/s]"
     ]
    },
    {
     "name": "stdout",
     "output_type": "stream",
     "text": [
      "                   all        877       1244       0.98      0.976      0.985      0.847\n"
     ]
    },
    {
     "name": "stderr",
     "output_type": "stream",
     "text": [
      "\n"
     ]
    },
    {
     "name": "stdout",
     "output_type": "stream",
     "text": [
      "\n",
      "      Epoch    GPU_mem   box_loss   cls_loss   dfl_loss  Instances       Size\n"
     ]
    },
    {
     "name": "stderr",
     "output_type": "stream",
     "text": [
      "      25/30      9.82G     0.5455     0.3957     0.9031         21       1280: 100%|██████████| 55/55 [00:21<00:00,  2.59it/s]\n",
      "                 Class     Images  Instances      Box(P          R      mAP50  mAP50-95): 100%|██████████| 28/28 [00:04<00:00,  6.68it/s]"
     ]
    },
    {
     "name": "stdout",
     "output_type": "stream",
     "text": [
      "                   all        877       1244      0.968      0.984      0.991       0.86\n"
     ]
    },
    {
     "name": "stderr",
     "output_type": "stream",
     "text": [
      "\n"
     ]
    },
    {
     "name": "stdout",
     "output_type": "stream",
     "text": [
      "\n",
      "      Epoch    GPU_mem   box_loss   cls_loss   dfl_loss  Instances       Size\n"
     ]
    },
    {
     "name": "stderr",
     "output_type": "stream",
     "text": [
      "      26/30      9.82G     0.5265     0.3754     0.8823         16       1280: 100%|██████████| 55/55 [00:20<00:00,  2.62it/s]\n",
      "                 Class     Images  Instances      Box(P          R      mAP50  mAP50-95): 100%|██████████| 28/28 [00:04<00:00,  6.63it/s]"
     ]
    },
    {
     "name": "stdout",
     "output_type": "stream",
     "text": [
      "                   all        877       1244      0.981      0.979      0.992      0.864\n"
     ]
    },
    {
     "name": "stderr",
     "output_type": "stream",
     "text": [
      "\n"
     ]
    },
    {
     "name": "stdout",
     "output_type": "stream",
     "text": [
      "\n",
      "      Epoch    GPU_mem   box_loss   cls_loss   dfl_loss  Instances       Size\n"
     ]
    },
    {
     "name": "stderr",
     "output_type": "stream",
     "text": [
      "      27/30      9.82G      0.518     0.3602     0.8803         23       1280: 100%|██████████| 55/55 [00:20<00:00,  2.64it/s]\n",
      "                 Class     Images  Instances      Box(P          R      mAP50  mAP50-95): 100%|██████████| 28/28 [00:04<00:00,  6.64it/s]"
     ]
    },
    {
     "name": "stdout",
     "output_type": "stream",
     "text": [
      "                   all        877       1244      0.975      0.985      0.993      0.864\n"
     ]
    },
    {
     "name": "stderr",
     "output_type": "stream",
     "text": [
      "\n"
     ]
    },
    {
     "name": "stdout",
     "output_type": "stream",
     "text": [
      "\n",
      "      Epoch    GPU_mem   box_loss   cls_loss   dfl_loss  Instances       Size\n"
     ]
    },
    {
     "name": "stderr",
     "output_type": "stream",
     "text": [
      "      28/30      9.82G     0.5099     0.3488     0.8716         23       1280: 100%|██████████| 55/55 [00:20<00:00,  2.67it/s]\n",
      "                 Class     Images  Instances      Box(P          R      mAP50  mAP50-95): 100%|██████████| 28/28 [00:04<00:00,  6.71it/s]"
     ]
    },
    {
     "name": "stdout",
     "output_type": "stream",
     "text": [
      "                   all        877       1244      0.987      0.984      0.993      0.867\n"
     ]
    },
    {
     "name": "stderr",
     "output_type": "stream",
     "text": [
      "\n"
     ]
    },
    {
     "name": "stdout",
     "output_type": "stream",
     "text": [
      "\n",
      "      Epoch    GPU_mem   box_loss   cls_loss   dfl_loss  Instances       Size\n"
     ]
    },
    {
     "name": "stderr",
     "output_type": "stream",
     "text": [
      "      29/30      9.82G     0.5066     0.3455     0.8799         20       1280: 100%|██████████| 55/55 [00:20<00:00,  2.65it/s]\n",
      "                 Class     Images  Instances      Box(P          R      mAP50  mAP50-95): 100%|██████████| 28/28 [00:04<00:00,  6.67it/s]"
     ]
    },
    {
     "name": "stdout",
     "output_type": "stream",
     "text": [
      "                   all        877       1244      0.983      0.989      0.994       0.87\n"
     ]
    },
    {
     "name": "stderr",
     "output_type": "stream",
     "text": [
      "\n"
     ]
    },
    {
     "name": "stdout",
     "output_type": "stream",
     "text": [
      "\n",
      "      Epoch    GPU_mem   box_loss   cls_loss   dfl_loss  Instances       Size\n"
     ]
    },
    {
     "name": "stderr",
     "output_type": "stream",
     "text": [
      "      30/30      9.82G     0.5006     0.3352     0.8764         18       1280: 100%|██████████| 55/55 [00:20<00:00,  2.64it/s]\n",
      "                 Class     Images  Instances      Box(P          R      mAP50  mAP50-95): 100%|██████████| 28/28 [00:04<00:00,  6.18it/s]"
     ]
    },
    {
     "name": "stdout",
     "output_type": "stream",
     "text": [
      "                   all        877       1244      0.988       0.99      0.994      0.874\n"
     ]
    },
    {
     "name": "stderr",
     "output_type": "stream",
     "text": [
      "\n"
     ]
    },
    {
     "name": "stdout",
     "output_type": "stream",
     "text": [
      "\n",
      "30 epochs completed in 0.231 hours.\n",
      "Optimizer stripped from runs/detect/train2/weights/last.pt, 6.3MB\n",
      "Optimizer stripped from runs/detect/train2/weights/best.pt, 6.3MB\n",
      "\n",
      "Validating runs/detect/train2/weights/best.pt...\n",
      "Ultralytics 8.3.91 🚀 Python-3.10.12 torch-2.6.0+cu124 CUDA:0 (NVIDIA A100 80GB PCIe, 81051MiB)\n",
      "Model summary (fused): 72 layers, 3,006,428 parameters, 0 gradients, 8.1 GFLOPs\n"
     ]
    },
    {
     "name": "stderr",
     "output_type": "stream",
     "text": [
      "                 Class     Images  Instances      Box(P          R      mAP50  mAP50-95): 100%|██████████| 28/28 [00:05<00:00,  5.53it/s]\n"
     ]
    },
    {
     "name": "stdout",
     "output_type": "stream",
     "text": [
      "                   all        877       1244      0.988       0.99      0.994      0.875\n",
      "          Trafic Light        104        170      0.983      0.959      0.993      0.787\n",
      "            Speedlimit        678        783      0.996          1      0.994      0.933\n",
      "             Crosswalk        170        200      0.995          1      0.995      0.862\n",
      "                  Stop         91         91      0.978          1      0.994      0.917\n",
      "Speed: 0.4ms preprocess, 1.3ms inference, 0.0ms loss, 0.8ms postprocess per image\n",
      "Results saved to \u001b[1mruns/detect/train2\u001b[0m\n"
     ]
    }
   ],
   "source": [
    "from ultralytics import YOLO\n",
    "model = YOLO('yolov8n.pt')\n",
    "results_high_res = model.train(\n",
    "    data='dataset.yaml',  # Path to your dataset config file\n",
    "    epochs=30,            # Number of training epochs\n",
    "    imgsz=1280,            # Image size\n",
    "    batch=16,             # Batch size (adjust based on your GPU memory)\n",
    "    device='0',             # Use GPU (0) or CPU (leave blank for CPU\n",
    "    workers=2\n",
    ")"
   ]
  },
  {
   "cell_type": "code",
   "execution_count": 4,
   "id": "a1ff5a0b-addd-4ca1-8c69-d1badaaa7bfa",
   "metadata": {
    "collapsed": true,
    "jupyter": {
     "outputs_hidden": true
    }
   },
   "outputs": [
    {
     "name": "stdout",
     "output_type": "stream",
     "text": [
      "New https://pypi.org/project/ultralytics/8.3.92 available 😃 Update with 'pip install -U ultralytics'\n",
      "Ultralytics 8.3.91 🚀 Python-3.10.12 torch-2.6.0+cu124 CUDA:0 (NVIDIA A100 80GB PCIe, 81051MiB)\n",
      "\u001b[34m\u001b[1mengine/trainer: \u001b[0mtask=detect, mode=train, model=yolov8n.pt, data=dataset.yaml, epochs=30, time=None, patience=100, batch=16, imgsz=640, save=True, save_period=-1, cache=False, device=0, workers=2, project=None, name=train3, exist_ok=False, pretrained=True, optimizer=auto, verbose=True, seed=0, deterministic=True, single_cls=False, rect=False, cos_lr=False, close_mosaic=10, resume=False, amp=True, fraction=1.0, profile=False, freeze=None, multi_scale=False, overlap_mask=True, mask_ratio=4, dropout=0.0, val=True, split=val, save_json=False, save_hybrid=False, conf=None, iou=0.7, max_det=300, half=False, dnn=False, plots=True, source=None, vid_stride=1, stream_buffer=False, visualize=False, augment=False, agnostic_nms=False, classes=None, retina_masks=False, embed=None, show=False, save_frames=False, save_txt=False, save_conf=False, save_crop=False, show_labels=True, show_conf=True, show_boxes=True, line_width=None, format=torchscript, keras=False, optimize=False, int8=False, dynamic=False, simplify=True, opset=None, workspace=None, nms=False, lr0=0.01, lrf=0.01, momentum=0.937, weight_decay=0.0005, warmup_epochs=3.0, warmup_momentum=0.8, warmup_bias_lr=0.1, box=7.5, cls=0.5, dfl=1.5, pose=12.0, kobj=1.0, nbs=64, hsv_h=0.015, hsv_s=0.7, hsv_v=0.4, degrees=0.0, translate=0.1, scale=0.5, shear=0.0, perspective=0.0, flipud=0.0, fliplr=0.5, bgr=0.0, mosaic=1.0, mixup=0.0, copy_paste=0.0, copy_paste_mode=flip, auto_augment=randaugment, erasing=0.4, crop_fraction=1.0, cfg=None, tracker=botsort.yaml, save_dir=runs/detect/train3\n",
      "Overriding model.yaml nc=80 with nc=4\n",
      "\n",
      "                   from  n    params  module                                       arguments                     \n",
      "  0                  -1  1       464  ultralytics.nn.modules.conv.Conv             [3, 16, 3, 2]                 \n",
      "  1                  -1  1      4672  ultralytics.nn.modules.conv.Conv             [16, 32, 3, 2]                \n",
      "  2                  -1  1      7360  ultralytics.nn.modules.block.C2f             [32, 32, 1, True]             \n",
      "  3                  -1  1     18560  ultralytics.nn.modules.conv.Conv             [32, 64, 3, 2]                \n",
      "  4                  -1  2     49664  ultralytics.nn.modules.block.C2f             [64, 64, 2, True]             \n",
      "  5                  -1  1     73984  ultralytics.nn.modules.conv.Conv             [64, 128, 3, 2]               \n",
      "  6                  -1  2    197632  ultralytics.nn.modules.block.C2f             [128, 128, 2, True]           \n",
      "  7                  -1  1    295424  ultralytics.nn.modules.conv.Conv             [128, 256, 3, 2]              \n",
      "  8                  -1  1    460288  ultralytics.nn.modules.block.C2f             [256, 256, 1, True]           \n",
      "  9                  -1  1    164608  ultralytics.nn.modules.block.SPPF            [256, 256, 5]                 \n",
      " 10                  -1  1         0  torch.nn.modules.upsampling.Upsample         [None, 2, 'nearest']          \n",
      " 11             [-1, 6]  1         0  ultralytics.nn.modules.conv.Concat           [1]                           \n",
      " 12                  -1  1    148224  ultralytics.nn.modules.block.C2f             [384, 128, 1]                 \n",
      " 13                  -1  1         0  torch.nn.modules.upsampling.Upsample         [None, 2, 'nearest']          \n",
      " 14             [-1, 4]  1         0  ultralytics.nn.modules.conv.Concat           [1]                           \n",
      " 15                  -1  1     37248  ultralytics.nn.modules.block.C2f             [192, 64, 1]                  \n",
      " 16                  -1  1     36992  ultralytics.nn.modules.conv.Conv             [64, 64, 3, 2]                \n",
      " 17            [-1, 12]  1         0  ultralytics.nn.modules.conv.Concat           [1]                           \n",
      " 18                  -1  1    123648  ultralytics.nn.modules.block.C2f             [192, 128, 1]                 \n",
      " 19                  -1  1    147712  ultralytics.nn.modules.conv.Conv             [128, 128, 3, 2]              \n",
      " 20             [-1, 9]  1         0  ultralytics.nn.modules.conv.Concat           [1]                           \n",
      " 21                  -1  1    493056  ultralytics.nn.modules.block.C2f             [384, 256, 1]                 \n",
      " 22        [15, 18, 21]  1    752092  ultralytics.nn.modules.head.Detect           [4, [64, 128, 256]]           \n",
      "Model summary: 129 layers, 3,011,628 parameters, 3,011,612 gradients, 8.2 GFLOPs\n",
      "\n",
      "Transferred 319/355 items from pretrained weights\n",
      "Freezing layer 'model.22.dfl.conv.weight'\n",
      "\u001b[34m\u001b[1mAMP: \u001b[0mrunning Automatic Mixed Precision (AMP) checks...\n",
      "\u001b[34m\u001b[1mAMP: \u001b[0mchecks passed ✅\n"
     ]
    },
    {
     "name": "stderr",
     "output_type": "stream",
     "text": [
      "\u001b[34m\u001b[1mtrain: \u001b[0mScanning /home/rvnyamagouda/csci611/datasets/train/labels.cache... 877 images, 0 backgrounds, 0 corrupt: 100%|██████████| 877/877 [00:00<?, ?it/s]\u001b[0m\n",
      "\u001b[34m\u001b[1mval: \u001b[0mScanning /home/rvnyamagouda/csci611/datasets/valid/labels.cache... 877 images, 0 backgrounds, 0 corrupt: 100%|██████████| 877/877 [00:00<?, ?it/s]\u001b[0m\n"
     ]
    },
    {
     "name": "stdout",
     "output_type": "stream",
     "text": [
      "Plotting labels to runs/detect/train3/labels.jpg... \n",
      "\u001b[34m\u001b[1moptimizer:\u001b[0m 'optimizer=auto' found, ignoring 'lr0=0.01' and 'momentum=0.937' and determining best 'optimizer', 'lr0' and 'momentum' automatically... \n",
      "\u001b[34m\u001b[1moptimizer:\u001b[0m AdamW(lr=0.00125, momentum=0.9) with parameter groups 57 weight(decay=0.0), 64 weight(decay=0.0005), 63 bias(decay=0.0)\n",
      "Image sizes 640 train, 640 val\n",
      "Using 2 dataloader workers\n",
      "Logging results to \u001b[1mruns/detect/train3\u001b[0m\n",
      "Starting training for 30 epochs...\n",
      "\n",
      "      Epoch    GPU_mem   box_loss   cls_loss   dfl_loss  Instances       Size\n"
     ]
    },
    {
     "name": "stderr",
     "output_type": "stream",
     "text": [
      "       1/30      2.14G     0.7782      2.357     0.9397         32        640: 100%|██████████| 55/55 [00:08<00:00,  6.15it/s]\n",
      "                 Class     Images  Instances      Box(P          R      mAP50  mAP50-95): 100%|██████████| 28/28 [00:03<00:00,  7.30it/s]\n"
     ]
    },
    {
     "name": "stdout",
     "output_type": "stream",
     "text": [
      "                   all        877       1244      0.995       0.22      0.661      0.549\n",
      "\n",
      "      Epoch    GPU_mem   box_loss   cls_loss   dfl_loss  Instances       Size\n"
     ]
    },
    {
     "name": "stderr",
     "output_type": "stream",
     "text": [
      "       2/30      2.31G     0.7695       1.33     0.9375         33        640: 100%|██████████| 55/55 [00:08<00:00,  6.58it/s]\n",
      "                 Class     Images  Instances      Box(P          R      mAP50  mAP50-95): 100%|██████████| 28/28 [00:03<00:00,  7.99it/s]\n"
     ]
    },
    {
     "name": "stdout",
     "output_type": "stream",
     "text": [
      "                   all        877       1244      0.723      0.712      0.773        0.6\n",
      "\n",
      "      Epoch    GPU_mem   box_loss   cls_loss   dfl_loss  Instances       Size\n"
     ]
    },
    {
     "name": "stderr",
     "output_type": "stream",
     "text": [
      "       3/30      2.31G     0.7659      1.213     0.9395         34        640: 100%|██████████| 55/55 [00:08<00:00,  6.55it/s]\n",
      "                 Class     Images  Instances      Box(P          R      mAP50  mAP50-95): 100%|██████████| 28/28 [00:03<00:00,  7.75it/s]\n"
     ]
    },
    {
     "name": "stdout",
     "output_type": "stream",
     "text": [
      "                   all        877       1244      0.713      0.725      0.759      0.596\n",
      "\n",
      "      Epoch    GPU_mem   box_loss   cls_loss   dfl_loss  Instances       Size\n"
     ]
    },
    {
     "name": "stderr",
     "output_type": "stream",
     "text": [
      "       4/30      2.31G     0.7424      1.038     0.9383         38        640: 100%|██████████| 55/55 [00:08<00:00,  6.39it/s]\n",
      "                 Class     Images  Instances      Box(P          R      mAP50  mAP50-95): 100%|██████████| 28/28 [00:03<00:00,  7.89it/s]\n"
     ]
    },
    {
     "name": "stdout",
     "output_type": "stream",
     "text": [
      "                   all        877       1244      0.894      0.741      0.859      0.669\n",
      "\n",
      "      Epoch    GPU_mem   box_loss   cls_loss   dfl_loss  Instances       Size\n"
     ]
    },
    {
     "name": "stderr",
     "output_type": "stream",
     "text": [
      "       5/30      2.31G     0.7096     0.9342     0.9301         30        640: 100%|██████████| 55/55 [00:08<00:00,  6.53it/s]\n",
      "                 Class     Images  Instances      Box(P          R      mAP50  mAP50-95): 100%|██████████| 28/28 [00:04<00:00,  6.79it/s]\n"
     ]
    },
    {
     "name": "stdout",
     "output_type": "stream",
     "text": [
      "                   all        877       1244      0.869      0.816      0.851      0.675\n",
      "\n",
      "      Epoch    GPU_mem   box_loss   cls_loss   dfl_loss  Instances       Size\n"
     ]
    },
    {
     "name": "stderr",
     "output_type": "stream",
     "text": [
      "       6/30      2.32G     0.7153     0.8553     0.9386         31        640: 100%|██████████| 55/55 [00:08<00:00,  6.63it/s]\n",
      "                 Class     Images  Instances      Box(P          R      mAP50  mAP50-95): 100%|██████████| 28/28 [00:03<00:00,  8.09it/s]\n"
     ]
    },
    {
     "name": "stdout",
     "output_type": "stream",
     "text": [
      "                   all        877       1244      0.893      0.846      0.905      0.706\n",
      "\n",
      "      Epoch    GPU_mem   box_loss   cls_loss   dfl_loss  Instances       Size\n"
     ]
    },
    {
     "name": "stderr",
     "output_type": "stream",
     "text": [
      "       7/30      2.34G     0.7143     0.7957     0.9369         46        640: 100%|██████████| 55/55 [00:08<00:00,  6.52it/s]\n",
      "                 Class     Images  Instances      Box(P          R      mAP50  mAP50-95): 100%|██████████| 28/28 [00:03<00:00,  8.24it/s]\n"
     ]
    },
    {
     "name": "stdout",
     "output_type": "stream",
     "text": [
      "                   all        877       1244      0.907      0.833      0.896      0.726\n",
      "\n",
      "      Epoch    GPU_mem   box_loss   cls_loss   dfl_loss  Instances       Size\n"
     ]
    },
    {
     "name": "stderr",
     "output_type": "stream",
     "text": [
      "       8/30      2.35G     0.6878     0.7218     0.9405         32        640: 100%|██████████| 55/55 [00:08<00:00,  6.62it/s]\n",
      "                 Class     Images  Instances      Box(P          R      mAP50  mAP50-95): 100%|██████████| 28/28 [00:03<00:00,  8.40it/s]\n"
     ]
    },
    {
     "name": "stdout",
     "output_type": "stream",
     "text": [
      "                   all        877       1244      0.922      0.905      0.947      0.746\n",
      "\n",
      "      Epoch    GPU_mem   box_loss   cls_loss   dfl_loss  Instances       Size\n"
     ]
    },
    {
     "name": "stderr",
     "output_type": "stream",
     "text": [
      "       9/30      2.37G     0.6663     0.6881     0.9152         40        640: 100%|██████████| 55/55 [00:08<00:00,  6.62it/s]\n",
      "                 Class     Images  Instances      Box(P          R      mAP50  mAP50-95): 100%|██████████| 28/28 [00:03<00:00,  8.41it/s]\n"
     ]
    },
    {
     "name": "stdout",
     "output_type": "stream",
     "text": [
      "                   all        877       1244      0.888      0.866      0.915      0.731\n",
      "\n",
      "      Epoch    GPU_mem   box_loss   cls_loss   dfl_loss  Instances       Size\n"
     ]
    },
    {
     "name": "stderr",
     "output_type": "stream",
     "text": [
      "      10/30      2.37G     0.6555     0.6322     0.9227         31        640: 100%|██████████| 55/55 [00:08<00:00,  6.49it/s]\n",
      "                 Class     Images  Instances      Box(P          R      mAP50  mAP50-95): 100%|██████████| 28/28 [00:03<00:00,  8.58it/s]\n"
     ]
    },
    {
     "name": "stdout",
     "output_type": "stream",
     "text": [
      "                   all        877       1244      0.947      0.858      0.932      0.759\n",
      "\n",
      "      Epoch    GPU_mem   box_loss   cls_loss   dfl_loss  Instances       Size\n"
     ]
    },
    {
     "name": "stderr",
     "output_type": "stream",
     "text": [
      "      11/30      2.37G     0.6389     0.6025     0.9104         36        640: 100%|██████████| 55/55 [00:08<00:00,  6.66it/s]\n",
      "                 Class     Images  Instances      Box(P          R      mAP50  mAP50-95): 100%|██████████| 28/28 [00:03<00:00,  8.51it/s]\n"
     ]
    },
    {
     "name": "stdout",
     "output_type": "stream",
     "text": [
      "                   all        877       1244      0.934        0.9      0.942      0.771\n",
      "\n",
      "      Epoch    GPU_mem   box_loss   cls_loss   dfl_loss  Instances       Size\n"
     ]
    },
    {
     "name": "stderr",
     "output_type": "stream",
     "text": [
      "      12/30      2.37G     0.6408      0.586     0.9137         29        640: 100%|██████████| 55/55 [00:08<00:00,  6.45it/s]\n",
      "                 Class     Images  Instances      Box(P          R      mAP50  mAP50-95): 100%|██████████| 28/28 [00:03<00:00,  7.77it/s]"
     ]
    },
    {
     "name": "stdout",
     "output_type": "stream",
     "text": [
      "                   all        877       1244      0.934      0.909      0.951      0.766\n"
     ]
    },
    {
     "name": "stderr",
     "output_type": "stream",
     "text": [
      "\n"
     ]
    },
    {
     "name": "stdout",
     "output_type": "stream",
     "text": [
      "\n",
      "      Epoch    GPU_mem   box_loss   cls_loss   dfl_loss  Instances       Size\n"
     ]
    },
    {
     "name": "stderr",
     "output_type": "stream",
     "text": [
      "      13/30      2.37G     0.6295     0.5453     0.8893         41        640: 100%|██████████| 55/55 [00:08<00:00,  6.49it/s]\n",
      "                 Class     Images  Instances      Box(P          R      mAP50  mAP50-95): 100%|██████████| 28/28 [00:03<00:00,  8.51it/s]\n"
     ]
    },
    {
     "name": "stdout",
     "output_type": "stream",
     "text": [
      "                   all        877       1244      0.935      0.932      0.963      0.796\n",
      "\n",
      "      Epoch    GPU_mem   box_loss   cls_loss   dfl_loss  Instances       Size\n"
     ]
    },
    {
     "name": "stderr",
     "output_type": "stream",
     "text": [
      "      14/30      2.37G     0.6145     0.5247     0.8966         39        640: 100%|██████████| 55/55 [00:08<00:00,  6.57it/s]\n",
      "                 Class     Images  Instances      Box(P          R      mAP50  mAP50-95): 100%|██████████| 28/28 [00:03<00:00,  8.55it/s]"
     ]
    },
    {
     "name": "stdout",
     "output_type": "stream",
     "text": [
      "                   all        877       1244      0.959      0.928      0.967      0.797\n"
     ]
    },
    {
     "name": "stderr",
     "output_type": "stream",
     "text": [
      "\n"
     ]
    },
    {
     "name": "stdout",
     "output_type": "stream",
     "text": [
      "\n",
      "      Epoch    GPU_mem   box_loss   cls_loss   dfl_loss  Instances       Size\n"
     ]
    },
    {
     "name": "stderr",
     "output_type": "stream",
     "text": [
      "      15/30      2.37G     0.6184     0.5219      0.902         40        640: 100%|██████████| 55/55 [00:08<00:00,  6.58it/s]\n",
      "                 Class     Images  Instances      Box(P          R      mAP50  mAP50-95): 100%|██████████| 28/28 [00:03<00:00,  8.55it/s]\n"
     ]
    },
    {
     "name": "stdout",
     "output_type": "stream",
     "text": [
      "                   all        877       1244      0.947       0.93      0.954       0.79\n",
      "\n",
      "      Epoch    GPU_mem   box_loss   cls_loss   dfl_loss  Instances       Size\n"
     ]
    },
    {
     "name": "stderr",
     "output_type": "stream",
     "text": [
      "      16/30      2.37G     0.5934     0.5085     0.8892         41        640: 100%|██████████| 55/55 [00:08<00:00,  6.52it/s]\n",
      "                 Class     Images  Instances      Box(P          R      mAP50  mAP50-95): 100%|██████████| 28/28 [00:03<00:00,  8.66it/s]\n"
     ]
    },
    {
     "name": "stdout",
     "output_type": "stream",
     "text": [
      "                   all        877       1244      0.953      0.948      0.968      0.816\n",
      "\n",
      "      Epoch    GPU_mem   box_loss   cls_loss   dfl_loss  Instances       Size\n"
     ]
    },
    {
     "name": "stderr",
     "output_type": "stream",
     "text": [
      "      17/30      2.37G     0.6056     0.4945     0.8994         32        640: 100%|██████████| 55/55 [00:08<00:00,  6.62it/s]\n",
      "                 Class     Images  Instances      Box(P          R      mAP50  mAP50-95): 100%|██████████| 28/28 [00:03<00:00,  8.60it/s]"
     ]
    },
    {
     "name": "stdout",
     "output_type": "stream",
     "text": [
      "                   all        877       1244      0.955      0.938       0.97      0.806\n"
     ]
    },
    {
     "name": "stderr",
     "output_type": "stream",
     "text": [
      "\n"
     ]
    },
    {
     "name": "stdout",
     "output_type": "stream",
     "text": [
      "\n",
      "      Epoch    GPU_mem   box_loss   cls_loss   dfl_loss  Instances       Size\n"
     ]
    },
    {
     "name": "stderr",
     "output_type": "stream",
     "text": [
      "      18/30      2.37G     0.5882     0.4788     0.8926         21        640: 100%|██████████| 55/55 [00:08<00:00,  6.58it/s]\n",
      "                 Class     Images  Instances      Box(P          R      mAP50  mAP50-95): 100%|██████████| 28/28 [00:03<00:00,  8.61it/s]"
     ]
    },
    {
     "name": "stdout",
     "output_type": "stream",
     "text": [
      "                   all        877       1244      0.948      0.953      0.974      0.829\n"
     ]
    },
    {
     "name": "stderr",
     "output_type": "stream",
     "text": [
      "\n"
     ]
    },
    {
     "name": "stdout",
     "output_type": "stream",
     "text": [
      "\n",
      "      Epoch    GPU_mem   box_loss   cls_loss   dfl_loss  Instances       Size\n"
     ]
    },
    {
     "name": "stderr",
     "output_type": "stream",
     "text": [
      "      19/30      2.37G     0.5771     0.4515     0.8837         24        640: 100%|██████████| 55/55 [00:08<00:00,  6.59it/s]\n",
      "                 Class     Images  Instances      Box(P          R      mAP50  mAP50-95): 100%|██████████| 28/28 [00:03<00:00,  8.45it/s]\n"
     ]
    },
    {
     "name": "stdout",
     "output_type": "stream",
     "text": [
      "                   all        877       1244       0.95      0.952      0.972      0.832\n",
      "\n",
      "      Epoch    GPU_mem   box_loss   cls_loss   dfl_loss  Instances       Size\n"
     ]
    },
    {
     "name": "stderr",
     "output_type": "stream",
     "text": [
      "      20/30      2.37G     0.5669     0.4336     0.8823         26        640: 100%|██████████| 55/55 [00:08<00:00,  6.51it/s]\n",
      "                 Class     Images  Instances      Box(P          R      mAP50  mAP50-95): 100%|██████████| 28/28 [00:03<00:00,  8.61it/s]"
     ]
    },
    {
     "name": "stdout",
     "output_type": "stream",
     "text": [
      "                   all        877       1244      0.973      0.955      0.976       0.84\n"
     ]
    },
    {
     "name": "stderr",
     "output_type": "stream",
     "text": [
      "\n"
     ]
    },
    {
     "name": "stdout",
     "output_type": "stream",
     "text": [
      "Closing dataloader mosaic\n",
      "\n",
      "      Epoch    GPU_mem   box_loss   cls_loss   dfl_loss  Instances       Size\n"
     ]
    },
    {
     "name": "stderr",
     "output_type": "stream",
     "text": [
      "      21/30      2.37G     0.5519      0.421     0.8476         18        640: 100%|██████████| 55/55 [00:08<00:00,  6.51it/s]\n",
      "                 Class     Images  Instances      Box(P          R      mAP50  mAP50-95): 100%|██████████| 28/28 [00:03<00:00,  7.72it/s]\n"
     ]
    },
    {
     "name": "stdout",
     "output_type": "stream",
     "text": [
      "                   all        877       1244      0.978      0.958      0.979      0.843\n",
      "\n",
      "      Epoch    GPU_mem   box_loss   cls_loss   dfl_loss  Instances       Size\n"
     ]
    },
    {
     "name": "stderr",
     "output_type": "stream",
     "text": [
      "      22/30      2.37G     0.5462     0.4055     0.8483         15        640: 100%|██████████| 55/55 [00:07<00:00,  7.11it/s]\n",
      "                 Class     Images  Instances      Box(P          R      mAP50  mAP50-95): 100%|██████████| 28/28 [00:03<00:00,  7.48it/s]"
     ]
    },
    {
     "name": "stdout",
     "output_type": "stream",
     "text": [
      "                   all        877       1244      0.976      0.955      0.982      0.848\n"
     ]
    },
    {
     "name": "stderr",
     "output_type": "stream",
     "text": [
      "\n"
     ]
    },
    {
     "name": "stdout",
     "output_type": "stream",
     "text": [
      "\n",
      "      Epoch    GPU_mem   box_loss   cls_loss   dfl_loss  Instances       Size\n"
     ]
    },
    {
     "name": "stderr",
     "output_type": "stream",
     "text": [
      "      23/30      2.37G     0.5403     0.3955     0.8483         18        640: 100%|██████████| 55/55 [00:07<00:00,  7.16it/s]\n",
      "                 Class     Images  Instances      Box(P          R      mAP50  mAP50-95): 100%|██████████| 28/28 [00:03<00:00,  8.37it/s]"
     ]
    },
    {
     "name": "stdout",
     "output_type": "stream",
     "text": [
      "                   all        877       1244      0.984      0.963      0.984      0.841\n"
     ]
    },
    {
     "name": "stderr",
     "output_type": "stream",
     "text": [
      "\n"
     ]
    },
    {
     "name": "stdout",
     "output_type": "stream",
     "text": [
      "\n",
      "      Epoch    GPU_mem   box_loss   cls_loss   dfl_loss  Instances       Size\n"
     ]
    },
    {
     "name": "stderr",
     "output_type": "stream",
     "text": [
      "      24/30      2.37G     0.5189     0.3774      0.834         25        640: 100%|██████████| 55/55 [00:07<00:00,  7.08it/s]\n",
      "                 Class     Images  Instances      Box(P          R      mAP50  mAP50-95): 100%|██████████| 28/28 [00:03<00:00,  8.21it/s]\n"
     ]
    },
    {
     "name": "stdout",
     "output_type": "stream",
     "text": [
      "                   all        877       1244       0.97      0.959       0.98      0.841\n",
      "\n",
      "      Epoch    GPU_mem   box_loss   cls_loss   dfl_loss  Instances       Size\n"
     ]
    },
    {
     "name": "stderr",
     "output_type": "stream",
     "text": [
      "      25/30      2.37G     0.5231     0.3666     0.8414         21        640: 100%|██████████| 55/55 [00:07<00:00,  7.08it/s]\n",
      "                 Class     Images  Instances      Box(P          R      mAP50  mAP50-95): 100%|██████████| 28/28 [00:03<00:00,  8.41it/s]"
     ]
    },
    {
     "name": "stdout",
     "output_type": "stream",
     "text": [
      "                   all        877       1244      0.987      0.966      0.985      0.854\n"
     ]
    },
    {
     "name": "stderr",
     "output_type": "stream",
     "text": [
      "\n"
     ]
    },
    {
     "name": "stdout",
     "output_type": "stream",
     "text": [
      "\n",
      "      Epoch    GPU_mem   box_loss   cls_loss   dfl_loss  Instances       Size\n"
     ]
    },
    {
     "name": "stderr",
     "output_type": "stream",
     "text": [
      "      26/30      2.37G     0.5126     0.3598     0.8388         16        640: 100%|██████████| 55/55 [00:07<00:00,  7.17it/s]\n",
      "                 Class     Images  Instances      Box(P          R      mAP50  mAP50-95): 100%|██████████| 28/28 [00:03<00:00,  8.62it/s]"
     ]
    },
    {
     "name": "stdout",
     "output_type": "stream",
     "text": [
      "                   all        877       1244      0.985      0.971      0.987      0.859\n"
     ]
    },
    {
     "name": "stderr",
     "output_type": "stream",
     "text": [
      "\n"
     ]
    },
    {
     "name": "stdout",
     "output_type": "stream",
     "text": [
      "\n",
      "      Epoch    GPU_mem   box_loss   cls_loss   dfl_loss  Instances       Size\n"
     ]
    },
    {
     "name": "stderr",
     "output_type": "stream",
     "text": [
      "      27/30      2.37G     0.5047     0.3409     0.8403         23        640: 100%|██████████| 55/55 [00:07<00:00,  7.13it/s]\n",
      "                 Class     Images  Instances      Box(P          R      mAP50  mAP50-95): 100%|██████████| 28/28 [00:03<00:00,  8.52it/s]"
     ]
    },
    {
     "name": "stdout",
     "output_type": "stream",
     "text": [
      "                   all        877       1244      0.983      0.979       0.99      0.867\n"
     ]
    },
    {
     "name": "stderr",
     "output_type": "stream",
     "text": [
      "\n"
     ]
    },
    {
     "name": "stdout",
     "output_type": "stream",
     "text": [
      "\n",
      "      Epoch    GPU_mem   box_loss   cls_loss   dfl_loss  Instances       Size\n"
     ]
    },
    {
     "name": "stderr",
     "output_type": "stream",
     "text": [
      "      28/30      2.37G     0.4994      0.337     0.8426         23        640: 100%|██████████| 55/55 [00:07<00:00,  7.14it/s]\n",
      "                 Class     Images  Instances      Box(P          R      mAP50  mAP50-95): 100%|██████████| 28/28 [00:03<00:00,  8.54it/s]"
     ]
    },
    {
     "name": "stdout",
     "output_type": "stream",
     "text": [
      "                   all        877       1244      0.989      0.971      0.989      0.873\n"
     ]
    },
    {
     "name": "stderr",
     "output_type": "stream",
     "text": [
      "\n"
     ]
    },
    {
     "name": "stdout",
     "output_type": "stream",
     "text": [
      "\n",
      "      Epoch    GPU_mem   box_loss   cls_loss   dfl_loss  Instances       Size\n"
     ]
    },
    {
     "name": "stderr",
     "output_type": "stream",
     "text": [
      "      29/30      2.37G     0.4959     0.3279     0.8354         20        640: 100%|██████████| 55/55 [00:07<00:00,  7.13it/s]\n",
      "                 Class     Images  Instances      Box(P          R      mAP50  mAP50-95): 100%|██████████| 28/28 [00:03<00:00,  8.44it/s]"
     ]
    },
    {
     "name": "stdout",
     "output_type": "stream",
     "text": [
      "                   all        877       1244      0.985      0.975      0.989      0.872\n"
     ]
    },
    {
     "name": "stderr",
     "output_type": "stream",
     "text": [
      "\n"
     ]
    },
    {
     "name": "stdout",
     "output_type": "stream",
     "text": [
      "\n",
      "      Epoch    GPU_mem   box_loss   cls_loss   dfl_loss  Instances       Size\n"
     ]
    },
    {
     "name": "stderr",
     "output_type": "stream",
     "text": [
      "      30/30      2.37G     0.4847     0.3212     0.8287         18        640: 100%|██████████| 55/55 [00:07<00:00,  7.13it/s]\n",
      "                 Class     Images  Instances      Box(P          R      mAP50  mAP50-95): 100%|██████████| 28/28 [00:03<00:00,  8.38it/s]"
     ]
    },
    {
     "name": "stdout",
     "output_type": "stream",
     "text": [
      "                   all        877       1244      0.984      0.976      0.989      0.874\n"
     ]
    },
    {
     "name": "stderr",
     "output_type": "stream",
     "text": [
      "\n"
     ]
    },
    {
     "name": "stdout",
     "output_type": "stream",
     "text": [
      "\n",
      "30 epochs completed in 0.100 hours.\n",
      "Optimizer stripped from runs/detect/train3/weights/last.pt, 6.2MB\n",
      "Optimizer stripped from runs/detect/train3/weights/best.pt, 6.2MB\n",
      "\n",
      "Validating runs/detect/train3/weights/best.pt...\n",
      "Ultralytics 8.3.91 🚀 Python-3.10.12 torch-2.6.0+cu124 CUDA:0 (NVIDIA A100 80GB PCIe, 81051MiB)\n",
      "Model summary (fused): 72 layers, 3,006,428 parameters, 0 gradients, 8.1 GFLOPs\n"
     ]
    },
    {
     "name": "stderr",
     "output_type": "stream",
     "text": [
      "                 Class     Images  Instances      Box(P          R      mAP50  mAP50-95): 100%|██████████| 28/28 [00:03<00:00,  7.21it/s]\n"
     ]
    },
    {
     "name": "stdout",
     "output_type": "stream",
     "text": [
      "                   all        877       1244      0.984      0.976      0.989      0.874\n",
      "          Trafic Light        104        170      0.982      0.935      0.978      0.788\n",
      "            Speedlimit        678        783      0.997          1      0.994      0.927\n",
      "             Crosswalk        170        200      0.972       0.97       0.99       0.84\n",
      "                  Stop         91         91      0.983          1      0.995      0.941\n",
      "Speed: 0.1ms preprocess, 0.3ms inference, 0.0ms loss, 0.9ms postprocess per image\n",
      "Results saved to \u001b[1mruns/detect/train3\u001b[0m\n"
     ]
    }
   ],
   "source": [
    "from ultralytics import YOLO\n",
    "model = YOLO('yolov8n.pt')\n",
    "results_high_res = model.train(\n",
    "    data='dataset.yaml',  # Path to your dataset config file\n",
    "    epochs=30,            # Number of training epochs\n",
    "    imgsz=640,            # Image size\n",
    "    batch=16,             # Batch size (adjust based on your GPU memory)\n",
    "    device='0',             # Use GPU (0) or CPU (leave blank for CPU\n",
    "    workers=2\n",
    ")"
   ]
  },
  {
   "cell_type": "code",
   "execution_count": 3,
   "id": "b6200a43-f066-45d0-8deb-411a26d70062",
   "metadata": {
    "collapsed": true,
    "jupyter": {
     "outputs_hidden": true
    }
   },
   "outputs": [
    {
     "name": "stdout",
     "output_type": "stream",
     "text": [
      "New https://pypi.org/project/ultralytics/8.3.92 available 😃 Update with 'pip install -U ultralytics'\n",
      "Ultralytics 8.3.91 🚀 Python-3.10.12 torch-2.6.0+cu124 CUDA:0 (NVIDIA A100 80GB PCIe, 81051MiB)\n",
      "\u001b[34m\u001b[1mengine/trainer: \u001b[0mtask=detect, mode=train, model=yolov8n.pt, data=dataset.yaml, epochs=30, time=None, patience=100, batch=16, imgsz=640, save=True, save_period=-1, cache=False, device=0, workers=2, project=None, name=train4, exist_ok=False, pretrained=True, optimizer=auto, verbose=True, seed=0, deterministic=True, single_cls=False, rect=False, cos_lr=False, close_mosaic=10, resume=False, amp=True, fraction=1.0, profile=False, freeze=None, multi_scale=False, overlap_mask=True, mask_ratio=4, dropout=0.0, val=True, split=val, save_json=False, save_hybrid=False, conf=None, iou=0.7, max_det=300, half=False, dnn=False, plots=True, source=None, vid_stride=1, stream_buffer=False, visualize=False, augment=True, agnostic_nms=False, classes=None, retina_masks=False, embed=None, show=False, save_frames=False, save_txt=False, save_conf=False, save_crop=False, show_labels=True, show_conf=True, show_boxes=True, line_width=None, format=torchscript, keras=False, optimize=False, int8=False, dynamic=False, simplify=True, opset=None, workspace=None, nms=False, lr0=0.01, lrf=0.01, momentum=0.937, weight_decay=0.0005, warmup_epochs=3.0, warmup_momentum=0.8, warmup_bias_lr=0.1, box=7.5, cls=0.5, dfl=1.5, pose=12.0, kobj=1.0, nbs=64, hsv_h=0.015, hsv_s=0.7, hsv_v=0.4, degrees=0.0, translate=0.1, scale=0.5, shear=0.0, perspective=0.001, flipud=0.0, fliplr=0.5, bgr=0.0, mosaic=1.0, mixup=0.0, copy_paste=0.0, copy_paste_mode=flip, auto_augment=randaugment, erasing=0.4, crop_fraction=1.0, cfg=None, tracker=botsort.yaml, save_dir=runs/detect/train4\n",
      "Overriding model.yaml nc=80 with nc=4\n",
      "\n",
      "                   from  n    params  module                                       arguments                     \n",
      "  0                  -1  1       464  ultralytics.nn.modules.conv.Conv             [3, 16, 3, 2]                 \n",
      "  1                  -1  1      4672  ultralytics.nn.modules.conv.Conv             [16, 32, 3, 2]                \n",
      "  2                  -1  1      7360  ultralytics.nn.modules.block.C2f             [32, 32, 1, True]             \n",
      "  3                  -1  1     18560  ultralytics.nn.modules.conv.Conv             [32, 64, 3, 2]                \n",
      "  4                  -1  2     49664  ultralytics.nn.modules.block.C2f             [64, 64, 2, True]             \n",
      "  5                  -1  1     73984  ultralytics.nn.modules.conv.Conv             [64, 128, 3, 2]               \n",
      "  6                  -1  2    197632  ultralytics.nn.modules.block.C2f             [128, 128, 2, True]           \n",
      "  7                  -1  1    295424  ultralytics.nn.modules.conv.Conv             [128, 256, 3, 2]              \n",
      "  8                  -1  1    460288  ultralytics.nn.modules.block.C2f             [256, 256, 1, True]           \n",
      "  9                  -1  1    164608  ultralytics.nn.modules.block.SPPF            [256, 256, 5]                 \n",
      " 10                  -1  1         0  torch.nn.modules.upsampling.Upsample         [None, 2, 'nearest']          \n",
      " 11             [-1, 6]  1         0  ultralytics.nn.modules.conv.Concat           [1]                           \n",
      " 12                  -1  1    148224  ultralytics.nn.modules.block.C2f             [384, 128, 1]                 \n",
      " 13                  -1  1         0  torch.nn.modules.upsampling.Upsample         [None, 2, 'nearest']          \n",
      " 14             [-1, 4]  1         0  ultralytics.nn.modules.conv.Concat           [1]                           \n",
      " 15                  -1  1     37248  ultralytics.nn.modules.block.C2f             [192, 64, 1]                  \n",
      " 16                  -1  1     36992  ultralytics.nn.modules.conv.Conv             [64, 64, 3, 2]                \n",
      " 17            [-1, 12]  1         0  ultralytics.nn.modules.conv.Concat           [1]                           \n",
      " 18                  -1  1    123648  ultralytics.nn.modules.block.C2f             [192, 128, 1]                 \n",
      " 19                  -1  1    147712  ultralytics.nn.modules.conv.Conv             [128, 128, 3, 2]              \n",
      " 20             [-1, 9]  1         0  ultralytics.nn.modules.conv.Concat           [1]                           \n",
      " 21                  -1  1    493056  ultralytics.nn.modules.block.C2f             [384, 256, 1]                 \n",
      " 22        [15, 18, 21]  1    752092  ultralytics.nn.modules.head.Detect           [4, [64, 128, 256]]           \n",
      "Model summary: 129 layers, 3,011,628 parameters, 3,011,612 gradients, 8.2 GFLOPs\n",
      "\n",
      "Transferred 319/355 items from pretrained weights\n",
      "Freezing layer 'model.22.dfl.conv.weight'\n",
      "\u001b[34m\u001b[1mAMP: \u001b[0mrunning Automatic Mixed Precision (AMP) checks...\n",
      "\u001b[34m\u001b[1mAMP: \u001b[0mchecks passed ✅\n"
     ]
    },
    {
     "name": "stderr",
     "output_type": "stream",
     "text": [
      "\u001b[34m\u001b[1mtrain: \u001b[0mScanning /home/rvnyamagouda/csci611/datasets/train/labels.cache... 877 images, 0 backgrounds, 0 corrupt: 100%|██████████| 877/877 [00:00<?, ?it/s]\u001b[0m\n",
      "\u001b[34m\u001b[1mval: \u001b[0mScanning /home/rvnyamagouda/csci611/datasets/valid/labels.cache... 877 images, 0 backgrounds, 0 corrupt: 100%|██████████| 877/877 [00:00<?, ?it/s]\u001b[0m\n"
     ]
    },
    {
     "name": "stdout",
     "output_type": "stream",
     "text": [
      "Plotting labels to runs/detect/train4/labels.jpg... \n",
      "\u001b[34m\u001b[1moptimizer:\u001b[0m 'optimizer=auto' found, ignoring 'lr0=0.01' and 'momentum=0.937' and determining best 'optimizer', 'lr0' and 'momentum' automatically... \n",
      "\u001b[34m\u001b[1moptimizer:\u001b[0m AdamW(lr=0.00125, momentum=0.9) with parameter groups 57 weight(decay=0.0), 64 weight(decay=0.0005), 63 bias(decay=0.0)\n",
      "Image sizes 640 train, 640 val\n",
      "Using 2 dataloader workers\n",
      "Logging results to \u001b[1mruns/detect/train4\u001b[0m\n",
      "Starting training for 30 epochs...\n",
      "\n",
      "      Epoch    GPU_mem   box_loss   cls_loss   dfl_loss  Instances       Size\n"
     ]
    },
    {
     "name": "stderr",
     "output_type": "stream",
     "text": [
      "       1/30      2.06G      1.079      2.525      1.076         31        640: 100%|██████████| 55/55 [00:10<00:00,  5.40it/s]\n",
      "                 Class     Images  Instances      Box(P          R      mAP50  mAP50-95): 100%|██████████| 28/28 [00:03<00:00,  7.16it/s]\n"
     ]
    },
    {
     "name": "stdout",
     "output_type": "stream",
     "text": [
      "                   all        877       1244      0.976      0.172      0.634      0.465\n",
      "\n",
      "      Epoch    GPU_mem   box_loss   cls_loss   dfl_loss  Instances       Size\n"
     ]
    },
    {
     "name": "stderr",
     "output_type": "stream",
     "text": [
      "       2/30      2.68G      1.088      1.542      1.074         32        640: 100%|██████████| 55/55 [00:09<00:00,  5.96it/s]\n",
      "                 Class     Images  Instances      Box(P          R      mAP50  mAP50-95): 100%|██████████| 28/28 [00:03<00:00,  7.87it/s]\n"
     ]
    },
    {
     "name": "stdout",
     "output_type": "stream",
     "text": [
      "                   all        877       1244      0.668      0.694      0.768      0.525\n",
      "\n",
      "      Epoch    GPU_mem   box_loss   cls_loss   dfl_loss  Instances       Size\n"
     ]
    },
    {
     "name": "stderr",
     "output_type": "stream",
     "text": [
      "       3/30      2.69G      1.065      1.411       1.07         33        640: 100%|██████████| 55/55 [00:09<00:00,  5.89it/s]\n",
      "                 Class     Images  Instances      Box(P          R      mAP50  mAP50-95): 100%|██████████| 28/28 [00:03<00:00,  7.92it/s]\n"
     ]
    },
    {
     "name": "stdout",
     "output_type": "stream",
     "text": [
      "                   all        877       1244       0.81      0.761        0.8      0.557\n",
      "\n",
      "      Epoch    GPU_mem   box_loss   cls_loss   dfl_loss  Instances       Size\n"
     ]
    },
    {
     "name": "stderr",
     "output_type": "stream",
     "text": [
      "       4/30      2.71G      1.054       1.22      1.077         37        640: 100%|██████████| 55/55 [00:09<00:00,  5.96it/s]\n",
      "                 Class     Images  Instances      Box(P          R      mAP50  mAP50-95): 100%|██████████| 28/28 [00:03<00:00,  7.75it/s]\n"
     ]
    },
    {
     "name": "stdout",
     "output_type": "stream",
     "text": [
      "                   all        877       1244      0.802      0.791      0.845      0.583\n",
      "\n",
      "      Epoch    GPU_mem   box_loss   cls_loss   dfl_loss  Instances       Size\n"
     ]
    },
    {
     "name": "stderr",
     "output_type": "stream",
     "text": [
      "       5/30      2.73G      1.025      1.103      1.063         29        640: 100%|██████████| 55/55 [00:09<00:00,  5.98it/s]\n",
      "                 Class     Images  Instances      Box(P          R      mAP50  mAP50-95): 100%|██████████| 28/28 [00:03<00:00,  8.03it/s]\n"
     ]
    },
    {
     "name": "stdout",
     "output_type": "stream",
     "text": [
      "                   all        877       1244      0.883      0.801      0.868      0.663\n",
      "\n",
      "      Epoch    GPU_mem   box_loss   cls_loss   dfl_loss  Instances       Size\n"
     ]
    },
    {
     "name": "stderr",
     "output_type": "stream",
     "text": [
      "       6/30      2.75G     0.9886      1.006      1.057         31        640: 100%|██████████| 55/55 [00:09<00:00,  6.05it/s]\n",
      "                 Class     Images  Instances      Box(P          R      mAP50  mAP50-95): 100%|██████████| 28/28 [00:03<00:00,  8.23it/s]\n"
     ]
    },
    {
     "name": "stdout",
     "output_type": "stream",
     "text": [
      "                   all        877       1244      0.899      0.834       0.89      0.602\n",
      "\n",
      "      Epoch    GPU_mem   box_loss   cls_loss   dfl_loss  Instances       Size\n"
     ]
    },
    {
     "name": "stderr",
     "output_type": "stream",
     "text": [
      "       7/30      2.76G     0.9612     0.9286      1.035         43        640: 100%|██████████| 55/55 [00:09<00:00,  5.90it/s]\n",
      "                 Class     Images  Instances      Box(P          R      mAP50  mAP50-95): 100%|██████████| 28/28 [00:03<00:00,  8.36it/s]\n"
     ]
    },
    {
     "name": "stdout",
     "output_type": "stream",
     "text": [
      "                   all        877       1244      0.908      0.851      0.899      0.656\n",
      "\n",
      "      Epoch    GPU_mem   box_loss   cls_loss   dfl_loss  Instances       Size\n"
     ]
    },
    {
     "name": "stderr",
     "output_type": "stream",
     "text": [
      "       8/30      2.76G     0.9386     0.8597      1.029         32        640: 100%|██████████| 55/55 [00:09<00:00,  6.04it/s]\n",
      "                 Class     Images  Instances      Box(P          R      mAP50  mAP50-95): 100%|██████████| 28/28 [00:03<00:00,  8.50it/s]\n"
     ]
    },
    {
     "name": "stdout",
     "output_type": "stream",
     "text": [
      "                   all        877       1244      0.913      0.835      0.918       0.68\n",
      "\n",
      "      Epoch    GPU_mem   box_loss   cls_loss   dfl_loss  Instances       Size\n"
     ]
    },
    {
     "name": "stderr",
     "output_type": "stream",
     "text": [
      "       9/30      2.76G     0.9222     0.8255      1.018         40        640: 100%|██████████| 55/55 [00:09<00:00,  6.00it/s]\n",
      "                 Class     Images  Instances      Box(P          R      mAP50  mAP50-95): 100%|██████████| 28/28 [00:03<00:00,  8.62it/s]\n"
     ]
    },
    {
     "name": "stdout",
     "output_type": "stream",
     "text": [
      "                   all        877       1244      0.936      0.859      0.927      0.707\n",
      "\n",
      "      Epoch    GPU_mem   box_loss   cls_loss   dfl_loss  Instances       Size\n"
     ]
    },
    {
     "name": "stderr",
     "output_type": "stream",
     "text": [
      "      10/30      2.76G     0.9175     0.7906      1.033         27        640: 100%|██████████| 55/55 [00:09<00:00,  5.96it/s]\n",
      "                 Class     Images  Instances      Box(P          R      mAP50  mAP50-95): 100%|██████████| 28/28 [00:03<00:00,  8.64it/s]\n"
     ]
    },
    {
     "name": "stdout",
     "output_type": "stream",
     "text": [
      "                   all        877       1244      0.936      0.858      0.915      0.709\n",
      "\n",
      "      Epoch    GPU_mem   box_loss   cls_loss   dfl_loss  Instances       Size\n"
     ]
    },
    {
     "name": "stderr",
     "output_type": "stream",
     "text": [
      "      11/30      2.76G     0.8897     0.7525      1.011         44        640: 100%|██████████| 55/55 [00:09<00:00,  6.05it/s]\n",
      "                 Class     Images  Instances      Box(P          R      mAP50  mAP50-95): 100%|██████████| 28/28 [00:03<00:00,  8.26it/s]"
     ]
    },
    {
     "name": "stdout",
     "output_type": "stream",
     "text": [
      "                   all        877       1244      0.899      0.861       0.92      0.708\n"
     ]
    },
    {
     "name": "stderr",
     "output_type": "stream",
     "text": [
      "\n"
     ]
    },
    {
     "name": "stdout",
     "output_type": "stream",
     "text": [
      "\n",
      "      Epoch    GPU_mem   box_loss   cls_loss   dfl_loss  Instances       Size\n"
     ]
    },
    {
     "name": "stderr",
     "output_type": "stream",
     "text": [
      "      12/30      2.76G     0.8514     0.7317      1.007         29        640: 100%|██████████| 55/55 [00:09<00:00,  6.04it/s]\n",
      "                 Class     Images  Instances      Box(P          R      mAP50  mAP50-95): 100%|██████████| 28/28 [00:03<00:00,  8.62it/s]\n"
     ]
    },
    {
     "name": "stdout",
     "output_type": "stream",
     "text": [
      "                   all        877       1244      0.939      0.868      0.935      0.699\n",
      "\n",
      "      Epoch    GPU_mem   box_loss   cls_loss   dfl_loss  Instances       Size\n"
     ]
    },
    {
     "name": "stderr",
     "output_type": "stream",
     "text": [
      "      13/30      2.76G     0.8687       0.69     0.9957         48        640: 100%|██████████| 55/55 [00:09<00:00,  5.95it/s]\n",
      "                 Class     Images  Instances      Box(P          R      mAP50  mAP50-95): 100%|██████████| 28/28 [00:03<00:00,  8.67it/s]\n"
     ]
    },
    {
     "name": "stdout",
     "output_type": "stream",
     "text": [
      "                   all        877       1244      0.932      0.918      0.948      0.741\n",
      "\n",
      "      Epoch    GPU_mem   box_loss   cls_loss   dfl_loss  Instances       Size\n"
     ]
    },
    {
     "name": "stderr",
     "output_type": "stream",
     "text": [
      "      14/30      2.77G     0.8312     0.6704     0.9728         41        640: 100%|██████████| 55/55 [00:09<00:00,  6.00it/s]\n",
      "                 Class     Images  Instances      Box(P          R      mAP50  mAP50-95): 100%|██████████| 28/28 [00:03<00:00,  8.69it/s]\n"
     ]
    },
    {
     "name": "stdout",
     "output_type": "stream",
     "text": [
      "                   all        877       1244      0.926      0.936      0.951      0.733\n",
      "\n",
      "      Epoch    GPU_mem   box_loss   cls_loss   dfl_loss  Instances       Size\n"
     ]
    },
    {
     "name": "stderr",
     "output_type": "stream",
     "text": [
      "      15/30      2.78G     0.8373     0.6463     0.9946         38        640: 100%|██████████| 55/55 [00:09<00:00,  5.98it/s]\n",
      "                 Class     Images  Instances      Box(P          R      mAP50  mAP50-95): 100%|██████████| 28/28 [00:03<00:00,  8.66it/s]\n"
     ]
    },
    {
     "name": "stdout",
     "output_type": "stream",
     "text": [
      "                   all        877       1244      0.938       0.93      0.951      0.744\n",
      "\n",
      "      Epoch    GPU_mem   box_loss   cls_loss   dfl_loss  Instances       Size\n"
     ]
    },
    {
     "name": "stderr",
     "output_type": "stream",
     "text": [
      "      16/30      2.78G     0.8082     0.6158     0.9804         38        640: 100%|██████████| 55/55 [00:09<00:00,  5.96it/s]\n",
      "                 Class     Images  Instances      Box(P          R      mAP50  mAP50-95): 100%|██████████| 28/28 [00:03<00:00,  8.70it/s]\n"
     ]
    },
    {
     "name": "stdout",
     "output_type": "stream",
     "text": [
      "                   all        877       1244      0.945      0.925      0.964      0.768\n",
      "\n",
      "      Epoch    GPU_mem   box_loss   cls_loss   dfl_loss  Instances       Size\n"
     ]
    },
    {
     "name": "stderr",
     "output_type": "stream",
     "text": [
      "      17/30      2.78G     0.8234     0.6022     0.9746         36        640: 100%|██████████| 55/55 [00:09<00:00,  6.01it/s]\n",
      "                 Class     Images  Instances      Box(P          R      mAP50  mAP50-95): 100%|██████████| 28/28 [00:03<00:00,  8.62it/s]\n"
     ]
    },
    {
     "name": "stdout",
     "output_type": "stream",
     "text": [
      "                   all        877       1244      0.965      0.925      0.963      0.765\n",
      "\n",
      "      Epoch    GPU_mem   box_loss   cls_loss   dfl_loss  Instances       Size\n"
     ]
    },
    {
     "name": "stderr",
     "output_type": "stream",
     "text": [
      "      18/30      2.78G     0.8169     0.6013     0.9914         23        640: 100%|██████████| 55/55 [00:09<00:00,  6.02it/s]\n",
      "                 Class     Images  Instances      Box(P          R      mAP50  mAP50-95): 100%|██████████| 28/28 [00:03<00:00,  8.66it/s]\n"
     ]
    },
    {
     "name": "stdout",
     "output_type": "stream",
     "text": [
      "                   all        877       1244      0.935      0.947      0.963      0.782\n",
      "\n",
      "      Epoch    GPU_mem   box_loss   cls_loss   dfl_loss  Instances       Size\n"
     ]
    },
    {
     "name": "stderr",
     "output_type": "stream",
     "text": [
      "      19/30      2.78G     0.7908     0.5737     0.9681         35        640: 100%|██████████| 55/55 [00:09<00:00,  5.97it/s]\n",
      "                 Class     Images  Instances      Box(P          R      mAP50  mAP50-95): 100%|██████████| 28/28 [00:03<00:00,  8.64it/s]\n"
     ]
    },
    {
     "name": "stdout",
     "output_type": "stream",
     "text": [
      "                   all        877       1244      0.944      0.933      0.967      0.768\n",
      "\n",
      "      Epoch    GPU_mem   box_loss   cls_loss   dfl_loss  Instances       Size\n"
     ]
    },
    {
     "name": "stderr",
     "output_type": "stream",
     "text": [
      "      20/30      2.78G     0.7635     0.5412     0.9561         26        640: 100%|██████████| 55/55 [00:09<00:00,  5.94it/s]\n",
      "                 Class     Images  Instances      Box(P          R      mAP50  mAP50-95): 100%|██████████| 28/28 [00:03<00:00,  8.43it/s]\n"
     ]
    },
    {
     "name": "stdout",
     "output_type": "stream",
     "text": [
      "                   all        877       1244      0.951      0.947       0.97      0.779\n",
      "Closing dataloader mosaic\n",
      "\n",
      "      Epoch    GPU_mem   box_loss   cls_loss   dfl_loss  Instances       Size\n"
     ]
    },
    {
     "name": "stderr",
     "output_type": "stream",
     "text": [
      "      21/30      2.78G     0.6716     0.4853     0.9027         18        640: 100%|██████████| 55/55 [00:09<00:00,  5.82it/s]\n",
      "                 Class     Images  Instances      Box(P          R      mAP50  mAP50-95): 100%|██████████| 28/28 [00:03<00:00,  8.65it/s]\n"
     ]
    },
    {
     "name": "stdout",
     "output_type": "stream",
     "text": [
      "                   all        877       1244      0.956      0.934       0.97      0.802\n",
      "\n",
      "      Epoch    GPU_mem   box_loss   cls_loss   dfl_loss  Instances       Size\n"
     ]
    },
    {
     "name": "stderr",
     "output_type": "stream",
     "text": [
      "      22/30      2.79G     0.6516     0.4699     0.9059         15        640: 100%|██████████| 55/55 [00:08<00:00,  6.53it/s]\n",
      "                 Class     Images  Instances      Box(P          R      mAP50  mAP50-95): 100%|██████████| 28/28 [00:03<00:00,  8.73it/s]"
     ]
    },
    {
     "name": "stdout",
     "output_type": "stream",
     "text": [
      "                   all        877       1244      0.947      0.957      0.973      0.802\n"
     ]
    },
    {
     "name": "stderr",
     "output_type": "stream",
     "text": [
      "\n"
     ]
    },
    {
     "name": "stdout",
     "output_type": "stream",
     "text": [
      "\n",
      "      Epoch    GPU_mem   box_loss   cls_loss   dfl_loss  Instances       Size\n"
     ]
    },
    {
     "name": "stderr",
     "output_type": "stream",
     "text": [
      "      23/30      2.79G     0.6431     0.4542     0.8908         18        640: 100%|██████████| 55/55 [00:08<00:00,  6.47it/s]\n",
      "                 Class     Images  Instances      Box(P          R      mAP50  mAP50-95): 100%|██████████| 28/28 [00:03<00:00,  8.61it/s]\n"
     ]
    },
    {
     "name": "stdout",
     "output_type": "stream",
     "text": [
      "                   all        877       1244      0.962      0.952      0.977      0.811\n",
      "\n",
      "      Epoch    GPU_mem   box_loss   cls_loss   dfl_loss  Instances       Size\n"
     ]
    },
    {
     "name": "stderr",
     "output_type": "stream",
     "text": [
      "      24/30      2.79G     0.6198     0.4384     0.8766         25        640: 100%|██████████| 55/55 [00:08<00:00,  6.47it/s]\n",
      "                 Class     Images  Instances      Box(P          R      mAP50  mAP50-95): 100%|██████████| 28/28 [00:03<00:00,  8.68it/s]"
     ]
    },
    {
     "name": "stdout",
     "output_type": "stream",
     "text": [
      "                   all        877       1244      0.955      0.951      0.971      0.811\n"
     ]
    },
    {
     "name": "stderr",
     "output_type": "stream",
     "text": [
      "\n"
     ]
    },
    {
     "name": "stdout",
     "output_type": "stream",
     "text": [
      "\n",
      "      Epoch    GPU_mem   box_loss   cls_loss   dfl_loss  Instances       Size\n"
     ]
    },
    {
     "name": "stderr",
     "output_type": "stream",
     "text": [
      "      25/30      2.79G     0.6238     0.4276     0.8884         21        640: 100%|██████████| 55/55 [00:08<00:00,  6.43it/s]\n",
      "                 Class     Images  Instances      Box(P          R      mAP50  mAP50-95): 100%|██████████| 28/28 [00:03<00:00,  8.62it/s]"
     ]
    },
    {
     "name": "stdout",
     "output_type": "stream",
     "text": [
      "                   all        877       1244      0.967      0.965       0.98      0.827\n"
     ]
    },
    {
     "name": "stderr",
     "output_type": "stream",
     "text": [
      "\n"
     ]
    },
    {
     "name": "stdout",
     "output_type": "stream",
     "text": [
      "\n",
      "      Epoch    GPU_mem   box_loss   cls_loss   dfl_loss  Instances       Size\n"
     ]
    },
    {
     "name": "stderr",
     "output_type": "stream",
     "text": [
      "      26/30      2.79G     0.6082      0.409     0.8828         16        640: 100%|██████████| 55/55 [00:08<00:00,  6.50it/s]\n",
      "                 Class     Images  Instances      Box(P          R      mAP50  mAP50-95): 100%|██████████| 28/28 [00:03<00:00,  8.69it/s]"
     ]
    },
    {
     "name": "stdout",
     "output_type": "stream",
     "text": [
      "                   all        877       1244      0.965       0.96      0.982       0.83\n"
     ]
    },
    {
     "name": "stderr",
     "output_type": "stream",
     "text": [
      "\n"
     ]
    },
    {
     "name": "stdout",
     "output_type": "stream",
     "text": [
      "\n",
      "      Epoch    GPU_mem   box_loss   cls_loss   dfl_loss  Instances       Size\n"
     ]
    },
    {
     "name": "stderr",
     "output_type": "stream",
     "text": [
      "      27/30      2.79G     0.5939      0.396     0.8785         23        640: 100%|██████████| 55/55 [00:08<00:00,  6.47it/s]\n",
      "                 Class     Images  Instances      Box(P          R      mAP50  mAP50-95): 100%|██████████| 28/28 [00:03<00:00,  8.67it/s]"
     ]
    },
    {
     "name": "stdout",
     "output_type": "stream",
     "text": [
      "                   all        877       1244      0.974      0.966      0.983      0.838\n"
     ]
    },
    {
     "name": "stderr",
     "output_type": "stream",
     "text": [
      "\n"
     ]
    },
    {
     "name": "stdout",
     "output_type": "stream",
     "text": [
      "\n",
      "      Epoch    GPU_mem   box_loss   cls_loss   dfl_loss  Instances       Size\n"
     ]
    },
    {
     "name": "stderr",
     "output_type": "stream",
     "text": [
      "      28/30      2.79G     0.5934      0.388     0.8764         23        640: 100%|██████████| 55/55 [00:08<00:00,  6.45it/s]\n",
      "                 Class     Images  Instances      Box(P          R      mAP50  mAP50-95): 100%|██████████| 28/28 [00:03<00:00,  8.65it/s]"
     ]
    },
    {
     "name": "stdout",
     "output_type": "stream",
     "text": [
      "                   all        877       1244      0.975      0.965      0.984      0.836\n"
     ]
    },
    {
     "name": "stderr",
     "output_type": "stream",
     "text": [
      "\n"
     ]
    },
    {
     "name": "stdout",
     "output_type": "stream",
     "text": [
      "\n",
      "      Epoch    GPU_mem   box_loss   cls_loss   dfl_loss  Instances       Size\n"
     ]
    },
    {
     "name": "stderr",
     "output_type": "stream",
     "text": [
      "      29/30      2.79G     0.5823     0.3829     0.8752         20        640: 100%|██████████| 55/55 [00:08<00:00,  6.50it/s]\n",
      "                 Class     Images  Instances      Box(P          R      mAP50  mAP50-95): 100%|██████████| 28/28 [00:03<00:00,  8.69it/s]"
     ]
    },
    {
     "name": "stdout",
     "output_type": "stream",
     "text": [
      "                   all        877       1244      0.979      0.968      0.984       0.84\n"
     ]
    },
    {
     "name": "stderr",
     "output_type": "stream",
     "text": [
      "\n"
     ]
    },
    {
     "name": "stdout",
     "output_type": "stream",
     "text": [
      "\n",
      "      Epoch    GPU_mem   box_loss   cls_loss   dfl_loss  Instances       Size\n"
     ]
    },
    {
     "name": "stderr",
     "output_type": "stream",
     "text": [
      "      30/30      2.79G     0.5707     0.3644     0.8677         18        640: 100%|██████████| 55/55 [00:08<00:00,  6.47it/s]\n",
      "                 Class     Images  Instances      Box(P          R      mAP50  mAP50-95): 100%|██████████| 28/28 [00:03<00:00,  8.70it/s]"
     ]
    },
    {
     "name": "stdout",
     "output_type": "stream",
     "text": [
      "                   all        877       1244      0.977      0.972      0.986      0.844\n"
     ]
    },
    {
     "name": "stderr",
     "output_type": "stream",
     "text": [
      "\n"
     ]
    },
    {
     "name": "stdout",
     "output_type": "stream",
     "text": [
      "\n",
      "30 epochs completed in 0.106 hours.\n",
      "Optimizer stripped from runs/detect/train4/weights/last.pt, 6.2MB\n",
      "Optimizer stripped from runs/detect/train4/weights/best.pt, 6.2MB\n",
      "\n",
      "Validating runs/detect/train4/weights/best.pt...\n",
      "Ultralytics 8.3.91 🚀 Python-3.10.12 torch-2.6.0+cu124 CUDA:0 (NVIDIA A100 80GB PCIe, 81051MiB)\n",
      "Model summary (fused): 72 layers, 3,006,428 parameters, 0 gradients, 8.1 GFLOPs\n"
     ]
    },
    {
     "name": "stderr",
     "output_type": "stream",
     "text": [
      "                 Class     Images  Instances      Box(P          R      mAP50  mAP50-95): 100%|██████████| 28/28 [00:05<00:00,  5.44it/s]\n"
     ]
    },
    {
     "name": "stdout",
     "output_type": "stream",
     "text": [
      "                   all        877       1244      0.966      0.964      0.985      0.835\n",
      "          Trafic Light        104        170       0.92      0.912      0.967      0.713\n",
      "            Speedlimit        678        783      0.996      0.998      0.994      0.902\n",
      "             Crosswalk        170        200      0.969       0.95      0.983      0.813\n",
      "                  Stop         91         91      0.978      0.998      0.994      0.913\n",
      "Speed: 0.1ms preprocess, 2.1ms inference, 0.0ms loss, 0.8ms postprocess per image\n",
      "Results saved to \u001b[1mruns/detect/train4\u001b[0m\n"
     ]
    }
   ],
   "source": [
    "from ultralytics import YOLO\n",
    "model = YOLO('yolov8n.pt')\n",
    "results_high_res = model.train(\n",
    "    data='dataset.yaml',  # Path to your dataset config file\n",
    "    epochs=30,            # Number of training epochs\n",
    "    imgsz=640,            # Image size\n",
    "    batch=16,             # Batch size (adjust based on your GPU memory)\n",
    "    device='0',             # Use GPU (0) or CPU (leave blank for CPU\n",
    "    workers=2,\n",
    "    fliplr=0.5,        # Enable horizontal flipping\n",
    "    mosaic=1.0,\n",
    "    scale=0.5,            # Image scaling (+/- gain)\n",
    "    perspective=0.001,\n",
    "    augment=True\n",
    ")"
   ]
  },
  {
   "cell_type": "code",
   "execution_count": 3,
   "id": "45d33134-881b-4c8e-9511-8aa3230b324f",
   "metadata": {
    "collapsed": true,
    "jupyter": {
     "outputs_hidden": true
    }
   },
   "outputs": [
    {
     "name": "stdout",
     "output_type": "stream",
     "text": [
      "\n",
      "image 1/1 C:\\Users\\raghu\\Downloads\\csci611\\Nvidia_gpu_testing\\datasets\\validate\\Screenshot-1.png: 384x640 (no detections), 52.4ms\n",
      "Speed: 5.0ms preprocess, 52.4ms inference, 0.4ms postprocess per image at shape (1, 3, 384, 640)\n",
      "Saved annotated image: ./runs/detect/predict3\\annotated_Screenshot-1.png\n",
      "\n",
      "image 1/1 C:\\Users\\raghu\\Downloads\\csci611\\Nvidia_gpu_testing\\datasets\\validate\\Screenshot-10.png: 352x640 1 Trafic Light, 50.1ms\n",
      "Speed: 2.7ms preprocess, 50.1ms inference, 1.2ms postprocess per image at shape (1, 3, 352, 640)\n",
      "Saved annotated image: ./runs/detect/predict3\\annotated_Screenshot-10.png\n",
      "\n",
      "image 1/1 C:\\Users\\raghu\\Downloads\\csci611\\Nvidia_gpu_testing\\datasets\\validate\\Screenshot-11.png: 352x640 (no detections), 43.6ms\n",
      "Speed: 1.9ms preprocess, 43.6ms inference, 0.6ms postprocess per image at shape (1, 3, 352, 640)\n",
      "Saved annotated image: ./runs/detect/predict3\\annotated_Screenshot-11.png\n",
      "\n",
      "image 1/1 C:\\Users\\raghu\\Downloads\\csci611\\Nvidia_gpu_testing\\datasets\\validate\\Screenshot-12.png: 352x640 (no detections), 60.9ms\n",
      "Speed: 2.0ms preprocess, 60.9ms inference, 0.6ms postprocess per image at shape (1, 3, 352, 640)\n",
      "Saved annotated image: ./runs/detect/predict3\\annotated_Screenshot-12.png\n",
      "\n",
      "image 1/1 C:\\Users\\raghu\\Downloads\\csci611\\Nvidia_gpu_testing\\datasets\\validate\\Screenshot-13.png: 640x480 1 Stop, 55.9ms\n",
      "Speed: 2.5ms preprocess, 55.9ms inference, 0.8ms postprocess per image at shape (1, 3, 640, 480)\n",
      "Saved annotated image: ./runs/detect/predict3\\annotated_Screenshot-13.png\n",
      "\n",
      "image 1/1 C:\\Users\\raghu\\Downloads\\csci611\\Nvidia_gpu_testing\\datasets\\validate\\Screenshot-14.png: 448x640 (no detections), 65.8ms\n",
      "Speed: 2.6ms preprocess, 65.8ms inference, 0.4ms postprocess per image at shape (1, 3, 448, 640)\n",
      "Saved annotated image: ./runs/detect/predict3\\annotated_Screenshot-14.png\n",
      "\n",
      "image 1/1 C:\\Users\\raghu\\Downloads\\csci611\\Nvidia_gpu_testing\\datasets\\validate\\Screenshot-2.png: 352x640 (no detections), 98.4ms\n",
      "Speed: 3.2ms preprocess, 98.4ms inference, 0.7ms postprocess per image at shape (1, 3, 352, 640)\n",
      "Saved annotated image: ./runs/detect/predict3\\annotated_Screenshot-2.png\n",
      "\n",
      "image 1/1 C:\\Users\\raghu\\Downloads\\csci611\\Nvidia_gpu_testing\\datasets\\validate\\Screenshot-3.png: 352x640 (no detections), 87.3ms\n",
      "Speed: 1.6ms preprocess, 87.3ms inference, 0.6ms postprocess per image at shape (1, 3, 352, 640)\n",
      "Saved annotated image: ./runs/detect/predict3\\annotated_Screenshot-3.png\n",
      "\n",
      "image 1/1 C:\\Users\\raghu\\Downloads\\csci611\\Nvidia_gpu_testing\\datasets\\validate\\Screenshot-4.png: 352x640 (no detections), 45.3ms\n",
      "Speed: 1.5ms preprocess, 45.3ms inference, 0.5ms postprocess per image at shape (1, 3, 352, 640)\n",
      "Saved annotated image: ./runs/detect/predict3\\annotated_Screenshot-4.png\n",
      "\n",
      "image 1/1 C:\\Users\\raghu\\Downloads\\csci611\\Nvidia_gpu_testing\\datasets\\validate\\Screenshot-5.png: 352x640 (no detections), 31.1ms\n",
      "Speed: 1.5ms preprocess, 31.1ms inference, 0.3ms postprocess per image at shape (1, 3, 352, 640)\n",
      "Saved annotated image: ./runs/detect/predict3\\annotated_Screenshot-5.png\n",
      "\n",
      "image 1/1 C:\\Users\\raghu\\Downloads\\csci611\\Nvidia_gpu_testing\\datasets\\validate\\Screenshot-6.png: 352x640 (no detections), 47.2ms\n",
      "Speed: 1.6ms preprocess, 47.2ms inference, 0.6ms postprocess per image at shape (1, 3, 352, 640)\n",
      "Saved annotated image: ./runs/detect/predict3\\annotated_Screenshot-6.png\n",
      "\n",
      "image 1/1 C:\\Users\\raghu\\Downloads\\csci611\\Nvidia_gpu_testing\\datasets\\validate\\Screenshot-7.png: 384x640 1 Speedlimit, 1 Stop, 43.5ms\n",
      "Speed: 1.9ms preprocess, 43.5ms inference, 0.8ms postprocess per image at shape (1, 3, 384, 640)\n",
      "Saved annotated image: ./runs/detect/predict3\\annotated_Screenshot-7.png\n",
      "\n",
      "image 1/1 C:\\Users\\raghu\\Downloads\\csci611\\Nvidia_gpu_testing\\datasets\\validate\\Screenshot-8.png: 384x640 (no detections), 55.6ms\n",
      "Speed: 1.7ms preprocess, 55.6ms inference, 0.5ms postprocess per image at shape (1, 3, 384, 640)\n",
      "Saved annotated image: ./runs/detect/predict3\\annotated_Screenshot-8.png\n",
      "\n",
      "image 1/1 C:\\Users\\raghu\\Downloads\\csci611\\Nvidia_gpu_testing\\datasets\\validate\\Screenshot-9.png: 320x640 (no detections), 44.7ms\n",
      "Speed: 1.5ms preprocess, 44.7ms inference, 0.4ms postprocess per image at shape (1, 3, 320, 640)\n",
      "Saved annotated image: ./runs/detect/predict3\\annotated_Screenshot-9.png\n"
     ]
    }
   ],
   "source": [
    "# Load your custom-trained model\n",
    "# validating the model with 30 epochs and image size of 640\n",
    "import os\n",
    "from ultralytics import YOLO\n",
    "\n",
    "# Load your custom-trained YOLO model\n",
    "model = YOLO(\"./runs/detect/train3/weights/best.pt\")  # Path to your best.pt file\n",
    "\n",
    "# Directory containing the screenshots\n",
    "screenshot_dir = \"./datasets/validate\"  # Replace with the path to your screenshots folder\n",
    "\n",
    "# Output directory to save annotated images\n",
    "output_dir = \"./runs/detect/predict3\"  # Replace with the desired output folder\n",
    "os.makedirs(output_dir, exist_ok=True)  # Create the output directory if it doesn't exist\n",
    "\n",
    "# Loop through all files in the screenshot directory\n",
    "for filename in os.listdir(screenshot_dir):\n",
    "    if filename.startswith(\"Screenshot-\") and filename.endswith((\".png\", \".jpg\", \".jpeg\")):  # Filter for screenshots\n",
    "        # Full path to the screenshot\n",
    "        screenshot_path = os.path.join(screenshot_dir, filename)\n",
    "\n",
    "        # Run YOLO inference on the screenshot\n",
    "        results = model(screenshot_path, conf=0.5)  # Adjust confidence threshold as needed\n",
    "\n",
    "        # Save the annotated image\n",
    "        for result in results:\n",
    "            output_path = os.path.join(output_dir, f\"annotated_{filename}\")\n",
    "            result.save(filename=output_path)  # Save the annotated image\n",
    "            print(f\"Saved annotated image: {output_path}\")\n",
    "\n",
    "        # Optionally, display the annotated image\n",
    "        for result in results:\n",
    "            result.show()  # Display the annotated image"
   ]
  },
  {
   "cell_type": "code",
   "execution_count": 4,
   "id": "f3951b90-0122-4375-b1ce-00d128577f6f",
   "metadata": {
    "collapsed": true,
    "jupyter": {
     "outputs_hidden": true
    }
   },
   "outputs": [
    {
     "name": "stdout",
     "output_type": "stream",
     "text": [
      "\n",
      "image 1/1 C:\\Users\\raghu\\Downloads\\csci611\\Nvidia_gpu_testing\\datasets\\validate\\Screenshot-1.png: 384x640 1 Trafic Light, 1 Speedlimit, 51.9ms\n",
      "Speed: 3.4ms preprocess, 51.9ms inference, 1.0ms postprocess per image at shape (1, 3, 384, 640)\n",
      "Saved annotated image: ./runs/detect/predict1\\annotated_Screenshot-1.png\n",
      "\n",
      "image 1/1 C:\\Users\\raghu\\Downloads\\csci611\\Nvidia_gpu_testing\\datasets\\validate\\Screenshot-10.png: 352x640 2 Trafic Lights, 48.8ms\n",
      "Speed: 3.1ms preprocess, 48.8ms inference, 0.8ms postprocess per image at shape (1, 3, 352, 640)\n",
      "Saved annotated image: ./runs/detect/predict1\\annotated_Screenshot-10.png\n",
      "\n",
      "image 1/1 C:\\Users\\raghu\\Downloads\\csci611\\Nvidia_gpu_testing\\datasets\\validate\\Screenshot-11.png: 352x640 (no detections), 42.5ms\n",
      "Speed: 2.4ms preprocess, 42.5ms inference, 0.5ms postprocess per image at shape (1, 3, 352, 640)\n",
      "Saved annotated image: ./runs/detect/predict1\\annotated_Screenshot-11.png\n",
      "\n",
      "image 1/1 C:\\Users\\raghu\\Downloads\\csci611\\Nvidia_gpu_testing\\datasets\\validate\\Screenshot-12.png: 352x640 (no detections), 52.5ms\n",
      "Speed: 2.0ms preprocess, 52.5ms inference, 0.5ms postprocess per image at shape (1, 3, 352, 640)\n",
      "Saved annotated image: ./runs/detect/predict1\\annotated_Screenshot-12.png\n",
      "\n",
      "image 1/1 C:\\Users\\raghu\\Downloads\\csci611\\Nvidia_gpu_testing\\datasets\\validate\\Screenshot-13.png: 640x480 1 Stop, 79.9ms\n",
      "Speed: 2.1ms preprocess, 79.9ms inference, 1.0ms postprocess per image at shape (1, 3, 640, 480)\n",
      "Saved annotated image: ./runs/detect/predict1\\annotated_Screenshot-13.png\n",
      "\n",
      "image 1/1 C:\\Users\\raghu\\Downloads\\csci611\\Nvidia_gpu_testing\\datasets\\validate\\Screenshot-14.png: 448x640 (no detections), 79.4ms\n",
      "Speed: 1.9ms preprocess, 79.4ms inference, 0.4ms postprocess per image at shape (1, 3, 448, 640)\n",
      "Saved annotated image: ./runs/detect/predict1\\annotated_Screenshot-14.png\n",
      "\n",
      "image 1/1 C:\\Users\\raghu\\Downloads\\csci611\\Nvidia_gpu_testing\\datasets\\validate\\Screenshot-2.png: 352x640 (no detections), 48.9ms\n",
      "Speed: 1.9ms preprocess, 48.9ms inference, 0.5ms postprocess per image at shape (1, 3, 352, 640)\n",
      "Saved annotated image: ./runs/detect/predict1\\annotated_Screenshot-2.png\n",
      "\n",
      "image 1/1 C:\\Users\\raghu\\Downloads\\csci611\\Nvidia_gpu_testing\\datasets\\validate\\Screenshot-3.png: 352x640 (no detections), 115.4ms\n",
      "Speed: 2.6ms preprocess, 115.4ms inference, 0.6ms postprocess per image at shape (1, 3, 352, 640)\n",
      "Saved annotated image: ./runs/detect/predict1\\annotated_Screenshot-3.png\n",
      "\n",
      "image 1/1 C:\\Users\\raghu\\Downloads\\csci611\\Nvidia_gpu_testing\\datasets\\validate\\Screenshot-4.png: 352x640 (no detections), 71.9ms\n",
      "Speed: 2.7ms preprocess, 71.9ms inference, 0.5ms postprocess per image at shape (1, 3, 352, 640)\n",
      "Saved annotated image: ./runs/detect/predict1\\annotated_Screenshot-4.png\n",
      "\n",
      "image 1/1 C:\\Users\\raghu\\Downloads\\csci611\\Nvidia_gpu_testing\\datasets\\validate\\Screenshot-5.png: 352x640 (no detections), 41.1ms\n",
      "Speed: 1.4ms preprocess, 41.1ms inference, 0.6ms postprocess per image at shape (1, 3, 352, 640)\n",
      "Saved annotated image: ./runs/detect/predict1\\annotated_Screenshot-5.png\n",
      "\n",
      "image 1/1 C:\\Users\\raghu\\Downloads\\csci611\\Nvidia_gpu_testing\\datasets\\validate\\Screenshot-6.png: 352x640 (no detections), 69.3ms\n",
      "Speed: 2.6ms preprocess, 69.3ms inference, 0.5ms postprocess per image at shape (1, 3, 352, 640)\n",
      "Saved annotated image: ./runs/detect/predict1\\annotated_Screenshot-6.png\n",
      "\n",
      "image 1/1 C:\\Users\\raghu\\Downloads\\csci611\\Nvidia_gpu_testing\\datasets\\validate\\Screenshot-7.png: 384x640 1 Speedlimit, 1 Stop, 64.4ms\n",
      "Speed: 1.7ms preprocess, 64.4ms inference, 0.9ms postprocess per image at shape (1, 3, 384, 640)\n",
      "Saved annotated image: ./runs/detect/predict1\\annotated_Screenshot-7.png\n",
      "\n",
      "image 1/1 C:\\Users\\raghu\\Downloads\\csci611\\Nvidia_gpu_testing\\datasets\\validate\\Screenshot-8.png: 384x640 1 Trafic Light, 77.0ms\n",
      "Speed: 1.7ms preprocess, 77.0ms inference, 1.0ms postprocess per image at shape (1, 3, 384, 640)\n",
      "Saved annotated image: ./runs/detect/predict1\\annotated_Screenshot-8.png\n",
      "\n",
      "image 1/1 C:\\Users\\raghu\\Downloads\\csci611\\Nvidia_gpu_testing\\datasets\\validate\\Screenshot-9.png: 320x640 (no detections), 58.2ms\n",
      "Speed: 2.0ms preprocess, 58.2ms inference, 0.6ms postprocess per image at shape (1, 3, 320, 640)\n",
      "Saved annotated image: ./runs/detect/predict1\\annotated_Screenshot-9.png\n"
     ]
    }
   ],
   "source": [
    "# Load your custom-trained model\n",
    "# validating the model with 50 epochs and image size of 640\n",
    "import os\n",
    "from ultralytics import YOLO\n",
    "\n",
    "# Load your custom-trained YOLO model\n",
    "model = YOLO(\"./runs/detect/train/weights/best.pt\")  # Path to your best.pt file\n",
    "\n",
    "# Directory containing the screenshots\n",
    "screenshot_dir = \"./datasets/validate\"  # Replace with the path to your screenshots folder\n",
    "\n",
    "# Output directory to save annotated images\n",
    "output_dir = \"./runs/detect/predict1\"  # Replace with the desired output folder\n",
    "os.makedirs(output_dir, exist_ok=True)  # Create the output directory if it doesn't exist\n",
    "\n",
    "# Loop through all files in the screenshot directory\n",
    "for filename in os.listdir(screenshot_dir):\n",
    "    if filename.startswith(\"Screenshot-\") and filename.endswith((\".png\", \".jpg\", \".jpeg\")):  # Filter for screenshots\n",
    "        # Full path to the screenshot\n",
    "        screenshot_path = os.path.join(screenshot_dir, filename)\n",
    "\n",
    "        # Run YOLO inference on the screenshot\n",
    "        results = model(screenshot_path, conf=0.5)  # Adjust confidence threshold as needed\n",
    "\n",
    "        # Save the annotated image\n",
    "        for result in results:\n",
    "            output_path = os.path.join(output_dir, f\"annotated_{filename}\")\n",
    "            result.save(filename=output_path)  # Save the annotated image\n",
    "            print(f\"Saved annotated image: {output_path}\")\n",
    "\n",
    "        # Optionally, display the annotated image\n",
    "        for result in results:\n",
    "            result.show()  # Display the annotated image"
   ]
  },
  {
   "cell_type": "code",
   "execution_count": 5,
   "id": "02c11412-49e3-4dad-a5c4-6215f1fcf58c",
   "metadata": {
    "collapsed": true,
    "jupyter": {
     "outputs_hidden": true
    }
   },
   "outputs": [
    {
     "name": "stdout",
     "output_type": "stream",
     "text": [
      "\n",
      "image 1/1 C:\\Users\\raghu\\Downloads\\csci611\\Nvidia_gpu_testing\\datasets\\validate\\Screenshot-1.png: 736x1280 3 Trafic Lights, 1 Speedlimit, 152.4ms\n",
      "Speed: 9.6ms preprocess, 152.4ms inference, 0.9ms postprocess per image at shape (1, 3, 736, 1280)\n",
      "Saved annotated image: ./runs/detect/predict2\\annotated_Screenshot-1.png\n",
      "\n",
      "image 1/1 C:\\Users\\raghu\\Downloads\\csci611\\Nvidia_gpu_testing\\datasets\\validate\\Screenshot-10.png: 704x1280 2 Trafic Lights, 142.2ms\n",
      "Speed: 10.7ms preprocess, 142.2ms inference, 1.0ms postprocess per image at shape (1, 3, 704, 1280)\n",
      "Saved annotated image: ./runs/detect/predict2\\annotated_Screenshot-10.png\n",
      "\n",
      "image 1/1 C:\\Users\\raghu\\Downloads\\csci611\\Nvidia_gpu_testing\\datasets\\validate\\Screenshot-11.png: 704x1280 (no detections), 137.7ms\n",
      "Speed: 8.4ms preprocess, 137.7ms inference, 0.6ms postprocess per image at shape (1, 3, 704, 1280)\n",
      "Saved annotated image: ./runs/detect/predict2\\annotated_Screenshot-11.png\n",
      "\n",
      "image 1/1 C:\\Users\\raghu\\Downloads\\csci611\\Nvidia_gpu_testing\\datasets\\validate\\Screenshot-12.png: 704x1280 (no detections), 126.2ms\n",
      "Speed: 9.0ms preprocess, 126.2ms inference, 0.6ms postprocess per image at shape (1, 3, 704, 1280)\n",
      "Saved annotated image: ./runs/detect/predict2\\annotated_Screenshot-12.png\n",
      "\n",
      "image 1/1 C:\\Users\\raghu\\Downloads\\csci611\\Nvidia_gpu_testing\\datasets\\validate\\Screenshot-13.png: 1280x960 1 Stop, 215.4ms\n",
      "Speed: 9.0ms preprocess, 215.4ms inference, 1.7ms postprocess per image at shape (1, 3, 1280, 960)\n",
      "Saved annotated image: ./runs/detect/predict2\\annotated_Screenshot-13.png\n",
      "\n",
      "image 1/1 C:\\Users\\raghu\\Downloads\\csci611\\Nvidia_gpu_testing\\datasets\\validate\\Screenshot-14.png: 864x1280 (no detections), 206.4ms\n",
      "Speed: 8.6ms preprocess, 206.4ms inference, 0.6ms postprocess per image at shape (1, 3, 864, 1280)\n",
      "Saved annotated image: ./runs/detect/predict2\\annotated_Screenshot-14.png\n",
      "\n",
      "image 1/1 C:\\Users\\raghu\\Downloads\\csci611\\Nvidia_gpu_testing\\datasets\\validate\\Screenshot-2.png: 704x1280 (no detections), 150.1ms\n",
      "Speed: 10.5ms preprocess, 150.1ms inference, 0.6ms postprocess per image at shape (1, 3, 704, 1280)\n",
      "Saved annotated image: ./runs/detect/predict2\\annotated_Screenshot-2.png\n",
      "\n",
      "image 1/1 C:\\Users\\raghu\\Downloads\\csci611\\Nvidia_gpu_testing\\datasets\\validate\\Screenshot-3.png: 704x1280 2 Trafic Lights, 1 Speedlimit, 169.9ms\n",
      "Speed: 9.3ms preprocess, 169.9ms inference, 1.2ms postprocess per image at shape (1, 3, 704, 1280)\n",
      "Saved annotated image: ./runs/detect/predict2\\annotated_Screenshot-3.png\n",
      "\n",
      "image 1/1 C:\\Users\\raghu\\Downloads\\csci611\\Nvidia_gpu_testing\\datasets\\validate\\Screenshot-4.png: 704x1280 (no detections), 108.8ms\n",
      "Speed: 6.4ms preprocess, 108.8ms inference, 0.5ms postprocess per image at shape (1, 3, 704, 1280)\n",
      "Saved annotated image: ./runs/detect/predict2\\annotated_Screenshot-4.png\n",
      "\n",
      "image 1/1 C:\\Users\\raghu\\Downloads\\csci611\\Nvidia_gpu_testing\\datasets\\validate\\Screenshot-5.png: 704x1280 (no detections), 121.3ms\n",
      "Speed: 5.9ms preprocess, 121.3ms inference, 0.6ms postprocess per image at shape (1, 3, 704, 1280)\n",
      "Saved annotated image: ./runs/detect/predict2\\annotated_Screenshot-5.png\n",
      "\n",
      "image 1/1 C:\\Users\\raghu\\Downloads\\csci611\\Nvidia_gpu_testing\\datasets\\validate\\Screenshot-6.png: 704x1280 (no detections), 131.6ms\n",
      "Speed: 6.5ms preprocess, 131.6ms inference, 1.2ms postprocess per image at shape (1, 3, 704, 1280)\n",
      "Saved annotated image: ./runs/detect/predict2\\annotated_Screenshot-6.png\n",
      "\n",
      "image 1/1 C:\\Users\\raghu\\Downloads\\csci611\\Nvidia_gpu_testing\\datasets\\validate\\Screenshot-7.png: 736x1280 (no detections), 133.9ms\n",
      "Speed: 7.6ms preprocess, 133.9ms inference, 0.7ms postprocess per image at shape (1, 3, 736, 1280)\n",
      "Saved annotated image: ./runs/detect/predict2\\annotated_Screenshot-7.png\n",
      "\n",
      "image 1/1 C:\\Users\\raghu\\Downloads\\csci611\\Nvidia_gpu_testing\\datasets\\validate\\Screenshot-8.png: 768x1280 (no detections), 146.2ms\n",
      "Speed: 7.2ms preprocess, 146.2ms inference, 0.6ms postprocess per image at shape (1, 3, 768, 1280)\n",
      "Saved annotated image: ./runs/detect/predict2\\annotated_Screenshot-8.png\n",
      "\n",
      "image 1/1 C:\\Users\\raghu\\Downloads\\csci611\\Nvidia_gpu_testing\\datasets\\validate\\Screenshot-9.png: 640x1280 (no detections), 139.0ms\n",
      "Speed: 8.3ms preprocess, 139.0ms inference, 1.7ms postprocess per image at shape (1, 3, 640, 1280)\n",
      "Saved annotated image: ./runs/detect/predict2\\annotated_Screenshot-9.png\n"
     ]
    }
   ],
   "source": [
    "# Load your custom-trained model\n",
    "# validating the model with 30 epochs and image size of 1280\n",
    "import os\n",
    "from ultralytics import YOLO\n",
    "\n",
    "# Load your custom-trained YOLO model\n",
    "model = YOLO(\"./runs/detect/train2/weights/best.pt\")  # Path to your best.pt file\n",
    "\n",
    "# Directory containing the screenshots\n",
    "screenshot_dir = \"./datasets/validate\"  # Replace with the path to your screenshots folder\n",
    "\n",
    "# Output directory to save annotated images\n",
    "output_dir = \"./runs/detect/predict2\"  # Replace with the desired output folder\n",
    "os.makedirs(output_dir, exist_ok=True)  # Create the output directory if it doesn't exist\n",
    "\n",
    "# Loop through all files in the screenshot directory\n",
    "for filename in os.listdir(screenshot_dir):\n",
    "    if filename.startswith(\"Screenshot-\") and filename.endswith((\".png\", \".jpg\", \".jpeg\")):  # Filter for screenshots\n",
    "        # Full path to the screenshot\n",
    "        screenshot_path = os.path.join(screenshot_dir, filename)\n",
    "\n",
    "        # Run YOLO inference on the screenshot\n",
    "        results = model(screenshot_path, conf=0.5)  # Adjust confidence threshold as needed\n",
    "\n",
    "        # Save the annotated image\n",
    "        for result in results:\n",
    "            output_path = os.path.join(output_dir, f\"annotated_{filename}\")\n",
    "            result.save(filename=output_path)  # Save the annotated image\n",
    "            print(f\"Saved annotated image: {output_path}\")\n",
    "\n",
    "        # Optionally, display the annotated image\n",
    "        for result in results:\n",
    "            result.show()  # Display the annotated image"
   ]
  },
  {
   "cell_type": "code",
   "execution_count": 6,
   "id": "193e4824-f1c2-402c-9a23-90012e12fa21",
   "metadata": {
    "collapsed": true,
    "jupyter": {
     "outputs_hidden": true
    }
   },
   "outputs": [
    {
     "name": "stdout",
     "output_type": "stream",
     "text": [
      "\n",
      "image 1/1 C:\\Users\\raghu\\Downloads\\csci611\\Nvidia_gpu_testing\\datasets\\validate\\Screenshot-1.png: 384x640 1 Trafic Light, 46.6ms\n",
      "Speed: 3.5ms preprocess, 46.6ms inference, 0.9ms postprocess per image at shape (1, 3, 384, 640)\n",
      "Saved annotated image: ./runs/detect/predict4\\annotated_Screenshot-1.png\n",
      "\n",
      "image 1/1 C:\\Users\\raghu\\Downloads\\csci611\\Nvidia_gpu_testing\\datasets\\validate\\Screenshot-10.png: 352x640 2 Trafic Lights, 51.3ms\n",
      "Speed: 2.5ms preprocess, 51.3ms inference, 0.8ms postprocess per image at shape (1, 3, 352, 640)\n",
      "Saved annotated image: ./runs/detect/predict4\\annotated_Screenshot-10.png\n",
      "\n",
      "image 1/1 C:\\Users\\raghu\\Downloads\\csci611\\Nvidia_gpu_testing\\datasets\\validate\\Screenshot-11.png: 352x640 (no detections), 44.8ms\n",
      "Speed: 1.9ms preprocess, 44.8ms inference, 0.5ms postprocess per image at shape (1, 3, 352, 640)\n",
      "Saved annotated image: ./runs/detect/predict4\\annotated_Screenshot-11.png\n",
      "\n",
      "image 1/1 C:\\Users\\raghu\\Downloads\\csci611\\Nvidia_gpu_testing\\datasets\\validate\\Screenshot-12.png: 352x640 (no detections), 48.4ms\n",
      "Speed: 2.2ms preprocess, 48.4ms inference, 0.5ms postprocess per image at shape (1, 3, 352, 640)\n",
      "Saved annotated image: ./runs/detect/predict4\\annotated_Screenshot-12.png\n",
      "\n",
      "image 1/1 C:\\Users\\raghu\\Downloads\\csci611\\Nvidia_gpu_testing\\datasets\\validate\\Screenshot-13.png: 640x480 1 Stop, 50.7ms\n",
      "Speed: 2.0ms preprocess, 50.7ms inference, 0.7ms postprocess per image at shape (1, 3, 640, 480)\n",
      "Saved annotated image: ./runs/detect/predict4\\annotated_Screenshot-13.png\n",
      "\n",
      "image 1/1 C:\\Users\\raghu\\Downloads\\csci611\\Nvidia_gpu_testing\\datasets\\validate\\Screenshot-14.png: 448x640 (no detections), 48.1ms\n",
      "Speed: 2.0ms preprocess, 48.1ms inference, 0.5ms postprocess per image at shape (1, 3, 448, 640)\n",
      "Saved annotated image: ./runs/detect/predict4\\annotated_Screenshot-14.png\n",
      "\n",
      "image 1/1 C:\\Users\\raghu\\Downloads\\csci611\\Nvidia_gpu_testing\\datasets\\validate\\Screenshot-2.png: 352x640 (no detections), 52.9ms\n",
      "Speed: 1.6ms preprocess, 52.9ms inference, 1.2ms postprocess per image at shape (1, 3, 352, 640)\n",
      "Saved annotated image: ./runs/detect/predict4\\annotated_Screenshot-2.png\n",
      "\n",
      "image 1/1 C:\\Users\\raghu\\Downloads\\csci611\\Nvidia_gpu_testing\\datasets\\validate\\Screenshot-3.png: 352x640 1 Speedlimit, 57.4ms\n",
      "Speed: 2.7ms preprocess, 57.4ms inference, 0.7ms postprocess per image at shape (1, 3, 352, 640)\n",
      "Saved annotated image: ./runs/detect/predict4\\annotated_Screenshot-3.png\n",
      "\n",
      "image 1/1 C:\\Users\\raghu\\Downloads\\csci611\\Nvidia_gpu_testing\\datasets\\validate\\Screenshot-4.png: 352x640 (no detections), 41.8ms\n",
      "Speed: 1.8ms preprocess, 41.8ms inference, 0.5ms postprocess per image at shape (1, 3, 352, 640)\n",
      "Saved annotated image: ./runs/detect/predict4\\annotated_Screenshot-4.png\n",
      "\n",
      "image 1/1 C:\\Users\\raghu\\Downloads\\csci611\\Nvidia_gpu_testing\\datasets\\validate\\Screenshot-5.png: 352x640 (no detections), 40.2ms\n",
      "Speed: 1.5ms preprocess, 40.2ms inference, 0.5ms postprocess per image at shape (1, 3, 352, 640)\n",
      "Saved annotated image: ./runs/detect/predict4\\annotated_Screenshot-5.png\n",
      "\n",
      "image 1/1 C:\\Users\\raghu\\Downloads\\csci611\\Nvidia_gpu_testing\\datasets\\validate\\Screenshot-6.png: 352x640 (no detections), 53.7ms\n",
      "Speed: 1.8ms preprocess, 53.7ms inference, 0.5ms postprocess per image at shape (1, 3, 352, 640)\n",
      "Saved annotated image: ./runs/detect/predict4\\annotated_Screenshot-6.png\n",
      "\n",
      "image 1/1 C:\\Users\\raghu\\Downloads\\csci611\\Nvidia_gpu_testing\\datasets\\validate\\Screenshot-7.png: 384x640 1 Speedlimit, 1 Stop, 50.0ms\n",
      "Speed: 1.7ms preprocess, 50.0ms inference, 0.8ms postprocess per image at shape (1, 3, 384, 640)\n",
      "Saved annotated image: ./runs/detect/predict4\\annotated_Screenshot-7.png\n",
      "\n",
      "image 1/1 C:\\Users\\raghu\\Downloads\\csci611\\Nvidia_gpu_testing\\datasets\\validate\\Screenshot-8.png: 384x640 (no detections), 72.2ms\n",
      "Speed: 3.8ms preprocess, 72.2ms inference, 0.5ms postprocess per image at shape (1, 3, 384, 640)\n",
      "Saved annotated image: ./runs/detect/predict4\\annotated_Screenshot-8.png\n",
      "\n",
      "image 1/1 C:\\Users\\raghu\\Downloads\\csci611\\Nvidia_gpu_testing\\datasets\\validate\\Screenshot-9.png: 320x640 (no detections), 66.6ms\n",
      "Speed: 2.1ms preprocess, 66.6ms inference, 0.5ms postprocess per image at shape (1, 3, 320, 640)\n",
      "Saved annotated image: ./runs/detect/predict4\\annotated_Screenshot-9.png\n"
     ]
    }
   ],
   "source": [
    "# Load your custom-trained model\n",
    "# validating the model with 30 epochs and image size of 640 and data augmentation enabled\n",
    "import os\n",
    "from ultralytics import YOLO\n",
    "\n",
    "# Load your custom-trained YOLO model\n",
    "model = YOLO(\"./runs/detect/train4/weights/best.pt\")  # Path to your best.pt file\n",
    "\n",
    "# Directory containing the screenshots\n",
    "screenshot_dir = \"./datasets/validate\"  # Replace with the path to your screenshots folder\n",
    "\n",
    "# Output directory to save annotated images\n",
    "output_dir = \"./runs/detect/predict4\"  # Replace with the desired output folder\n",
    "os.makedirs(output_dir, exist_ok=True)  # Create the output directory if it doesn't exist\n",
    "\n",
    "# Loop through all files in the screenshot directory\n",
    "for filename in os.listdir(screenshot_dir):\n",
    "    if filename.startswith(\"Screenshot-\") and filename.endswith((\".png\", \".jpg\", \".jpeg\")):  # Filter for screenshots\n",
    "        # Full path to the screenshot\n",
    "        screenshot_path = os.path.join(screenshot_dir, filename)\n",
    "\n",
    "        # Run YOLO inference on the screenshot\n",
    "        results = model(screenshot_path, conf=0.5)  # Adjust confidence threshold as needed\n",
    "\n",
    "        # Save the annotated image\n",
    "        for result in results:\n",
    "            output_path = os.path.join(output_dir, f\"annotated_{filename}\")\n",
    "            result.save(filename=output_path)  # Save the annotated image\n",
    "            print(f\"Saved annotated image: {output_path}\")\n",
    "\n",
    "        # Optionally, display the annotated image\n",
    "        for result in results:\n",
    "            result.show()  # Display the annotated image"
   ]
  },
  {
   "cell_type": "code",
   "execution_count": 7,
   "id": "6450e647-6ee1-4ba6-b4f5-89699c8c9218",
   "metadata": {},
   "outputs": [
    {
     "name": "stdout",
     "output_type": "stream",
     "text": [
      "\n",
      "image 1/1 C:\\Users\\raghu\\Downloads\\csci611\\Nvidia_gpu_testing\\datasets\\test_dataset\\road0.png: 1280x864 1 Trafic Light, 190.2ms\n",
      "Speed: 10.4ms preprocess, 190.2ms inference, 2.7ms postprocess per image at shape (1, 3, 1280, 864)\n",
      "Saved annotated image: ./runs/detect/predict5\\annotated_road0.png\n",
      "\n",
      "image 1/1 C:\\Users\\raghu\\Downloads\\csci611\\Nvidia_gpu_testing\\datasets\\test_dataset\\road1.png: 928x1280 1 Trafic Light, 178.1ms\n",
      "Speed: 10.6ms preprocess, 178.1ms inference, 1.1ms postprocess per image at shape (1, 3, 928, 1280)\n",
      "Saved annotated image: ./runs/detect/predict5\\annotated_road1.png\n",
      "\n",
      "image 1/1 C:\\Users\\raghu\\Downloads\\csci611\\Nvidia_gpu_testing\\datasets\\test_dataset\\road2.png: 1280x992 1 Trafic Light, 186.5ms\n",
      "Speed: 12.1ms preprocess, 186.5ms inference, 0.9ms postprocess per image at shape (1, 3, 1280, 992)\n",
      "Saved annotated image: ./runs/detect/predict5\\annotated_road2.png\n",
      "\n",
      "image 1/1 C:\\Users\\raghu\\Downloads\\csci611\\Nvidia_gpu_testing\\datasets\\test_dataset\\road200.png: 1280x960 3 Trafic Lights, 1 Crosswalk, 135.3ms\n",
      "Speed: 10.3ms preprocess, 135.3ms inference, 34.3ms postprocess per image at shape (1, 3, 1280, 960)\n",
      "Saved annotated image: ./runs/detect/predict5\\annotated_road200.png\n",
      "\n",
      "image 1/1 C:\\Users\\raghu\\Downloads\\csci611\\Nvidia_gpu_testing\\datasets\\test_dataset\\road201.png: 1280x960 1 Speedlimit, 166.3ms\n",
      "Speed: 11.4ms preprocess, 166.3ms inference, 1.1ms postprocess per image at shape (1, 3, 1280, 960)\n",
      "Saved annotated image: ./runs/detect/predict5\\annotated_road201.png\n",
      "\n",
      "image 1/1 C:\\Users\\raghu\\Downloads\\csci611\\Nvidia_gpu_testing\\datasets\\test_dataset\\road202.png: 1280x960 1 Speedlimit, 155.1ms\n",
      "Speed: 13.9ms preprocess, 155.1ms inference, 1.0ms postprocess per image at shape (1, 3, 1280, 960)\n",
      "Saved annotated image: ./runs/detect/predict5\\annotated_road202.png\n",
      "\n",
      "image 1/1 C:\\Users\\raghu\\Downloads\\csci611\\Nvidia_gpu_testing\\datasets\\test_dataset\\road203.png: 1280x960 1 Speedlimit, 144.1ms\n",
      "Speed: 11.5ms preprocess, 144.1ms inference, 1.1ms postprocess per image at shape (1, 3, 1280, 960)\n",
      "Saved annotated image: ./runs/detect/predict5\\annotated_road203.png\n",
      "\n",
      "image 1/1 C:\\Users\\raghu\\Downloads\\csci611\\Nvidia_gpu_testing\\datasets\\test_dataset\\road204.png: 1280x960 1 Crosswalk, 138.3ms\n",
      "Speed: 12.3ms preprocess, 138.3ms inference, 1.1ms postprocess per image at shape (1, 3, 1280, 960)\n",
      "Saved annotated image: ./runs/detect/predict5\\annotated_road204.png\n",
      "\n",
      "image 1/1 C:\\Users\\raghu\\Downloads\\csci611\\Nvidia_gpu_testing\\datasets\\test_dataset\\road205.png: 1280x960 1 Crosswalk, 150.7ms\n",
      "Speed: 11.7ms preprocess, 150.7ms inference, 0.7ms postprocess per image at shape (1, 3, 1280, 960)\n",
      "Saved annotated image: ./runs/detect/predict5\\annotated_road205.png\n",
      "\n",
      "image 1/1 C:\\Users\\raghu\\Downloads\\csci611\\Nvidia_gpu_testing\\datasets\\test_dataset\\road206.png: 1280x960 1 Speedlimit, 144.4ms\n",
      "Speed: 10.5ms preprocess, 144.4ms inference, 0.9ms postprocess per image at shape (1, 3, 1280, 960)\n",
      "Saved annotated image: ./runs/detect/predict5\\annotated_road206.png\n",
      "\n",
      "image 1/1 C:\\Users\\raghu\\Downloads\\csci611\\Nvidia_gpu_testing\\datasets\\test_dataset\\road3.png: 960x1280 1 Trafic Light, 168.7ms\n",
      "Speed: 9.1ms preprocess, 168.7ms inference, 0.9ms postprocess per image at shape (1, 3, 960, 1280)\n",
      "Saved annotated image: ./runs/detect/predict5\\annotated_road3.png\n",
      "\n",
      "image 1/1 C:\\Users\\raghu\\Downloads\\csci611\\Nvidia_gpu_testing\\datasets\\test_dataset\\road350.png: 1280x960 1 Speedlimit, 129.4ms\n",
      "Speed: 12.5ms preprocess, 129.4ms inference, 0.7ms postprocess per image at shape (1, 3, 1280, 960)\n",
      "Saved annotated image: ./runs/detect/predict5\\annotated_road350.png\n",
      "\n",
      "image 1/1 C:\\Users\\raghu\\Downloads\\csci611\\Nvidia_gpu_testing\\datasets\\test_dataset\\road351.png: 1280x960 1 Speedlimit, 98.6ms\n",
      "Speed: 6.4ms preprocess, 98.6ms inference, 0.9ms postprocess per image at shape (1, 3, 1280, 960)\n",
      "Saved annotated image: ./runs/detect/predict5\\annotated_road351.png\n",
      "\n",
      "image 1/1 C:\\Users\\raghu\\Downloads\\csci611\\Nvidia_gpu_testing\\datasets\\test_dataset\\road352.png: 1280x960 1 Speedlimit, 125.1ms\n",
      "Speed: 8.6ms preprocess, 125.1ms inference, 0.8ms postprocess per image at shape (1, 3, 1280, 960)\n",
      "Saved annotated image: ./runs/detect/predict5\\annotated_road352.png\n",
      "\n",
      "image 1/1 C:\\Users\\raghu\\Downloads\\csci611\\Nvidia_gpu_testing\\datasets\\test_dataset\\road353.png: 1280x960 1 Speedlimit, 123.9ms\n",
      "Speed: 8.7ms preprocess, 123.9ms inference, 0.7ms postprocess per image at shape (1, 3, 1280, 960)\n",
      "Saved annotated image: ./runs/detect/predict5\\annotated_road353.png\n",
      "\n",
      "image 1/1 C:\\Users\\raghu\\Downloads\\csci611\\Nvidia_gpu_testing\\datasets\\test_dataset\\road354.png: 1280x960 1 Stop, 119.6ms\n",
      "Speed: 8.0ms preprocess, 119.6ms inference, 0.6ms postprocess per image at shape (1, 3, 1280, 960)\n",
      "Saved annotated image: ./runs/detect/predict5\\annotated_road354.png\n",
      "\n",
      "image 1/1 C:\\Users\\raghu\\Downloads\\csci611\\Nvidia_gpu_testing\\datasets\\test_dataset\\road355.png: 1280x960 1 Speedlimit, 122.8ms\n",
      "Speed: 7.2ms preprocess, 122.8ms inference, 0.8ms postprocess per image at shape (1, 3, 1280, 960)\n",
      "Saved annotated image: ./runs/detect/predict5\\annotated_road355.png\n",
      "\n",
      "image 1/1 C:\\Users\\raghu\\Downloads\\csci611\\Nvidia_gpu_testing\\datasets\\test_dataset\\road356.png: 1280x960 1 Stop, 116.2ms\n",
      "Speed: 8.6ms preprocess, 116.2ms inference, 0.6ms postprocess per image at shape (1, 3, 1280, 960)\n",
      "Saved annotated image: ./runs/detect/predict5\\annotated_road356.png\n",
      "\n",
      "image 1/1 C:\\Users\\raghu\\Downloads\\csci611\\Nvidia_gpu_testing\\datasets\\test_dataset\\road357.png: 1280x960 1 Speedlimit, 120.2ms\n",
      "Speed: 7.7ms preprocess, 120.2ms inference, 0.7ms postprocess per image at shape (1, 3, 1280, 960)\n",
      "Saved annotated image: ./runs/detect/predict5\\annotated_road357.png\n",
      "\n",
      "image 1/1 C:\\Users\\raghu\\Downloads\\csci611\\Nvidia_gpu_testing\\datasets\\test_dataset\\road358.png: 1280x960 1 Speedlimit, 1 Crosswalk, 117.6ms\n",
      "Speed: 7.5ms preprocess, 117.6ms inference, 0.6ms postprocess per image at shape (1, 3, 1280, 960)\n",
      "Saved annotated image: ./runs/detect/predict5\\annotated_road358.png\n",
      "\n",
      "image 1/1 C:\\Users\\raghu\\Downloads\\csci611\\Nvidia_gpu_testing\\datasets\\test_dataset\\road4.png: 1280x864 3 Trafic Lights, 103.7ms\n",
      "Speed: 5.4ms preprocess, 103.7ms inference, 0.6ms postprocess per image at shape (1, 3, 1280, 864)\n",
      "Saved annotated image: ./runs/detect/predict5\\annotated_road4.png\n",
      "\n",
      "image 1/1 C:\\Users\\raghu\\Downloads\\csci611\\Nvidia_gpu_testing\\datasets\\test_dataset\\road5.png: 1280x864 1 Trafic Light, 107.1ms\n",
      "Speed: 5.5ms preprocess, 107.1ms inference, 0.6ms postprocess per image at shape (1, 3, 1280, 864)\n",
      "Saved annotated image: ./runs/detect/predict5\\annotated_road5.png\n",
      "\n",
      "image 1/1 C:\\Users\\raghu\\Downloads\\csci611\\Nvidia_gpu_testing\\datasets\\test_dataset\\road6.png: 1280x864 1 Trafic Light, 105.4ms\n",
      "Speed: 6.2ms preprocess, 105.4ms inference, 0.7ms postprocess per image at shape (1, 3, 1280, 864)\n",
      "Saved annotated image: ./runs/detect/predict5\\annotated_road6.png\n",
      "\n",
      "image 1/1 C:\\Users\\raghu\\Downloads\\csci611\\Nvidia_gpu_testing\\datasets\\test_dataset\\road610.png: 1280x960 1 Speedlimit, 122.1ms\n",
      "Speed: 9.2ms preprocess, 122.1ms inference, 0.6ms postprocess per image at shape (1, 3, 1280, 960)\n",
      "Saved annotated image: ./runs/detect/predict5\\annotated_road610.png\n",
      "\n",
      "image 1/1 C:\\Users\\raghu\\Downloads\\csci611\\Nvidia_gpu_testing\\datasets\\test_dataset\\road611.png: 1280x960 1 Speedlimit, 109.8ms\n",
      "Speed: 6.5ms preprocess, 109.8ms inference, 0.6ms postprocess per image at shape (1, 3, 1280, 960)\n",
      "Saved annotated image: ./runs/detect/predict5\\annotated_road611.png\n",
      "\n",
      "image 1/1 C:\\Users\\raghu\\Downloads\\csci611\\Nvidia_gpu_testing\\datasets\\test_dataset\\road612.png: 1280x960 1 Speedlimit, 115.9ms\n",
      "Speed: 6.3ms preprocess, 115.9ms inference, 0.7ms postprocess per image at shape (1, 3, 1280, 960)\n",
      "Saved annotated image: ./runs/detect/predict5\\annotated_road612.png\n",
      "\n",
      "image 1/1 C:\\Users\\raghu\\Downloads\\csci611\\Nvidia_gpu_testing\\datasets\\test_dataset\\road613.png: 1280x960 1 Speedlimit, 116.4ms\n",
      "Speed: 9.3ms preprocess, 116.4ms inference, 0.7ms postprocess per image at shape (1, 3, 1280, 960)\n",
      "Saved annotated image: ./runs/detect/predict5\\annotated_road613.png\n",
      "\n",
      "image 1/1 C:\\Users\\raghu\\Downloads\\csci611\\Nvidia_gpu_testing\\datasets\\test_dataset\\road614.png: 1280x960 1 Speedlimit, 122.6ms\n",
      "Speed: 8.7ms preprocess, 122.6ms inference, 0.6ms postprocess per image at shape (1, 3, 1280, 960)\n",
      "Saved annotated image: ./runs/detect/predict5\\annotated_road614.png\n",
      "\n",
      "image 1/1 C:\\Users\\raghu\\Downloads\\csci611\\Nvidia_gpu_testing\\datasets\\test_dataset\\road615.png: 1280x960 1 Speedlimit, 1 Crosswalk, 116.6ms\n",
      "Speed: 8.5ms preprocess, 116.6ms inference, 0.7ms postprocess per image at shape (1, 3, 1280, 960)\n",
      "Saved annotated image: ./runs/detect/predict5\\annotated_road615.png\n",
      "\n",
      "image 1/1 C:\\Users\\raghu\\Downloads\\csci611\\Nvidia_gpu_testing\\datasets\\test_dataset\\road616.png: 1280x960 1 Speedlimit, 1 Crosswalk, 120.0ms\n",
      "Speed: 7.9ms preprocess, 120.0ms inference, 0.8ms postprocess per image at shape (1, 3, 1280, 960)\n",
      "Saved annotated image: ./runs/detect/predict5\\annotated_road616.png\n",
      "\n",
      "image 1/1 C:\\Users\\raghu\\Downloads\\csci611\\Nvidia_gpu_testing\\datasets\\test_dataset\\road617.png: 1280x960 1 Speedlimit, 1 Crosswalk, 118.6ms\n",
      "Speed: 8.7ms preprocess, 118.6ms inference, 0.7ms postprocess per image at shape (1, 3, 1280, 960)\n",
      "Saved annotated image: ./runs/detect/predict5\\annotated_road617.png\n",
      "\n",
      "image 1/1 C:\\Users\\raghu\\Downloads\\csci611\\Nvidia_gpu_testing\\datasets\\test_dataset\\road618.png: 1280x960 1 Speedlimit, 115.8ms\n",
      "Speed: 7.7ms preprocess, 115.8ms inference, 0.7ms postprocess per image at shape (1, 3, 1280, 960)\n",
      "Saved annotated image: ./runs/detect/predict5\\annotated_road618.png\n",
      "\n",
      "image 1/1 C:\\Users\\raghu\\Downloads\\csci611\\Nvidia_gpu_testing\\datasets\\test_dataset\\road7.png: 1280x1024 1 Trafic Light, 141.1ms\n",
      "Speed: 7.4ms preprocess, 141.1ms inference, 0.6ms postprocess per image at shape (1, 3, 1280, 1024)\n",
      "Saved annotated image: ./runs/detect/predict5\\annotated_road7.png\n",
      "\n",
      "image 1/1 C:\\Users\\raghu\\Downloads\\csci611\\Nvidia_gpu_testing\\datasets\\test_dataset\\road869.png: 1280x960 1 Speedlimit, 119.1ms\n",
      "Speed: 8.0ms preprocess, 119.1ms inference, 0.7ms postprocess per image at shape (1, 3, 1280, 960)\n",
      "Saved annotated image: ./runs/detect/predict5\\annotated_road869.png\n",
      "\n",
      "image 1/1 C:\\Users\\raghu\\Downloads\\csci611\\Nvidia_gpu_testing\\datasets\\test_dataset\\road870.png: 1280x960 1 Speedlimit, 120.4ms\n",
      "Speed: 6.6ms preprocess, 120.4ms inference, 0.7ms postprocess per image at shape (1, 3, 1280, 960)\n",
      "Saved annotated image: ./runs/detect/predict5\\annotated_road870.png\n",
      "\n",
      "image 1/1 C:\\Users\\raghu\\Downloads\\csci611\\Nvidia_gpu_testing\\datasets\\test_dataset\\road871.png: 1280x960 1 Speedlimit, 116.7ms\n",
      "Speed: 8.1ms preprocess, 116.7ms inference, 0.6ms postprocess per image at shape (1, 3, 1280, 960)\n",
      "Saved annotated image: ./runs/detect/predict5\\annotated_road871.png\n",
      "\n",
      "image 1/1 C:\\Users\\raghu\\Downloads\\csci611\\Nvidia_gpu_testing\\datasets\\test_dataset\\road872.png: 1280x960 1 Speedlimit, 1 Stop, 117.8ms\n",
      "Speed: 10.1ms preprocess, 117.8ms inference, 0.6ms postprocess per image at shape (1, 3, 1280, 960)\n",
      "Saved annotated image: ./runs/detect/predict5\\annotated_road872.png\n",
      "\n",
      "image 1/1 C:\\Users\\raghu\\Downloads\\csci611\\Nvidia_gpu_testing\\datasets\\test_dataset\\road873.png: 1280x960 2 Speedlimits, 1 Stop, 122.0ms\n",
      "Speed: 8.4ms preprocess, 122.0ms inference, 0.8ms postprocess per image at shape (1, 3, 1280, 960)\n",
      "Saved annotated image: ./runs/detect/predict5\\annotated_road873.png\n",
      "\n",
      "image 1/1 C:\\Users\\raghu\\Downloads\\csci611\\Nvidia_gpu_testing\\datasets\\test_dataset\\road874.png: 1280x960 2 Speedlimits, 1 Stop, 118.6ms\n",
      "Speed: 8.8ms preprocess, 118.6ms inference, 0.7ms postprocess per image at shape (1, 3, 1280, 960)\n",
      "Saved annotated image: ./runs/detect/predict5\\annotated_road874.png\n",
      "\n",
      "image 1/1 C:\\Users\\raghu\\Downloads\\csci611\\Nvidia_gpu_testing\\datasets\\test_dataset\\road875.png: 1280x960 2 Speedlimits, 1 Stop, 120.7ms\n",
      "Speed: 7.0ms preprocess, 120.7ms inference, 0.8ms postprocess per image at shape (1, 3, 1280, 960)\n",
      "Saved annotated image: ./runs/detect/predict5\\annotated_road875.png\n",
      "\n",
      "image 1/1 C:\\Users\\raghu\\Downloads\\csci611\\Nvidia_gpu_testing\\datasets\\test_dataset\\road876.png: 1280x960 1 Speedlimit, 1 Stop, 119.9ms\n",
      "Speed: 10.2ms preprocess, 119.9ms inference, 0.7ms postprocess per image at shape (1, 3, 1280, 960)\n",
      "Saved annotated image: ./runs/detect/predict5\\annotated_road876.png\n"
     ]
    }
   ],
   "source": [
    "# Load your custom-trained model\n",
    "# validating the model with 50 epochs and image size of 640\n",
    "import os\n",
    "from ultralytics import YOLO\n",
    "\n",
    "# Load your custom-trained YOLO model\n",
    "model = YOLO(\"./runs/detect/train2/weights/best.pt\")  # Path to your best.pt file\n",
    "\n",
    "# Directory containing the screenshots\n",
    "screenshot_dir = \"./datasets/test_dataset\"  # Replace with the path to your screenshots folder\n",
    "\n",
    "# Output directory to save annotated images\n",
    "output_dir = \"./runs/detect/predict5\"  # Replace with the desired output folder\n",
    "os.makedirs(output_dir, exist_ok=True)  # Create the output directory if it doesn't exist\n",
    "\n",
    "# Loop through all files in the screenshot directory\n",
    "for filename in os.listdir(screenshot_dir):\n",
    "    if filename.endswith((\".png\", \".jpg\", \".jpeg\")):  # Filter for screenshots\n",
    "        # Full path to the screenshot\n",
    "        screenshot_path = os.path.join(screenshot_dir, filename)\n",
    "\n",
    "        # Run YOLO inference on the screenshot\n",
    "        results = model(screenshot_path, conf=0.5)  # Adjust confidence threshold as needed\n",
    "\n",
    "        # Save the annotated image\n",
    "        for result in results:\n",
    "            output_path = os.path.join(output_dir, f\"annotated_{filename}\")\n",
    "            result.save(filename=output_path)  # Save the annotated image\n",
    "            print(f\"Saved annotated image: {output_path}\")\n",
    "\n",
    "        # # Optionally, display the annotated image\n",
    "        # for result in results:\n",
    "        #     result.show()"
   ]
  },
  {
   "cell_type": "code",
   "execution_count": null,
   "id": "7b4d6c99-adec-4513-a1ff-ae40d29f0d96",
   "metadata": {},
   "outputs": [],
   "source": []
  }
 ],
 "metadata": {
  "kernelspec": {
   "display_name": "Python 3 (ipykernel)",
   "language": "python",
   "name": "python3"
  },
  "language_info": {
   "codemirror_mode": {
    "name": "ipython",
    "version": 3
   },
   "file_extension": ".py",
   "mimetype": "text/x-python",
   "name": "python",
   "nbconvert_exporter": "python",
   "pygments_lexer": "ipython3",
   "version": "3.13.1"
  }
 },
 "nbformat": 4,
 "nbformat_minor": 5
}
